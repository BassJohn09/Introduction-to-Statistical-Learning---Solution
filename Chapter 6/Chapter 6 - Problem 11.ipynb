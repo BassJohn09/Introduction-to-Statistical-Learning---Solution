{
 "cells": [
  {
   "cell_type": "markdown",
   "metadata": {},
   "source": [
    "## Chapter 6 - Problem 11\n",
    "***"
   ]
  },
  {
   "cell_type": "markdown",
   "metadata": {},
   "source": [
    "**11.** We will now try to predict per capita crime rate in the Boston data\n",
    "set."
   ]
  },
  {
   "cell_type": "markdown",
   "metadata": {},
   "source": [
    "**A.** Try out some of the regression methods explored in this chapter,\n",
    "such as best subset selection, the lasso, ridge regression, and\n",
    "PCR. Present and discuss results for the approaches that you\n",
    "consider."
   ]
  },
  {
   "cell_type": "code",
   "execution_count": 14,
   "metadata": {},
   "outputs": [
    {
     "data": {
      "image/png": "[encoded data removed]",
      "text/plain": [
       "Plot with title \"Histogram of log(Boston$crim)\""
      ]
     },
     "metadata": {},
     "output_type": "display_data"
    }
   ],
   "source": [
    "library(MASS)\n",
    "par(mfrow = c(1,2))\n",
    "hist(Boston$crim)\n",
    "hist(log(Boston$crim))"
   ]
  },
  {
   "cell_type": "markdown",
   "metadata": {},
   "source": [
    "Crime does not distribute normally according to the histogram, I will use a logarithmic transformation to improve the model."
   ]
  },
  {
   "cell_type": "code",
   "execution_count": 15,
   "metadata": {},
   "outputs": [
    {
     "data": {
      "image/png": "[encoded data removed]",
      "text/plain": [
       "plot without title"
      ]
     },
     "metadata": {},
     "output_type": "display_data"
    }
   ],
   "source": [
    "library(leaps)\n",
    "Boston.mod <- Boston\n",
    "Boston.mod$crim <- log(Boston.mod$crim)\n",
    "\n",
    "predict.regsubsets =function (object ,newdata ,id ,...){\n",
    "    form <-as.formula (object$call[[2]])\n",
    "    mat <- model.matrix(form,newdata)\n",
    "    coefi <- coef(object,id=id)\n",
    "    xvars <- names (coefi)\n",
    "    mat[,xvars]%*% coefi\n",
    "}\n",
    "\n",
    "## 10 fold Cross validation\n",
    "k = 10\n",
    "p = 13\n",
    "folds = sample(rep(1:k, length = nrow(Boston.mod)))\n",
    "cv.errors.best = matrix(NA, k, p)\n",
    "\n",
    "for (i in 1:k) {\n",
    "    best.fit = regsubsets(crim ~ ., data = Boston.mod[folds != i, ], nvmax = 13)\n",
    "    for (j in 1:p) {\n",
    "        pred = predict(best.fit, Boston[folds == i,], id = j)\n",
    "        cv.errors.best[i, j] = mean((Boston$crim[folds == i] - pred)^2)\n",
    "    }\n",
    "}\n",
    "\n",
    "best.rmse.cv = sqrt(apply(cv.errors.best, 2, mean))\n",
    "plot(best.rmse.cv, pch = 19, type = \"b\")"
   ]
  },
  {
   "cell_type": "code",
   "execution_count": 16,
   "metadata": {},
   "outputs": [
    {
     "data": {
      "text/html": [
       "7"
      ],
      "text/latex": [
       "7"
      ],
      "text/markdown": [
       "7"
      ],
      "text/plain": [
       "[1] 7"
      ]
     },
     "metadata": {},
     "output_type": "display_data"
    },
    {
     "data": {
      "text/html": [
       "8.72702166942167"
      ],
      "text/latex": [
       "8.72702166942167"
      ],
      "text/markdown": [
       "8.72702166942167"
      ],
      "text/plain": [
       "[1] 8.727022"
      ]
     },
     "metadata": {},
     "output_type": "display_data"
    },
    {
     "data": {
      "text/html": [
       "<dl class=dl-horizontal>\n",
       "\t<dt>(Intercept)</dt>\n",
       "\t\t<dd>-3.90315686334303</dd>\n",
       "\t<dt>zn</dt>\n",
       "\t\t<dd>-0.0125953059309457</dd>\n",
       "\t<dt>nox</dt>\n",
       "\t\t<dd>4.33403507510183</dd>\n",
       "\t<dt>age</dt>\n",
       "\t\t<dd>0.00663258042306863</dd>\n",
       "\t<dt>rad</dt>\n",
       "\t\t<dd>0.143506160985536</dd>\n",
       "\t<dt>ptratio</dt>\n",
       "\t\t<dd>-0.0442427234738092</dd>\n",
       "\t<dt>black</dt>\n",
       "\t\t<dd>-0.00141603801900919</dd>\n",
       "\t<dt>lstat</dt>\n",
       "\t\t<dd>0.0283046867390264</dd>\n",
       "</dl>\n"
      ],
      "text/latex": [
       "\\begin{description*}\n",
       "\\item[(Intercept)] -3.90315686334303\n",
       "\\item[zn] -0.0125953059309457\n",
       "\\item[nox] 4.33403507510183\n",
       "\\item[age] 0.00663258042306863\n",
       "\\item[rad] 0.143506160985536\n",
       "\\item[ptratio] -0.0442427234738092\n",
       "\\item[black] -0.00141603801900919\n",
       "\\item[lstat] 0.0283046867390264\n",
       "\\end{description*}\n"
      ],
      "text/markdown": [
       "(Intercept)\n",
       ":   -3.90315686334303zn\n",
       ":   -0.0125953059309457nox\n",
       ":   4.33403507510183age\n",
       ":   0.00663258042306863rad\n",
       ":   0.143506160985536ptratio\n",
       ":   -0.0442427234738092black\n",
       ":   -0.00141603801900919lstat\n",
       ":   0.0283046867390264\n",
       "\n"
      ],
      "text/plain": [
       " (Intercept)           zn          nox          age          rad      ptratio \n",
       "-3.903156863 -0.012595306  4.334035075  0.006632580  0.143506161 -0.044242723 \n",
       "       black        lstat \n",
       "-0.001416038  0.028304687 "
      ]
     },
     "metadata": {},
     "output_type": "display_data"
    }
   ],
   "source": [
    "which.min(best.rmse.cv)\n",
    "best.rmse = min(best.rmse.cv)\n",
    "best.rmse\n",
    "best.fit = regsubsets(crim ~ ., data = Boston.mod, nvmax = 13)\n",
    "coef(best.fit,which.min(best.rmse.cv))\n"
   ]
  },
  {
   "cell_type": "code",
   "execution_count": 17,
   "metadata": {},
   "outputs": [
    {
     "data": {
      "text/plain": [
       "14 x 1 sparse Matrix of class \"dgCMatrix\"\n",
       "                       1\n",
       "(Intercept) -4.051004766\n",
       "zn          -0.008832022\n",
       "indus        0.017327978\n",
       "chas         0.043479326\n",
       "nox          3.152516926\n",
       "rm          -0.008649005\n",
       "age          0.006014085\n",
       "dis         -0.064983674\n",
       "rad          0.084563133\n",
       "tax          0.002030474\n",
       "ptratio     -0.005735834\n",
       "black       -0.001785148\n",
       "lstat        0.027102954\n",
       "medv         0.003462221"
      ]
     },
     "metadata": {},
     "output_type": "display_data"
    }
   ],
   "source": [
    "library(glmnet)\n",
    "\n",
    "x <- model.matrix(crim~.-1,data = Boston.mod) #Eliminates intercept\n",
    "y <- Boston.mod$crim\n",
    "\n",
    "param <- seq(5,-2,length = 100)\n",
    "lambdas <- 10^param\n",
    "ridge.cv <- cv.glmnet(x,y,alpha = 0,lambda = lambdas)\n",
    "coef(ridge.cv)"
   ]
  },
  {
   "cell_type": "code",
   "execution_count": 18,
   "metadata": {},
   "outputs": [
    {
     "data": {
      "text/html": [
       "0.813215166436943"
      ],
      "text/latex": [
       "0.813215166436943"
      ],
      "text/markdown": [
       "0.813215166436943"
      ],
      "text/plain": [
       "[1] 0.8132152"
      ]
     },
     "metadata": {},
     "output_type": "display_data"
    }
   ],
   "source": [
    "loc <- which(ridge.cv$lambda == ridge.cv$lambda.1se)\n",
    "ridge.rmse <- sqrt(ridge.cv$cvm[loc])\n",
    "ridge.rmse"
   ]
  },
  {
   "cell_type": "markdown",
   "metadata": {},
   "source": [
    "Due to the minimum near 0 for the ridge regression, a least square model is preferred over the ridge regression."
   ]
  },
  {
   "cell_type": "code",
   "execution_count": 19,
   "metadata": {},
   "outputs": [
    {
     "data": {
      "image/png": "[encoded data removed]",
      "text/plain": [
       "plot without title"
      ]
     },
     "metadata": {},
     "output_type": "display_data"
    }
   ],
   "source": [
    "lasso.cv <- cv.glmnet(x,y,alpha = 1,lambda = lambdas,type.measure = \"mse\")\n",
    "plot(lasso.cv)"
   ]
  },
  {
   "cell_type": "code",
   "execution_count": 20,
   "metadata": {},
   "outputs": [
    {
     "data": {
      "text/plain": [
       "14 x 1 sparse Matrix of class \"dgCMatrix\"\n",
       "                        1\n",
       "(Intercept) -4.7112979186\n",
       "zn          -0.0064244567\n",
       "indus        0.0134937494\n",
       "chas         .           \n",
       "nox          4.2502909020\n",
       "rm           .           \n",
       "age          0.0046010031\n",
       "dis         -0.0274976117\n",
       "rad          0.1300520912\n",
       "tax          .           \n",
       "ptratio      .           \n",
       "black       -0.0005375367\n",
       "lstat        0.0185426143\n",
       "medv         .           "
      ]
     },
     "metadata": {},
     "output_type": "display_data"
    }
   ],
   "source": [
    "coef(lasso.cv)"
   ]
  },
  {
   "cell_type": "code",
   "execution_count": 21,
   "metadata": {},
   "outputs": [
    {
     "data": {
      "text/html": [
       "0.804785680918796"
      ],
      "text/latex": [
       "0.804785680918796"
      ],
      "text/markdown": [
       "0.804785680918796"
      ],
      "text/plain": [
       "[1] 0.8047857"
      ]
     },
     "metadata": {},
     "output_type": "display_data"
    }
   ],
   "source": [
    "loc <- which(lasso.cv$lambda == lasso.cv$lambda.1se)\n",
    "lasso.rmse <- sqrt(lasso.cv$cvm[loc])\n",
    "lasso.rmse"
   ]
  },
  {
   "cell_type": "code",
   "execution_count": 22,
   "metadata": {},
   "outputs": [
    {
     "name": "stdout",
     "output_type": "stream",
     "text": [
      "Data: \tX dimension: 506 13 \n",
      "\tY dimension: 506 1\n",
      "Fit method: kernelpls\n",
      "Number of components considered: 13\n",
      "\n",
      "VALIDATION: RMSEP\n",
      "Cross-validated using 10 random segments.\n",
      "       (Intercept)  1 comps  2 comps  3 comps  4 comps  5 comps  6 comps\n",
      "CV           2.164   0.9947   0.8506   0.8190   0.7999   0.7947   0.7914\n",
      "adjCV        2.164   0.9944   0.8499   0.8181   0.7987   0.7935   0.7898\n",
      "       7 comps  8 comps  9 comps  10 comps  11 comps  12 comps  13 comps\n",
      "CV      0.7895   0.7882   0.7877    0.7878    0.7880    0.7880    0.7880\n",
      "adjCV   0.7881   0.7868   0.7863    0.7865    0.7866    0.7866    0.7866\n",
      "\n",
      "TRAINING: % variance explained\n",
      "      1 comps  2 comps  3 comps  4 comps  5 comps  6 comps  7 comps  8 comps\n",
      "X       47.52    58.15    66.00    72.08    76.37    78.54    83.84    85.99\n",
      "crim    79.09    85.03    86.32    87.05    87.26    87.47    87.51    87.53\n",
      "      9 comps  10 comps  11 comps  12 comps  13 comps\n",
      "X       88.22     92.39     96.47     98.24    100.00\n",
      "crim    87.54     87.54     87.54     87.54     87.54\n"
     ]
    }
   ],
   "source": [
    "require(pls)\n",
    "pls.fit <- plsr(crim ~ ., data = Boston.mod, scale = TRUE, validation = \"CV\")\n",
    "summary(pls.fit)"
   ]
  },
  {
   "cell_type": "markdown",
   "metadata": {},
   "source": [
    "**B.** Propose a model (or set of models) that seem to perform well on\n",
    "this data set, and justify your answer. Make sure that you are\n",
    "evaluating model performance using validation set error, crossvalidation,\n",
    "or some other reasonable alternative, as opposed to\n",
    "using training error."
   ]
  },
  {
   "cell_type": "markdown",
   "metadata": {},
   "source": [
    "* Although Partial Squares has the least RMSE of all models, Lasso has a simpler model with a low RMSE. Hence this is the model i would choose"
   ]
  },
  {
   "cell_type": "code",
   "execution_count": 23,
   "metadata": {},
   "outputs": [
    {
     "data": {
      "image/png": "[encoded data removed]",
      "text/plain": [
       "plot without title"
      ]
     },
     "metadata": {},
     "output_type": "display_data"
    }
   ],
   "source": [
    "lasso.fit <- glmnet(x,y,alpha = 1,lambda = lambdas)\n",
    "lasso.pred <- predict(lasso.fit,newx = x)\n",
    "lasso.rmse <- sqrt(apply((y-lasso.pred)^2,2,mean)) \n",
    "plot(log(lasso.fit$lambda),lasso.rmse,type = \"b\",xlab = \"log(Lambda)\",pch = 19)"
   ]
  },
  {
   "cell_type": "code",
   "execution_count": null,
   "metadata": {},
   "outputs": [],
   "source": [
    "**C.**Does your chosen model involve all of the features in the data\n",
    "set? Why or why not?"
   ]
  },
  {
   "cell_type": "markdown",
   "metadata": {},
   "source": [
    "No, because not all predictors are significant. several variables like tax or ptratio have been discarded by the regression method"
   ]
  },
  {
   "cell_type": "code",
   "execution_count": null,
   "metadata": {},
   "outputs": [],
   "source": []
  }
 ],
 "metadata": {
  "kernelspec": {
   "display_name": "R",
   "language": "R",
   "name": "ir"
  },
  "language_info": {
   "codemirror_mode": "r",
   "file_extension": ".r",
   "mimetype": "text/x-r-source",
   "name": "R",
   "pygments_lexer": "r",
   "version": "3.5.1"
  }
 },
 "nbformat": 4,
 "nbformat_minor": 2
}
