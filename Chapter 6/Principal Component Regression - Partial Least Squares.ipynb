{
 "cells": [
  {
   "cell_type": "markdown",
   "metadata": {},
   "source": [
    "## Principal component regression\n",
    "***"
   ]
  },
  {
   "cell_type": "code",
   "execution_count": 10,
   "metadata": {},
   "outputs": [],
   "source": [
    "require(pls)\n",
    "library(ISLR)\n",
    "Hitters <- na.omit(Hitters)"
   ]
  },
  {
   "cell_type": "markdown",
   "metadata": {},
   "source": [
    "*scale = True* - Standarization of each predictor. <br>\n",
    "*validation = CV* - compute the 10 fold croos validation error for every possible M."
   ]
  },
  {
   "cell_type": "code",
   "execution_count": 55,
   "metadata": {},
   "outputs": [
    {
     "name": "stdout",
     "output_type": "stream",
     "text": [
      "Data: \tX dimension: 263 19 \n",
      "\tY dimension: 263 1\n",
      "Fit method: svdpc\n",
      "Number of components considered: 19\n",
      "\n",
      "VALIDATION: RMSEP\n",
      "Cross-validated using 10 random segments.\n",
      "       (Intercept)  1 comps  2 comps  3 comps  4 comps  5 comps  6 comps\n",
      "CV             452    355.4    354.5    354.2    350.7    348.6    347.6\n",
      "adjCV          452    354.9    354.0    353.6    350.1    347.8    346.6\n",
      "       7 comps  8 comps  9 comps  10 comps  11 comps  12 comps  13 comps\n",
      "CV       347.8    349.1    350.7     355.0     355.5     358.2     360.8\n",
      "adjCV    346.8    348.0    349.5     353.4     353.9     356.5     359.0\n",
      "       14 comps  15 comps  16 comps  17 comps  18 comps  19 comps\n",
      "CV        354.9     355.3     346.4     348.7     346.3     350.7\n",
      "adjCV     352.8     353.3     344.3     346.3     344.0     348.1\n",
      "\n",
      "TRAINING: % variance explained\n",
      "        1 comps  2 comps  3 comps  4 comps  5 comps  6 comps  7 comps  8 comps\n",
      "X         38.31    60.16    70.84    79.03    84.29    88.63    92.26    94.96\n",
      "Salary    40.63    41.58    42.17    43.22    44.90    46.48    46.69    46.75\n",
      "        9 comps  10 comps  11 comps  12 comps  13 comps  14 comps  15 comps\n",
      "X         96.28     97.26     97.98     98.65     99.15     99.47     99.75\n",
      "Salary    46.86     47.76     47.82     47.85     48.10     50.40     50.55\n",
      "        16 comps  17 comps  18 comps  19 comps\n",
      "X          99.89     99.97     99.99    100.00\n",
      "Salary     53.01     53.85     54.61     54.61\n"
     ]
    }
   ],
   "source": [
    "x <- model.matrix (Salary∼.,Hitters)[,-1]\n",
    "y <- Hitters$Salary\n",
    "pcr.fit <- pcr(Salary ~ ., data = Hitters, scale = TRUE, validation = \"CV\")\n",
    "summary(pcr.fit)"
   ]
  },
  {
   "cell_type": "markdown",
   "metadata": {},
   "source": [
    "Note: pcr() reports the root mean squared error; in order to obtain the usual MSE, we must square this quantity."
   ]
  },
  {
   "cell_type": "code",
   "execution_count": 15,
   "metadata": {},
   "outputs": [
    {
     "data": {
      "image/png": "[encoded data removed]",
      "text/plain": [
       "Plot with title \"Salary\""
      ]
     },
     "metadata": {},
     "output_type": "display_data"
    }
   ],
   "source": [
    "validationplot(pcr.fit,val.type = \"MSEP\")"
   ]
  },
  {
   "cell_type": "code",
   "execution_count": 63,
   "metadata": {},
   "outputs": [
    {
     "data": {
      "image/png": "[encoded data removed]",
      "text/plain": [
       "Plot with title \"Salary\""
      ]
     },
     "metadata": {},
     "output_type": "display_data"
    }
   ],
   "source": [
    "train <- sample(seq(nrow(Hitters)),180,replace = FALSE)\n",
    "pcr.fit.train <- pcr(Salary ~ ., data = Hitters[train,], scale = TRUE, validation = \"CV\")\n",
    "validationplot(pcr.fit.train,val.type = \"MSEP\")"
   ]
  },
  {
   "cell_type": "code",
   "execution_count": 64,
   "metadata": {},
   "outputs": [
    {
     "data": {
      "text/html": [
       "<table>\n",
       "<thead><tr><th></th><th scope=col>CVE</th><th scope=col>adjCVE</th></tr></thead>\n",
       "<tbody>\n",
       "\t<tr><th scope=row>16</th><td>123137.0</td><td>121807.7</td></tr>\n",
       "\t<tr><th scope=row>17</th><td>124962.0</td><td>123407.6</td></tr>\n",
       "\t<tr><th scope=row>18</th><td>126615.4</td><td>124938.5</td></tr>\n",
       "\t<tr><th scope=row>3</th><td>129464.0</td><td>129036.5</td></tr>\n",
       "\t<tr><th scope=row>5</th><td>129491.5</td><td>128899.0</td></tr>\n",
       "\t<tr><th scope=row>4</th><td>129606.5</td><td>129120.6</td></tr>\n",
       "\t<tr><th scope=row>19</th><td>129932.8</td><td>128056.4</td></tr>\n",
       "\t<tr><th scope=row>7</th><td>130004.6</td><td>129236.7</td></tr>\n",
       "\t<tr><th scope=row>8</th><td>130017.0</td><td>129225.8</td></tr>\n",
       "\t<tr><th scope=row>6</th><td>131291.9</td><td>130614.7</td></tr>\n",
       "\t<tr><th scope=row>2</th><td>131379.0</td><td>130998.2</td></tr>\n",
       "\t<tr><th scope=row>15</th><td>133366.2</td><td>131739.1</td></tr>\n",
       "\t<tr><th scope=row>9</th><td>134294.9</td><td>133408.2</td></tr>\n",
       "\t<tr><th scope=row>1</th><td>134374.5</td><td>133971.3</td></tr>\n",
       "\t<tr><th scope=row>14</th><td>134544.4</td><td>132587.9</td></tr>\n",
       "\t<tr><th scope=row>10</th><td>136814.9</td><td>135531.1</td></tr>\n",
       "\t<tr><th scope=row>11</th><td>137006.8</td><td>135748.4</td></tr>\n",
       "\t<tr><th scope=row>12</th><td>140179.4</td><td>138671.7</td></tr>\n",
       "\t<tr><th scope=row>13</th><td>143939.1</td><td>142417.8</td></tr>\n",
       "\t<tr><th scope=row>0</th><td>209439.9</td><td>209439.9</td></tr>\n",
       "</tbody>\n",
       "</table>\n"
      ],
      "text/latex": [
       "\\begin{tabular}{r|ll}\n",
       "  & CVE & adjCVE\\\\\n",
       "\\hline\n",
       "\t16 & 123137.0 & 121807.7\\\\\n",
       "\t17 & 124962.0 & 123407.6\\\\\n",
       "\t18 & 126615.4 & 124938.5\\\\\n",
       "\t3 & 129464.0 & 129036.5\\\\\n",
       "\t5 & 129491.5 & 128899.0\\\\\n",
       "\t4 & 129606.5 & 129120.6\\\\\n",
       "\t19 & 129932.8 & 128056.4\\\\\n",
       "\t7 & 130004.6 & 129236.7\\\\\n",
       "\t8 & 130017.0 & 129225.8\\\\\n",
       "\t6 & 131291.9 & 130614.7\\\\\n",
       "\t2 & 131379.0 & 130998.2\\\\\n",
       "\t15 & 133366.2 & 131739.1\\\\\n",
       "\t9 & 134294.9 & 133408.2\\\\\n",
       "\t1 & 134374.5 & 133971.3\\\\\n",
       "\t14 & 134544.4 & 132587.9\\\\\n",
       "\t10 & 136814.9 & 135531.1\\\\\n",
       "\t11 & 137006.8 & 135748.4\\\\\n",
       "\t12 & 140179.4 & 138671.7\\\\\n",
       "\t13 & 143939.1 & 142417.8\\\\\n",
       "\t0 & 209439.9 & 209439.9\\\\\n",
       "\\end{tabular}\n"
      ],
      "text/markdown": [
       "\n",
       "| <!--/--> | CVE | adjCVE | \n",
       "|---|---|---|---|---|---|---|---|---|---|---|---|---|---|---|---|---|---|---|---|\n",
       "| 16 | 123137.0 | 121807.7 | \n",
       "| 17 | 124962.0 | 123407.6 | \n",
       "| 18 | 126615.4 | 124938.5 | \n",
       "| 3 | 129464.0 | 129036.5 | \n",
       "| 5 | 129491.5 | 128899.0 | \n",
       "| 4 | 129606.5 | 129120.6 | \n",
       "| 19 | 129932.8 | 128056.4 | \n",
       "| 7 | 130004.6 | 129236.7 | \n",
       "| 8 | 130017.0 | 129225.8 | \n",
       "| 6 | 131291.9 | 130614.7 | \n",
       "| 2 | 131379.0 | 130998.2 | \n",
       "| 15 | 133366.2 | 131739.1 | \n",
       "| 9 | 134294.9 | 133408.2 | \n",
       "| 1 | 134374.5 | 133971.3 | \n",
       "| 14 | 134544.4 | 132587.9 | \n",
       "| 10 | 136814.9 | 135531.1 | \n",
       "| 11 | 137006.8 | 135748.4 | \n",
       "| 12 | 140179.4 | 138671.7 | \n",
       "| 13 | 143939.1 | 142417.8 | \n",
       "| 0 | 209439.9 | 209439.9 | \n",
       "\n",
       "\n"
      ],
      "text/plain": [
       "   CVE      adjCVE  \n",
       "16 123137.0 121807.7\n",
       "17 124962.0 123407.6\n",
       "18 126615.4 124938.5\n",
       "3  129464.0 129036.5\n",
       "5  129491.5 128899.0\n",
       "4  129606.5 129120.6\n",
       "19 129932.8 128056.4\n",
       "7  130004.6 129236.7\n",
       "8  130017.0 129225.8\n",
       "6  131291.9 130614.7\n",
       "2  131379.0 130998.2\n",
       "15 133366.2 131739.1\n",
       "9  134294.9 133408.2\n",
       "1  134374.5 133971.3\n",
       "14 134544.4 132587.9\n",
       "10 136814.9 135531.1\n",
       "11 137006.8 135748.4\n",
       "12 140179.4 138671.7\n",
       "13 143939.1 142417.8\n",
       "0  209439.9 209439.9"
      ]
     },
     "metadata": {},
     "output_type": "display_data"
    }
   ],
   "source": [
    "MSE <- MSEP(pcr.fit)$val\n",
    "total <- length(MSE)/2\n",
    "CVE <- rep(NA,total)\n",
    "adjCVE <- rep(NA,total)\n",
    "for(i in 1:total){\n",
    "    CVE[i] <- MSEP(pcr.fit.train)$val[2*i-1]\n",
    "    adjCVE[i] <- MSEP(pcr.fit.train)$val[2*i]\n",
    "}\n",
    "\n",
    "CVErrors <- data.frame(CVE,adjCVE)\n",
    "rownames(CVErrors) <- 0:(total-1)\n",
    "CVErrors[order(CVErrors$CVE),]"
   ]
  },
  {
   "cell_type": "code",
   "execution_count": 68,
   "metadata": {},
   "outputs": [
    {
     "data": {
      "text/html": [
       "100879.197906801"
      ],
      "text/latex": [
       "100879.197906801"
      ],
      "text/markdown": [
       "100879.197906801"
      ],
      "text/plain": [
       "[1] 100879.2"
      ]
     },
     "metadata": {},
     "output_type": "display_data"
    }
   ],
   "source": [
    "pcr.pred <- predict(pcr.fit.train,x[-train,],ncomp = 5)\n",
    "pred.error <- mean((y[-train]-pcr.pred)^2)\n",
    "pred.error"
   ]
  },
  {
   "cell_type": "code",
   "execution_count": 70,
   "metadata": {},
   "outputs": [
    {
     "name": "stdout",
     "output_type": "stream",
     "text": [
      "Data: \tX dimension: 263 19 \n",
      "\tY dimension: 263 1\n",
      "Fit method: svdpc\n",
      "Number of components considered: 5\n",
      "TRAINING: % variance explained\n",
      "        1 comps  2 comps  3 comps  4 comps  5 comps\n",
      "X         38.31    60.16    70.84    79.03    84.29\n",
      "Salary    40.63    41.58    42.17    43.22    44.90\n"
     ]
    }
   ],
   "source": [
    "pcr.fit <- pcr(Salary~.,data = Hitters, scale = TRUE,ncomp = 5)\n",
    "summary(pcr.fit)"
   ]
  },
  {
   "cell_type": "markdown",
   "metadata": {},
   "source": [
    "## Partial Least Squares\n",
    "***"
   ]
  },
  {
   "cell_type": "code",
   "execution_count": 81,
   "metadata": {},
   "outputs": [
    {
     "name": "stdout",
     "output_type": "stream",
     "text": [
      "Data: \tX dimension: 180 19 \n",
      "\tY dimension: 180 1\n",
      "Fit method: kernelpls\n",
      "Number of components considered: 19\n",
      "\n",
      "VALIDATION: RMSEP\n",
      "Cross-validated using 10 random segments.\n",
      "       (Intercept)  1 comps  2 comps  3 comps  4 comps  5 comps  6 comps\n",
      "CV           457.6    363.1    365.2    370.5    374.1    380.4    379.3\n",
      "adjCV        457.6    362.5    364.1    368.8    371.9    377.3    375.8\n",
      "       7 comps  8 comps  9 comps  10 comps  11 comps  12 comps  13 comps\n",
      "CV       378.4    373.9    367.3     368.4     367.0     366.3     367.5\n",
      "adjCV    374.8    370.6    364.5     365.5     364.1     363.5     364.6\n",
      "       14 comps  15 comps  16 comps  17 comps  18 comps  19 comps\n",
      "CV        367.4     368.1     368.9     369.2     369.7     371.1\n",
      "adjCV     364.5     365.2     365.9     366.2     366.6     367.9\n",
      "\n",
      "TRAINING: % variance explained\n",
      "        1 comps  2 comps  3 comps  4 comps  5 comps  6 comps  7 comps  8 comps\n",
      "X         37.58    53.40    67.15    74.20    78.40    83.78    87.84    89.82\n",
      "Salary    41.34    44.02    45.56    47.13    49.21    50.42    51.21    52.04\n",
      "        9 comps  10 comps  11 comps  12 comps  13 comps  14 comps  15 comps\n",
      "X         92.58     95.87     96.66     97.45     98.15     98.44     98.87\n",
      "Salary    52.34     52.48     52.84     52.93     52.98     53.06     53.07\n",
      "        16 comps  17 comps  18 comps  19 comps\n",
      "X          99.26     99.58     99.99     100.0\n",
      "Salary     53.08     53.09     53.10      53.1\n"
     ]
    }
   ],
   "source": [
    "pls.fit.train <- plsr(Salary~.,data = Hitters[train,], scale = TRUE,validation = \"CV\")\n",
    "summary(pls.fit.train)"
   ]
  },
  {
   "cell_type": "code",
   "execution_count": 82,
   "metadata": {},
   "outputs": [
    {
     "data": {
      "image/png": "[encoded data removed]",
      "text/plain": [
       "Plot with title \"Salary\""
      ]
     },
     "metadata": {},
     "output_type": "display_data"
    }
   ],
   "source": [
    "validationplot(pls.fit.train,val.type = \"MSEP\")"
   ]
  },
  {
   "cell_type": "code",
   "execution_count": 83,
   "metadata": {},
   "outputs": [
    {
     "data": {
      "text/html": [
       "102631.13518908"
      ],
      "text/latex": [
       "102631.13518908"
      ],
      "text/markdown": [
       "102631.13518908"
      ],
      "text/plain": [
       "[1] 102631.1"
      ]
     },
     "metadata": {},
     "output_type": "display_data"
    }
   ],
   "source": [
    "pls.pred <- predict(pls.fit.train,x[-train,],ncomp = 2)\n",
    "pls.predError <- mean((y[-train]-pls.pred)^2)\n",
    "pls.predError"
   ]
  },
  {
   "cell_type": "code",
   "execution_count": 87,
   "metadata": {},
   "outputs": [
    {
     "name": "stdout",
     "output_type": "stream",
     "text": [
      "Data: \tX dimension: 263 19 \n",
      "\tY dimension: 263 1\n",
      "Fit method: kernelpls\n",
      "Number of components considered: 2\n",
      "TRAINING: % variance explained\n",
      "        1 comps  2 comps\n",
      "X         38.08    51.03\n",
      "Salary    43.05    46.40\n"
     ]
    }
   ],
   "source": [
    "pls.fit <- plsr(Salary~.,data = Hitters,scale = TRUE,ncomp=2)\n",
    "summary(pls.fit)"
   ]
  },
  {
   "cell_type": "code",
   "execution_count": null,
   "metadata": {},
   "outputs": [],
   "source": []
  }
 ],
 "metadata": {
  "kernelspec": {
   "display_name": "R",
   "language": "R",
   "name": "ir"
  },
  "language_info": {
   "codemirror_mode": "r",
   "file_extension": ".r",
   "mimetype": "text/x-r-source",
   "name": "R",
   "pygments_lexer": "r",
   "version": "3.5.1"
  }
 },
 "nbformat": 4,
 "nbformat_minor": 2
}
