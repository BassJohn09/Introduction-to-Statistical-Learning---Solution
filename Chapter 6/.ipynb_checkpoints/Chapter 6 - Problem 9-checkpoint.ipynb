{
 "cells": [
  {
   "cell_type": "markdown",
   "metadata": {},
   "source": [
    "## Chapter 6 - Problem 10\n",
    "***"
   ]
  },
  {
   "cell_type": "markdown",
   "metadata": {},
   "source": [
    "In this exercise, we will predict the number of applications received\n",
    "using the other variables in the College data set. <br>\n",
    "**A.** Split the data set into a training set and a test set."
   ]
  },
  {
   "cell_type": "code",
   "execution_count": 58,
   "metadata": {},
   "outputs": [
    {
     "data": {
      "text/plain": [
       " Private        Apps           Accept          Enroll       Top10perc    \n",
       " No :212   Min.   :   81   Min.   :   72   Min.   :  35   Min.   : 1.00  \n",
       " Yes:565   1st Qu.:  776   1st Qu.:  604   1st Qu.: 242   1st Qu.:15.00  \n",
       "           Median : 1558   Median : 1110   Median : 434   Median :23.00  \n",
       "           Mean   : 3002   Mean   : 2019   Mean   : 780   Mean   :27.56  \n",
       "           3rd Qu.: 3624   3rd Qu.: 2424   3rd Qu.: 902   3rd Qu.:35.00  \n",
       "           Max.   :48094   Max.   :26330   Max.   :6392   Max.   :96.00  \n",
       "   Top25perc      F.Undergrad     P.Undergrad         Outstate    \n",
       " Min.   :  9.0   Min.   :  139   Min.   :    1.0   Min.   : 2340  \n",
       " 1st Qu.: 41.0   1st Qu.:  992   1st Qu.:   95.0   1st Qu.: 7320  \n",
       " Median : 54.0   Median : 1707   Median :  353.0   Median : 9990  \n",
       " Mean   : 55.8   Mean   : 3700   Mean   :  855.3   Mean   :10441  \n",
       " 3rd Qu.: 69.0   3rd Qu.: 4005   3rd Qu.:  967.0   3rd Qu.:12925  \n",
       " Max.   :100.0   Max.   :31643   Max.   :21836.0   Max.   :21700  \n",
       "   Room.Board       Books           Personal         PhD        \n",
       " Min.   :1780   Min.   :  96.0   Min.   : 250   Min.   :  8.00  \n",
       " 1st Qu.:3597   1st Qu.: 470.0   1st Qu.: 850   1st Qu.: 62.00  \n",
       " Median :4200   Median : 500.0   Median :1200   Median : 75.00  \n",
       " Mean   :4358   Mean   : 549.4   Mean   :1341   Mean   : 72.66  \n",
       " 3rd Qu.:5050   3rd Qu.: 600.0   3rd Qu.:1700   3rd Qu.: 85.00  \n",
       " Max.   :8124   Max.   :2340.0   Max.   :6800   Max.   :103.00  \n",
       "    Terminal       S.F.Ratio      perc.alumni        Expend     \n",
       " Min.   : 24.0   Min.   : 2.50   Min.   : 0.00   Min.   : 3186  \n",
       " 1st Qu.: 71.0   1st Qu.:11.50   1st Qu.:13.00   1st Qu.: 6751  \n",
       " Median : 82.0   Median :13.60   Median :21.00   Median : 8377  \n",
       " Mean   : 79.7   Mean   :14.09   Mean   :22.74   Mean   : 9660  \n",
       " 3rd Qu.: 92.0   3rd Qu.:16.50   3rd Qu.:31.00   3rd Qu.:10830  \n",
       " Max.   :100.0   Max.   :39.80   Max.   :64.00   Max.   :56233  \n",
       "   Grad.Rate     \n",
       " Min.   : 10.00  \n",
       " 1st Qu.: 53.00  \n",
       " Median : 65.00  \n",
       " Mean   : 65.46  \n",
       " 3rd Qu.: 78.00  \n",
       " Max.   :118.00  "
      ]
     },
     "metadata": {},
     "output_type": "display_data"
    }
   ],
   "source": [
    "library(ISLR)\n",
    "summary(College)"
   ]
  },
  {
   "cell_type": "code",
   "execution_count": 59,
   "metadata": {},
   "outputs": [],
   "source": [
    "set.seed(250)\n",
    "train = sample(1:nrow(College),round(0.75*nrow(College)))\n",
    "test = seq(1:nrow(College))[-train]"
   ]
  },
  {
   "cell_type": "markdown",
   "metadata": {},
   "source": [
    "**B.** Fit a linear model using least squares on the training set, and\n",
    "report the test error obtained."
   ]
  },
  {
   "cell_type": "code",
   "execution_count": 60,
   "metadata": {},
   "outputs": [
    {
     "data": {
      "text/plain": [
       "\n",
       "Call:\n",
       "lm(formula = Apps ~ Private + Accept + Top10perc + Top25perc + \n",
       "    Outstate + Room.Board + Expend, data = College[train, ])\n",
       "\n",
       "Residuals:\n",
       "    Min      1Q  Median      3Q     Max \n",
       "-4931.0  -435.1    -0.9   311.9 10010.4 \n",
       "\n",
       "Coefficients:\n",
       "              Estimate Std. Error t value Pr(>|t|)    \n",
       "(Intercept) -822.44787  238.14024  -3.454 0.000594 ***\n",
       "PrivateYes  -184.77454  148.22425  -1.247 0.213056    \n",
       "Accept         1.41371    0.02201  64.241  < 2e-16 ***\n",
       "Top10perc     39.52740    6.92134   5.711 1.80e-08 ***\n",
       "Top25perc    -10.48796    5.35297  -1.959 0.050563 .  \n",
       "Outstate      -0.10654    0.02141  -4.977 8.53e-07 ***\n",
       "Room.Board     0.19197    0.05555   3.456 0.000589 ***\n",
       "Expend         0.09228    0.01656   5.571 3.89e-08 ***\n",
       "---\n",
       "Signif. codes:  0 '***' 0.001 '**' 0.01 '*' 0.05 '.' 0.1 ' ' 1\n",
       "\n",
       "Residual standard error: 1107 on 575 degrees of freedom\n",
       "Multiple R-squared:  0.9266,\tAdjusted R-squared:  0.9257 \n",
       "F-statistic:  1037 on 7 and 575 DF,  p-value: < 2.2e-16\n"
      ]
     },
     "metadata": {},
     "output_type": "display_data"
    }
   ],
   "source": [
    "linear.fit <- lm(Apps~.,data = College[train,])\n",
    "#linear.fit <- lm(Apps~Private+Accept+Top10perc+\n",
    "#                 Top25perc+Outstate+Room.Board+Expend,data = College[train,])\n",
    "summary(linear.fit)"
   ]
  },
  {
   "cell_type": "code",
   "execution_count": 61,
   "metadata": {},
   "outputs": [
    {
     "data": {
      "image/png": "[encoded data removed]",
      "text/plain": [
       "Plot with title \"\""
      ]
     },
     "metadata": {},
     "output_type": "display_data"
    }
   ],
   "source": [
    "par(mfrow = c(2,2))\n",
    "plot(linear.fit)"
   ]
  },
  {
   "cell_type": "code",
   "execution_count": 62,
   "metadata": {},
   "outputs": [
    {
     "data": {
      "text/plain": [
       "\n",
       "\tShapiro-Wilk normality test\n",
       "\n",
       "data:  linear.residuals\n",
       "W = 0.75486, p-value < 2.2e-16\n"
      ]
     },
     "metadata": {},
     "output_type": "display_data"
    }
   ],
   "source": [
    "linear.residuals <- residuals(linear.fit)\n",
    "shapiro.test(linear.residuals)"
   ]
  },
  {
   "cell_type": "code",
   "execution_count": 63,
   "metadata": {},
   "outputs": [
    {
     "data": {
      "text/html": [
       "957267.854154721"
      ],
      "text/latex": [
       "957267.854154721"
      ],
      "text/markdown": [
       "957267.854154721"
      ],
      "text/plain": [
       "[1] 957267.9"
      ]
     },
     "metadata": {},
     "output_type": "display_data"
    }
   ],
   "source": [
    "linear.pred <- predict(linear.fit,newdata = College[test,-2])\n",
    "linear.testerror <- mean((linear.pred-College[test,]$Apps)^2)\n",
    "linear.testerror"
   ]
  },
  {
   "cell_type": "markdown",
   "metadata": {},
   "source": [
    "**C.** Fit a ridge regression model on the training set, with λ chosen\n",
    "by cross-validation. Report the test error obtained."
   ]
  },
  {
   "cell_type": "code",
   "execution_count": 64,
   "metadata": {},
   "outputs": [
    {
     "data": {
      "text/html": [
       "1124971.37484769"
      ],
      "text/latex": [
       "1124971.37484769"
      ],
      "text/markdown": [
       "1124971.37484769"
      ],
      "text/plain": [
       "[1] 1124971"
      ]
     },
     "metadata": {},
     "output_type": "display_data"
    }
   ],
   "source": [
    "library(glmnet)\n",
    "\n",
    "x.var <- model.matrix(Apps~.-1,data = College[train,])\n",
    "y.var <- College[train,]$Apps\n",
    "x.test <- model.matrix(Apps~.-1,data = College[test,])\n",
    "y.test <- College[test,]$Apps\n",
    "\n",
    "param <- seq(5,-2,length = 100)\n",
    "lambdas <- 10^param\n",
    "\n",
    "ridge.fit <- glmnet(x.var,y.var,alpha = 0,lambda = lambdas)\n",
    "ridge.cv <- cv.glmnet(x.var,y.var,alpha = 0,lambda = lambdas)\n",
    "bestlam <- ridge.cv$lambda.min\n",
    "ridge.OLS <- predict(ridge.fit,s = 0,newx = x.test,exact = T,x = x.var, y = y.var)\n",
    "ridge.pred <- predict(ridge.fit,s = bestlam ,newx = x.test)\n",
    "ridge.testMSE <- mean((ridge.pred-y.test)^2)\n",
    "\n",
    "ridge.testMSE\n"
   ]
  },
  {
   "cell_type": "markdown",
   "metadata": {},
   "source": [
    "**D.** Fit a lasso model on the training set, with λ chosen by cross validation.\n",
    "Report the test error obtained, along with the number\n",
    "of non-zero coefficient estimates."
   ]
  },
  {
   "cell_type": "code",
   "execution_count": 72,
   "metadata": {},
   "outputs": [
    {
     "data": {
      "text/html": [
       "1124591.89190294"
      ],
      "text/latex": [
       "1124591.89190294"
      ],
      "text/markdown": [
       "1124591.89190294"
      ],
      "text/plain": [
       "[1] 1124592"
      ]
     },
     "metadata": {},
     "output_type": "display_data"
    },
    {
     "data": {
      "text/plain": [
       "19 x 1 sparse Matrix of class \"dgCMatrix\"\n",
       "                        1\n",
       "(Intercept) -282.24106040\n",
       "PrivateNo      .         \n",
       "PrivateYes     .         \n",
       "Accept         1.33802431\n",
       "Enroll         .         \n",
       "Top10perc     15.39503139\n",
       "Top25perc      .         \n",
       "F.Undergrad    .         \n",
       "P.Undergrad    .         \n",
       "Outstate       .         \n",
       "Room.Board     .         \n",
       "Books          .         \n",
       "Personal       .         \n",
       "PhD            .         \n",
       "Terminal       .         \n",
       "S.F.Ratio      .         \n",
       "perc.alumni    .         \n",
       "Expend         0.01722456\n",
       "Grad.Rate      .         "
      ]
     },
     "metadata": {},
     "output_type": "display_data"
    }
   ],
   "source": [
    "lasso.fit <- glmnet(x.var,y.var,alpha = 1,lambda = lambdas)\n",
    "lasso.cv <- cv.glmnet(x.var,y.var,alpha = 1,lambda = lambdas)\n",
    "bestlam <- lasso.cv$lambda.min\n",
    "lasso.OLS <- predict(lasso.fit,s = 0,newx = x.test,exact = T,x = x.var, y = y.var)\n",
    "lasso.pred <- predict(lasso.fit,s = bestlam ,newx = x.test)\n",
    "lasso.testMSE <- mean((lasso.pred-y.test)^2)\n",
    "\n",
    "lasso.testMSE\n",
    "coef(lasso.cv)"
   ]
  },
  {
   "cell_type": "markdown",
   "metadata": {},
   "source": [
    "**E.** Fit a PCR model on the training set, with M chosen by crossvalidation.\n",
    "Report the test error obtained, along with the value\n",
    "of M selected by cross-validation."
   ]
  },
  {
   "cell_type": "code",
   "execution_count": 66,
   "metadata": {},
   "outputs": [
    {
     "name": "stdout",
     "output_type": "stream",
     "text": [
      "Data: \tX dimension: 583 17 \n",
      "\tY dimension: 583 1\n",
      "Fit method: svdpc\n",
      "Number of components considered: 17\n",
      "\n",
      "VALIDATION: RMSEP\n",
      "Cross-validated using 10 random segments.\n",
      "       (Intercept)  1 comps  2 comps  3 comps  4 comps  5 comps  6 comps\n",
      "CV            4063     4036     2141     2150     1989     1720     1692\n",
      "adjCV         4063     4037     2138     2149     1993     1703     1686\n",
      "       7 comps  8 comps  9 comps  10 comps  11 comps  12 comps  13 comps\n",
      "CV        1690     1674     1623      1621      1629      1628      1636\n",
      "adjCV     1686     1668     1618      1615      1624      1623      1630\n",
      "       14 comps  15 comps  16 comps  17 comps\n",
      "CV         1641      1573      1280      1221\n",
      "adjCV      1636      1552      1268      1211\n",
      "\n",
      "TRAINING: % variance explained\n",
      "      1 comps  2 comps  3 comps  4 comps  5 comps  6 comps  7 comps  8 comps\n",
      "X      31.228    56.92    64.09    69.92    75.39    80.31    84.07    87.63\n",
      "Apps    1.573    73.05    73.06    77.86    83.73    84.07    84.20    84.60\n",
      "      9 comps  10 comps  11 comps  12 comps  13 comps  14 comps  15 comps\n",
      "X       90.76     92.99     95.12     96.80     97.89     98.79     99.38\n",
      "Apps    85.55     85.72     85.73     85.86     85.89     85.97     90.96\n",
      "      16 comps  17 comps\n",
      "X        99.83    100.00\n",
      "Apps     92.93     93.45\n"
     ]
    }
   ],
   "source": [
    "require(pls)\n",
    "pcr.fit <- pcr(Apps ~ ., data = College[train,], scale = TRUE, validation = \"CV\")\n",
    "summary(pcr.fit)"
   ]
  },
  {
   "cell_type": "code",
   "execution_count": 67,
   "metadata": {},
   "outputs": [
    {
     "data": {
      "text/html": [
       "1103771.59711439"
      ],
      "text/latex": [
       "1103771.59711439"
      ],
      "text/markdown": [
       "1103771.59711439"
      ],
      "text/plain": [
       "[1] 1103772"
      ]
     },
     "metadata": {},
     "output_type": "display_data"
    }
   ],
   "source": [
    "pcr.pred <- predict(pcr.fit,newdata = College[test,],ncomp = 16)\n",
    "pred.error <- mean((y.test-pcr.pred)^2)\n",
    "pred.error"
   ]
  },
  {
   "cell_type": "markdown",
   "metadata": {},
   "source": [
    "**F.** Fit a PLS model on the training set, with M chosen by crossvalidation.\n",
    "Report the test error obtained, along with the value\n",
    "of M selected by cross-validation."
   ]
  },
  {
   "cell_type": "code",
   "execution_count": 75,
   "metadata": {},
   "outputs": [
    {
     "data": {
      "image/png": "[encoded data removed]",
      "text/plain": [
       "Plot with title \"Apps\""
      ]
     },
     "metadata": {},
     "output_type": "display_data"
    }
   ],
   "source": [
    "pls.fit <- plsr(Apps~.,data = College[train,], scale = TRUE,validation = \"CV\")\n",
    "validationplot(pls.fit,val.type = \"MSEP\")"
   ]
  },
  {
   "cell_type": "code",
   "execution_count": 76,
   "metadata": {},
   "outputs": [
    {
     "data": {
      "text/html": [
       "957267.854154723"
      ],
      "text/latex": [
       "957267.854154723"
      ],
      "text/markdown": [
       "957267.854154723"
      ],
      "text/plain": [
       "[1] 957267.9"
      ]
     },
     "metadata": {},
     "output_type": "display_data"
    }
   ],
   "source": [
    "pls.pred <- predict(pls.fit,newdata = College[test,],ncomp = 7)\n",
    "pls.predError <- mean((y.test-pls.pred)^2)\n",
    "pls.predError"
   ]
  },
  {
   "cell_type": "markdown",
   "metadata": {},
   "source": [
    "**G.** Comment on the results obtained. How accurately can we predict\n",
    "the number of college applications received? Is there much\n",
    "difference among the test errors resulting from these five approaches?"
   ]
  },
  {
   "cell_type": "code",
   "execution_count": 77,
   "metadata": {},
   "outputs": [
    {
     "data": {
      "image/png": "[encoded data removed]",
      "text/plain": [
       "Plot with title \"test R squared\""
      ]
     },
     "metadata": {},
     "output_type": "display_data"
    }
   ],
   "source": [
    "SS.test.total <- sum((y.test - mean(College[test,]$Apps))^2)\n",
    "\n",
    "SS.test.residual.linear <- sum((y.test - linear.pred)^2)\n",
    "SS.test.residual.ridge <- sum((y.test - ridge.pred)^2)\n",
    "SS.test.residual.lasso <- sum((y.test - lasso.pred)^2)\n",
    "SS.test.residual.pcr <- sum((y.test - pcr.pred)^2)\n",
    "SS.test.residual.pls <- sum((y.test - pls.pred)^2)\n",
    "\n",
    "r2.linear <- 1-SS.test.residual.linear/SS.test.total\n",
    "r2.ridge <- 1-SS.test.residual.ridge /SS.test.total\n",
    "r2.lasso <- 1-SS.test.residual.lasso /SS.test.total\n",
    "r2.pcr <- 1-SS.test.residual.pcr /SS.test.total\n",
    "r2.pls <- 1-SS.test.residual.pls /SS.test.total\n",
    "\n",
    "R2 <- c(r2.linear,r2.ridge,r2.lasso,r2.pcr,r2.pls)\n",
    "barplot(R2,names.arg = c(\"Linear\",\"ridge\",\"lasso\",\"pcr\",\"pls\"),col = \"blue\",main = \"test R squared\",\n",
    "        ylim = c(0,1))"
   ]
  },
  {
   "cell_type": "markdown",
   "metadata": {},
   "source": [
    "Based on the test R2 for the models. The number of applications per college is well predicted based on the current predictors. All models have an R2 above 88%. However the residuals showed non-normality and non-linear behavior. There is evidence that universities like Harvard or Princeton act as outliers in this dataset and may affect the results. New studies that analyze these outliers are suggested. <br>\n",
    "\n",
    "The Partial Least Squares method has the lower test Error of all methods, however there is no much difference between the models. That said, it is important to consider than the best model using the ridge, lasso and principal component methods was similar to the one obtained via least squares. \n",
    "\n",
    "Finally taking out non important variables like Books or Personal can improve the test error for the overall dataset."
   ]
  },
  {
   "cell_type": "code",
   "execution_count": 74,
   "metadata": {},
   "outputs": [
    {
     "data": {
      "text/html": [
       "957320.6914653"
      ],
      "text/latex": [
       "957320.6914653"
      ],
      "text/markdown": [
       "957320.6914653"
      ],
      "text/plain": [
       "[1] 957320.7"
      ]
     },
     "metadata": {},
     "output_type": "display_data"
    }
   ],
   "source": [
    "x.mod <- model.matrix(Apps~Private+Accept+Top10perc+\n",
    "                  Top25perc+Outstate+Room.Board+Expend,data = College)[,-1]\n",
    "\n",
    "ridge.fit <- glmnet(x.mod[train,],y.var,alpha = 0,lambda = lambdas)\n",
    "ridge.cv <- cv.glmnet(x.mod[train,],y.var,alpha = 0,lambda = lambdas)\n",
    "bestlam <- ridge.cv$lambda.min\n",
    "ridge.pred <- predict(ridge.fit,s = bestlam ,newx = x.mod[test,])\n",
    "ridge.testMSE <- mean((ridge.pred-y.test)^2)\n",
    "\n",
    "\n"
   ]
  },
  {
   "cell_type": "code",
   "execution_count": null,
   "metadata": {},
   "outputs": [],
   "source": []
  }
 ],
 "metadata": {
  "kernelspec": {
   "display_name": "R",
   "language": "R",
   "name": "ir"
  },
  "language_info": {
   "codemirror_mode": "r",
   "file_extension": ".r",
   "mimetype": "text/x-r-source",
   "name": "R",
   "pygments_lexer": "r",
   "version": "3.5.1"
  }
 },
 "nbformat": 4,
 "nbformat_minor": 2
}
