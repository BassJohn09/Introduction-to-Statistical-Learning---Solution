{
 "cells": [
  {
   "cell_type": "markdown",
   "metadata": {},
   "source": [
    "# Chapter 9 - Problem 8"
   ]
  },
  {
   "cell_type": "markdown",
   "metadata": {},
   "source": [
    "This problem involves the OJ data set which is part of the ISLR\n",
    "package."
   ]
  },
  {
   "cell_type": "markdown",
   "metadata": {},
   "source": [
    "**A.** Create a training set containing a random sample of 800 observations, \n",
    "and a test set containing the remaining observations."
   ]
  },
  {
   "cell_type": "code",
   "execution_count": 3,
   "metadata": {},
   "outputs": [],
   "source": [
    "library(ISLR)\n",
    "train <- sample(1:nrow(OJ),800)\n",
    "train.set <- OJ[train,]\n",
    "test.set <- OJ[-train,]"
   ]
  },
  {
   "cell_type": "markdown",
   "metadata": {},
   "source": [
    "**B.** Fit a support vector classifier to the training data using\n",
    "cost=0.01, with Purchase as the response and the other variables\n",
    "as predictors. Use the summary() function to produce summary\n",
    "statistics, and describe the results obtained."
   ]
  },
  {
   "cell_type": "code",
   "execution_count": 5,
   "metadata": {},
   "outputs": [
    {
     "data": {
      "text/plain": [
       "\n",
       "Call:\n",
       "svm(formula = Purchase ~ ., data = train.set, kernel = \"linear\", \n",
       "    cost = 0.01)\n",
       "\n",
       "\n",
       "Parameters:\n",
       "   SVM-Type:  C-classification \n",
       " SVM-Kernel:  linear \n",
       "       cost:  0.01 \n",
       "      gamma:  0.05555556 \n",
       "\n",
       "Number of Support Vectors:  447\n",
       "\n",
       " ( 224 223 )\n",
       "\n",
       "\n",
       "Number of Classes:  2 \n",
       "\n",
       "Levels: \n",
       " CH MM\n",
       "\n",
       "\n"
      ]
     },
     "metadata": {},
     "output_type": "display_data"
    }
   ],
   "source": [
    "library(e1071)\n",
    "svmfit <- svm(Purchase~., data = train.set,kernel = \"linear\", cost = 0.01)\n",
    "summary(svmfit)"
   ]
  },
  {
   "cell_type": "markdown",
   "metadata": {},
   "source": [
    "**C.** What are the training and test error rates?"
   ]
  },
  {
   "cell_type": "code",
   "execution_count": 8,
   "metadata": {},
   "outputs": [
    {
     "data": {
      "text/plain": [
       "          \n",
       "train.pred  CH  MM\n",
       "        CH 418  80\n",
       "        MM  60 242"
      ]
     },
     "metadata": {},
     "output_type": "display_data"
    }
   ],
   "source": [
    "train.pred <- predict(svmfit,train.set)\n",
    "table(train.pred,train.set$Purchase)"
   ]
  },
  {
   "cell_type": "code",
   "execution_count": null,
   "metadata": {},
   "outputs": [],
   "source": [
    "Training misclassification error is 17.5%"
   ]
  },
  {
   "cell_type": "code",
   "execution_count": 10,
   "metadata": {},
   "outputs": [
    {
     "data": {
      "text/plain": [
       "         \n",
       "test.pred  CH  MM\n",
       "       CH 160  27\n",
       "       MM  15  68"
      ]
     },
     "metadata": {},
     "output_type": "display_data"
    }
   ],
   "source": [
    "test.pred <- predict(svmfit,newdata = test.set)\n",
    "table(test.pred,test.set$Purchase)"
   ]
  },
  {
   "cell_type": "code",
   "execution_count": null,
   "metadata": {},
   "outputs": [],
   "source": [
    "Test misclassification error is 18.26%"
   ]
  },
  {
   "cell_type": "markdown",
   "metadata": {},
   "source": [
    "**D.** Use the tune() function to select an optimal cost. Consider values\n",
    "in the range 0.01 to 10."
   ]
  },
  {
   "cell_type": "code",
   "execution_count": 15,
   "metadata": {},
   "outputs": [
    {
     "data": {
      "text/plain": [
       "\n",
       "Parameter tuning of 'svm':\n",
       "\n",
       "- sampling method: 10-fold cross validation \n",
       "\n",
       "- best parameters:\n",
       "     cost\n",
       " 1.587368\n",
       "\n",
       "- best performance: 0.17 \n",
       "\n",
       "- Detailed performance results:\n",
       "         cost   error dispersion\n",
       "1   0.0100000 0.18250 0.04684490\n",
       "2   0.5357895 0.17500 0.04409586\n",
       "3   1.0615789 0.17250 0.04281744\n",
       "4   1.5873684 0.17000 0.04048319\n",
       "5   2.1131579 0.17625 0.03972562\n",
       "6   2.6389474 0.17500 0.04082483\n",
       "7   3.1647368 0.17750 0.04241004\n",
       "8   3.6905263 0.17750 0.04241004\n",
       "9   4.2163158 0.17625 0.04143687\n",
       "10  4.7421053 0.17750 0.04281744\n",
       "11  5.2678947 0.17750 0.04281744\n",
       "12  5.7936842 0.18000 0.04338138\n",
       "13  6.3194737 0.17625 0.03928617\n",
       "14  6.8452632 0.17500 0.03818813\n",
       "15  7.3710526 0.17625 0.03701070\n",
       "16  7.8968421 0.17625 0.03701070\n",
       "17  8.4226316 0.17625 0.03701070\n",
       "18  8.9484211 0.17625 0.03701070\n",
       "19  9.4742105 0.17625 0.03701070\n",
       "20 10.0000000 0.17625 0.03701070\n"
      ]
     },
     "metadata": {},
     "output_type": "display_data"
    }
   ],
   "source": [
    "cost = seq(0.01,10,length = 20)\n",
    "linear.tune = tune(svm, Purchase ~ ., data = train.set, kernel = \"linear\", ranges = list(cost = cost))\n",
    "summary(linear.tune)"
   ]
  },
  {
   "cell_type": "markdown",
   "metadata": {},
   "source": [
    "The cross validation error is minimized at a cost of 1.5 "
   ]
  },
  {
   "cell_type": "markdown",
   "metadata": {},
   "source": [
    "**E.** Compute the training and test error rates using this new value\n",
    "for cost."
   ]
  },
  {
   "cell_type": "code",
   "execution_count": 19,
   "metadata": {},
   "outputs": [
    {
     "data": {
      "text/plain": [
       "          \n",
       "train.pred  CH  MM\n",
       "        CH 417  72\n",
       "        MM  61 250"
      ]
     },
     "metadata": {},
     "output_type": "display_data"
    }
   ],
   "source": [
    "svm.linear <- svm(Purchase~., data = train.set,kernel = \"linear\", cost = 1.5)\n",
    "train.pred <- predict(svm.linear,train.set)\n",
    "table(train.pred,train.set$Purchase)"
   ]
  },
  {
   "cell_type": "markdown",
   "metadata": {},
   "source": [
    "Training misclassification error is 16.6%."
   ]
  },
  {
   "cell_type": "code",
   "execution_count": 21,
   "metadata": {},
   "outputs": [
    {
     "data": {
      "text/plain": [
       "         \n",
       "test.pred  CH  MM\n",
       "       CH 159  26\n",
       "       MM  16  69"
      ]
     },
     "metadata": {},
     "output_type": "display_data"
    }
   ],
   "source": [
    "test.pred <- predict(svm.linear,newdata = test.set)\n",
    "table(test.pred,test.set$Purchase)"
   ]
  },
  {
   "cell_type": "markdown",
   "metadata": {},
   "source": [
    "Training misclassification error is 15.5%. The change in cost slighlty improved the classifier."
   ]
  },
  {
   "cell_type": "markdown",
   "metadata": {},
   "source": [
    "**F.** Repeat parts (b) through (e) using a support vector machine\n",
    "with a radial kernel. Use the default value for gamma."
   ]
  },
  {
   "cell_type": "code",
   "execution_count": 24,
   "metadata": {},
   "outputs": [
    {
     "data": {
      "text/plain": [
       "\n",
       "Call:\n",
       "svm(formula = Purchase ~ ., data = train.set, kernel = \"radial\", \n",
       "    cost = 0.01)\n",
       "\n",
       "\n",
       "Parameters:\n",
       "   SVM-Type:  C-classification \n",
       " SVM-Kernel:  radial \n",
       "       cost:  0.01 \n",
       "      gamma:  0.05555556 \n",
       "\n",
       "Number of Support Vectors:  646\n",
       "\n",
       " ( 324 322 )\n",
       "\n",
       "\n",
       "Number of Classes:  2 \n",
       "\n",
       "Levels: \n",
       " CH MM\n",
       "\n",
       "\n"
      ]
     },
     "metadata": {},
     "output_type": "display_data"
    }
   ],
   "source": [
    "svmfit.radial <- svm(Purchase~., data = train.set,kernel = \"radial\", cost = 0.01)\n",
    "summary(svmfit.radial)"
   ]
  },
  {
   "cell_type": "code",
   "execution_count": 25,
   "metadata": {},
   "outputs": [
    {
     "data": {
      "text/plain": [
       "          \n",
       "train.pred  CH  MM\n",
       "        CH 478 322\n",
       "        MM   0   0"
      ]
     },
     "metadata": {},
     "output_type": "display_data"
    }
   ],
   "source": [
    "train.pred <- predict(svmfit.radial,train.set)\n",
    "table(train.pred,train.set$Purchase)"
   ]
  },
  {
   "cell_type": "code",
   "execution_count": 26,
   "metadata": {},
   "outputs": [
    {
     "data": {
      "text/html": [
       "0.673640167364017"
      ],
      "text/latex": [
       "0.673640167364017"
      ],
      "text/markdown": [
       "0.673640167364017"
      ],
      "text/plain": [
       "[1] 0.6736402"
      ]
     },
     "metadata": {},
     "output_type": "display_data"
    }
   ],
   "source": [
    "The training misclassification error is 67.3%."
   ]
  },
  {
   "cell_type": "code",
   "execution_count": 27,
   "metadata": {},
   "outputs": [
    {
     "data": {
      "text/plain": [
       "         \n",
       "test.pred  CH  MM\n",
       "       CH 175  95\n",
       "       MM   0   0"
      ]
     },
     "metadata": {},
     "output_type": "display_data"
    }
   ],
   "source": [
    "test.pred <- predict(svmfit.radial,newdata = test.set)\n",
    "table(test.pred,test.set$Purchase)"
   ]
  },
  {
   "cell_type": "markdown",
   "metadata": {},
   "source": [
    "The test misclassification error is 41.3%."
   ]
  },
  {
   "cell_type": "code",
   "execution_count": 29,
   "metadata": {},
   "outputs": [
    {
     "data": {
      "text/plain": [
       "\n",
       "Parameter tuning of 'svm':\n",
       "\n",
       "- sampling method: 10-fold cross validation \n",
       "\n",
       "- best parameters:\n",
       "     cost\n",
       " 1.061579\n",
       "\n",
       "- best performance: 0.1775 \n",
       "\n",
       "- Detailed performance results:\n",
       "         cost   error dispersion\n",
       "1   0.0100000 0.40250 0.04241004\n",
       "2   0.5357895 0.17875 0.03175973\n",
       "3   1.0615789 0.17750 0.03763863\n",
       "4   1.5873684 0.18000 0.03545341\n",
       "5   2.1131579 0.18500 0.03374743\n",
       "6   2.6389474 0.18875 0.03458584\n",
       "7   3.1647368 0.18875 0.03304563\n",
       "8   3.6905263 0.19000 0.03050501\n",
       "9   4.2163158 0.18750 0.03227486\n",
       "10  4.7421053 0.18625 0.03143004\n",
       "11  5.2678947 0.18625 0.03304563\n",
       "12  5.7936842 0.18625 0.03408018\n",
       "13  6.3194737 0.18625 0.03408018\n",
       "14  6.8452632 0.18750 0.03435921\n",
       "15  7.3710526 0.18750 0.03435921\n",
       "16  7.8968421 0.19125 0.03586723\n",
       "17  8.4226316 0.19250 0.03496029\n",
       "18  8.9484211 0.19250 0.03496029\n",
       "19  9.4742105 0.19250 0.03496029\n",
       "20 10.0000000 0.19375 0.03644345\n"
      ]
     },
     "metadata": {},
     "output_type": "display_data"
    }
   ],
   "source": [
    "radial.tune = tune(svm, Purchase ~ ., data = train.set, kernel = \"radial\", ranges = list(cost = cost))\n",
    "summary(radial.tune)"
   ]
  },
  {
   "cell_type": "markdown",
   "metadata": {},
   "source": [
    "The minimum cross validation error is attained at cost = 1"
   ]
  },
  {
   "cell_type": "code",
   "execution_count": 30,
   "metadata": {},
   "outputs": [
    {
     "data": {
      "text/plain": [
       "          \n",
       "train.pred  CH  MM\n",
       "        CH 434  74\n",
       "        MM  44 248"
      ]
     },
     "metadata": {},
     "output_type": "display_data"
    }
   ],
   "source": [
    "svm.radial <- svm(Purchase~., data = train.set,kernel = \"radial\", cost = 1)\n",
    "train.pred <- predict(svm.radial,train.set)\n",
    "table(train.pred,train.set$Purchase)"
   ]
  },
  {
   "cell_type": "markdown",
   "metadata": {},
   "source": [
    "The training misclassification error is 17.3%."
   ]
  },
  {
   "cell_type": "code",
   "execution_count": 32,
   "metadata": {},
   "outputs": [
    {
     "data": {
      "text/plain": [
       "         \n",
       "test.pred  CH  MM\n",
       "       CH 163  27\n",
       "       MM  12  68"
      ]
     },
     "metadata": {},
     "output_type": "display_data"
    }
   ],
   "source": [
    "test.pred <- predict(svm.radial,newdata = test.set)\n",
    "table(test.pred,test.set$Purchase)"
   ]
  },
  {
   "cell_type": "markdown",
   "metadata": {},
   "source": [
    "The test misclassification error is 16.9%. A dramatic improvement of the SVM with radial kernel when tuning the cost parameter."
   ]
  },
  {
   "cell_type": "markdown",
   "metadata": {},
   "source": [
    "**G.** Repeat parts (b) through (e) using a support vector machine\n",
    "with a polynomial kernel. Set degree=2."
   ]
  },
  {
   "cell_type": "code",
   "execution_count": 35,
   "metadata": {},
   "outputs": [
    {
     "data": {
      "text/plain": [
       "\n",
       "Call:\n",
       "svm(formula = Purchase ~ ., data = train.set, kernel = \"polynomial\", \n",
       "    cost = 0.01)\n",
       "\n",
       "\n",
       "Parameters:\n",
       "   SVM-Type:  C-classification \n",
       " SVM-Kernel:  polynomial \n",
       "       cost:  0.01 \n",
       "     degree:  3 \n",
       "      gamma:  0.05555556 \n",
       "     coef.0:  0 \n",
       "\n",
       "Number of Support Vectors:  635\n",
       "\n",
       " ( 319 316 )\n",
       "\n",
       "\n",
       "Number of Classes:  2 \n",
       "\n",
       "Levels: \n",
       " CH MM\n",
       "\n",
       "\n"
      ]
     },
     "metadata": {},
     "output_type": "display_data"
    }
   ],
   "source": [
    "svmfit.poly <- svm(Purchase~., data = train.set,kernel = \"polynomial\", cost = 0.01)\n",
    "summary(svmfit.poly)"
   ]
  },
  {
   "cell_type": "code",
   "execution_count": 36,
   "metadata": {},
   "outputs": [
    {
     "data": {
      "text/plain": [
       "          \n",
       "train.pred  CH  MM\n",
       "        CH 472 297\n",
       "        MM   6  25"
      ]
     },
     "metadata": {},
     "output_type": "display_data"
    }
   ],
   "source": [
    "train.pred <- predict(svmfit.poly,train.set)\n",
    "table(train.pred,train.set$Purchase)"
   ]
  },
  {
   "cell_type": "markdown",
   "metadata": {},
   "source": [
    "The training misclassification error is 37.8%."
   ]
  },
  {
   "cell_type": "code",
   "execution_count": 38,
   "metadata": {},
   "outputs": [
    {
     "data": {
      "text/plain": [
       "         \n",
       "test.pred  CH  MM\n",
       "       CH 174  91\n",
       "       MM   1   4"
      ]
     },
     "metadata": {},
     "output_type": "display_data"
    }
   ],
   "source": [
    "test.pred <- predict(svmfit.poly,newdata = test.set)\n",
    "table(test.pred,test.set$Purchase)"
   ]
  },
  {
   "cell_type": "markdown",
   "metadata": {},
   "source": [
    "The test misclassification error is 40%."
   ]
  },
  {
   "cell_type": "code",
   "execution_count": 41,
   "metadata": {},
   "outputs": [
    {
     "data": {
      "text/plain": [
       "\n",
       "Parameter tuning of 'svm':\n",
       "\n",
       "- sampling method: 10-fold cross validation \n",
       "\n",
       "- best parameters:\n",
       "     cost\n",
       " 2.638947\n",
       "\n",
       "- best performance: 0.1875 \n",
       "\n",
       "- Detailed performance results:\n",
       "         cost   error dispersion\n",
       "1   0.0100000 0.37875 0.05434266\n",
       "2   0.5357895 0.20875 0.04931827\n",
       "3   1.0615789 0.20625 0.03644345\n",
       "4   1.5873684 0.19375 0.04299952\n",
       "5   2.1131579 0.19250 0.04133199\n",
       "6   2.6389474 0.18750 0.03726780\n",
       "7   3.1647368 0.18750 0.03173239\n",
       "8   3.6905263 0.18750 0.03435921\n",
       "9   4.2163158 0.19125 0.03175973\n",
       "10  4.7421053 0.19625 0.03634805\n",
       "11  5.2678947 0.19750 0.03622844\n",
       "12  5.7936842 0.20000 0.03385016\n",
       "13  6.3194737 0.20125 0.03143004\n",
       "14  6.8452632 0.20000 0.03061862\n",
       "15  7.3710526 0.19875 0.03251602\n",
       "16  7.8968421 0.19875 0.03143004\n",
       "17  8.4226316 0.19625 0.03537988\n",
       "18  8.9484211 0.19625 0.03537988\n",
       "19  9.4742105 0.19750 0.03574602\n",
       "20 10.0000000 0.19875 0.03653860\n"
      ]
     },
     "metadata": {},
     "output_type": "display_data"
    }
   ],
   "source": [
    "poly.tune = tune(svm, Purchase ~ ., data = train.set, kernel = \"polynomial\", ranges = list(cost = cost))\n",
    "summary(poly.tune)"
   ]
  },
  {
   "cell_type": "markdown",
   "metadata": {},
   "source": [
    "The minimum cross validation error is attained at cost = 3."
   ]
  },
  {
   "cell_type": "code",
   "execution_count": 42,
   "metadata": {},
   "outputs": [
    {
     "data": {
      "text/plain": [
       "          \n",
       "train.pred  CH  MM\n",
       "        CH 434  75\n",
       "        MM  44 247"
      ]
     },
     "metadata": {},
     "output_type": "display_data"
    }
   ],
   "source": [
    "svm.poly <- svm(Purchase~., data = train.set,kernel = \"radial\", cost = 3)\n",
    "train.pred <- predict(svm.poly, train.set)\n",
    "table(train.pred,train.set$Purchase)"
   ]
  },
  {
   "cell_type": "markdown",
   "metadata": {},
   "source": [
    "The training misclassification error is 14.8%."
   ]
  },
  {
   "cell_type": "code",
   "execution_count": 44,
   "metadata": {},
   "outputs": [
    {
     "data": {
      "text/plain": [
       "         \n",
       "test.pred  CH  MM\n",
       "       CH 160  29\n",
       "       MM  15  66"
      ]
     },
     "metadata": {},
     "output_type": "display_data"
    }
   ],
   "source": [
    "test.pred <- predict(svm.poly,newdata = test.set)\n",
    "table(test.pred,test.set$Purchase)"
   ]
  },
  {
   "cell_type": "markdown",
   "metadata": {},
   "source": [
    "The test misclassification error is 19.1%. A dramatic improvement due to tuning the cost parameter."
   ]
  },
  {
   "cell_type": "markdown",
   "metadata": {},
   "source": [
    "**H.** Overall, which approach seems to give the best results on this\n",
    "data?"
   ]
  },
  {
   "cell_type": "markdown",
   "metadata": {},
   "source": [
    "The best results appeared to be given by the support vector classifier. It has the lowest test misclassification error and it is the simplest model of them all."
   ]
  },
  {
   "cell_type": "code",
   "execution_count": null,
   "metadata": {},
   "outputs": [],
   "source": []
  }
 ],
 "metadata": {
  "kernelspec": {
   "display_name": "R",
   "language": "R",
   "name": "ir"
  },
  "language_info": {
   "codemirror_mode": "r",
   "file_extension": ".r",
   "mimetype": "text/x-r-source",
   "name": "R",
   "pygments_lexer": "r",
   "version": "3.5.1"
  }
 },
 "nbformat": 4,
 "nbformat_minor": 2
}
