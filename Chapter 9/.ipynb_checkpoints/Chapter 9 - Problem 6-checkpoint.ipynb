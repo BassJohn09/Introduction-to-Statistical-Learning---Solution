{
 "cells": [
  {
   "cell_type": "markdown",
   "metadata": {},
   "source": [
    "# Chapter 9 - Problem 6"
   ]
  },
  {
   "cell_type": "markdown",
   "metadata": {},
   "source": [
    "At the end of Section 9.6.1, it is claimed that in the case of data that\n",
    "is just barely linearly separable, a support vector classifier with a\n",
    "small value of cost that misclassifies a couple of training observations\n",
    "may perform better on test data than one with a huge value of cost\n",
    "that does not misclassify any training observations. You will now\n",
    "investigate this claim."
   ]
  },
  {
   "cell_type": "markdown",
   "metadata": {},
   "source": [
    "**A.** Generate two-class data with p = 2 in such a way that the classes\n",
    "are just barely linearly separable."
   ]
  },
  {
   "cell_type": "code",
   "execution_count": 112,
   "metadata": {},
   "outputs": [
    {
     "data": {
      "image/png": "[encoded data removed]",
      "text/plain": [
       "plot without title"
      ]
     },
     "metadata": {},
     "output_type": "display_data"
    }
   ],
   "source": [
    "set.seed(1087)\n",
    "x1 <- runif(500) + 2\n",
    "x2 <- runif(500) - 2\n",
    "eps <- rnorm(500, sd = 0.05)\n",
    "\n",
    "y <- 2*x1 + 3*x2+ eps > 0\n",
    "plot(x1,x2,col = y+1, pch = 19)"
   ]
  },
  {
   "cell_type": "markdown",
   "metadata": {},
   "source": [
    "**B.** Compute the cross-validation error rates for support vector\n",
    "classifiers with a range of cost values. How many training errors\n",
    "are misclassified for each value of cost considered, and how\n",
    "does this relate to the cross-validation errors obtained?"
   ]
  },
  {
   "cell_type": "code",
   "execution_count": 113,
   "metadata": {},
   "outputs": [
    {
     "data": {
      "text/html": [
       "<table>\n",
       "<thead><tr><th scope=col>cost</th><th scope=col>rmse.cv</th></tr></thead>\n",
       "<tbody>\n",
       "\t<tr><td>1e-03 </td><td>0.3050</td></tr>\n",
       "\t<tr><td>1e-02 </td><td>0.0725</td></tr>\n",
       "\t<tr><td>1e-01 </td><td>0.0200</td></tr>\n",
       "\t<tr><td>1e+00 </td><td>0.0200</td></tr>\n",
       "\t<tr><td>1e+01 </td><td>0.0200</td></tr>\n",
       "\t<tr><td>1e+02 </td><td>0.0175</td></tr>\n",
       "\t<tr><td>1e+03 </td><td>0.0200</td></tr>\n",
       "\t<tr><td>1e+04 </td><td>0.0150</td></tr>\n",
       "</tbody>\n",
       "</table>\n"
      ],
      "text/latex": [
       "\\begin{tabular}{r|ll}\n",
       " cost & rmse.cv\\\\\n",
       "\\hline\n",
       "\t 1e-03  & 0.3050\\\\\n",
       "\t 1e-02  & 0.0725\\\\\n",
       "\t 1e-01  & 0.0200\\\\\n",
       "\t 1e+00  & 0.0200\\\\\n",
       "\t 1e+01  & 0.0200\\\\\n",
       "\t 1e+02  & 0.0175\\\\\n",
       "\t 1e+03  & 0.0200\\\\\n",
       "\t 1e+04  & 0.0150\\\\\n",
       "\\end{tabular}\n"
      ],
      "text/markdown": [
       "\n",
       "cost | rmse.cv | \n",
       "|---|---|---|---|---|---|---|---|\n",
       "| 1e-03  | 0.3050 | \n",
       "| 1e-02  | 0.0725 | \n",
       "| 1e-01  | 0.0200 | \n",
       "| 1e+00  | 0.0200 | \n",
       "| 1e+01  | 0.0200 | \n",
       "| 1e+02  | 0.0175 | \n",
       "| 1e+03  | 0.0200 | \n",
       "| 1e+04  | 0.0150 | \n",
       "\n",
       "\n"
      ],
      "text/plain": [
       "  cost  rmse.cv\n",
       "1 1e-03 0.3050 \n",
       "2 1e-02 0.0725 \n",
       "3 1e-01 0.0200 \n",
       "4 1e+00 0.0200 \n",
       "5 1e+01 0.0200 \n",
       "6 1e+02 0.0175 \n",
       "7 1e+03 0.0200 \n",
       "8 1e+04 0.0150 "
      ]
     },
     "metadata": {},
     "output_type": "display_data"
    }
   ],
   "source": [
    "library(e1071)\n",
    "data <- data.frame(x1,x2,y = as.factor(y))\n",
    "train <- sample(1:500,400)\n",
    "train.set <- data[train,]\n",
    "test.set <- data[-train,]\n",
    "\n",
    "folds <- sample(rep(1:10,length.out = nrow(train.set)))\n",
    "\n",
    "cv.error <- matrix(NA,8,10)\n",
    "\n",
    "cost =  c(0.001,0.01,0.1,1,10,100,1000,10000)\n",
    "\n",
    "for (i in 1:length(cost)){\n",
    "    \n",
    "    for (k in 1:10){\n",
    "        svmfit <- svm(y~.,data = train.set[folds!=k,],cost = cost[i], kernel = \"linear\")\n",
    "        prob <- predict(svmfit,newdata = train.set[folds == k,1:2])\n",
    "        results <- table(prob,train.set[folds == k,3])\n",
    "        cv.error[i,k] <- (results[2,1]+results[1,2])/nrow(train.set[folds == k,])\n",
    "    }\n",
    "}\n",
    "\n",
    "rmse.cv <- apply(cv.error,1,mean)\n",
    "data.frame(cost,rmse.cv)"
   ]
  },
  {
   "cell_type": "code",
   "execution_count": 114,
   "metadata": {},
   "outputs": [
    {
     "data": {
      "text/html": [
       "<table>\n",
       "<thead><tr><th scope=col>cost</th><th scope=col>misclass</th></tr></thead>\n",
       "<tbody>\n",
       "\t<tr><td>1e-03 </td><td>152.50</td></tr>\n",
       "\t<tr><td>1e-02 </td><td> 36.25</td></tr>\n",
       "\t<tr><td>1e-01 </td><td> 10.00</td></tr>\n",
       "\t<tr><td>1e+00 </td><td> 10.00</td></tr>\n",
       "\t<tr><td>1e+01 </td><td> 10.00</td></tr>\n",
       "\t<tr><td>1e+02 </td><td>  8.75</td></tr>\n",
       "\t<tr><td>1e+03 </td><td> 10.00</td></tr>\n",
       "\t<tr><td>1e+04 </td><td>  7.50</td></tr>\n",
       "</tbody>\n",
       "</table>\n"
      ],
      "text/latex": [
       "\\begin{tabular}{r|ll}\n",
       " cost & misclass\\\\\n",
       "\\hline\n",
       "\t 1e-03  & 152.50\\\\\n",
       "\t 1e-02  &  36.25\\\\\n",
       "\t 1e-01  &  10.00\\\\\n",
       "\t 1e+00  &  10.00\\\\\n",
       "\t 1e+01  &  10.00\\\\\n",
       "\t 1e+02  &   8.75\\\\\n",
       "\t 1e+03  &  10.00\\\\\n",
       "\t 1e+04  &   7.50\\\\\n",
       "\\end{tabular}\n"
      ],
      "text/markdown": [
       "\n",
       "cost | misclass | \n",
       "|---|---|---|---|---|---|---|---|\n",
       "| 1e-03  | 152.50 | \n",
       "| 1e-02  |  36.25 | \n",
       "| 1e-01  |  10.00 | \n",
       "| 1e+00  |  10.00 | \n",
       "| 1e+01  |  10.00 | \n",
       "| 1e+02  |   8.75 | \n",
       "| 1e+03  |  10.00 | \n",
       "| 1e+04  |   7.50 | \n",
       "\n",
       "\n"
      ],
      "text/plain": [
       "  cost  misclass\n",
       "1 1e-03 152.50  \n",
       "2 1e-02  36.25  \n",
       "3 1e-01  10.00  \n",
       "4 1e+00  10.00  \n",
       "5 1e+01  10.00  \n",
       "6 1e+02   8.75  \n",
       "7 1e+03  10.00  \n",
       "8 1e+04   7.50  "
      ]
     },
     "metadata": {},
     "output_type": "display_data"
    }
   ],
   "source": [
    "data.frame(cost = cost,misclass = rmse.cv*nrow(data))"
   ]
  },
  {
   "cell_type": "markdown",
   "metadata": {},
   "source": [
    "Model reaches a minimum of training CV error at a cost of 10000 with the minimum number of training misclassifications."
   ]
  },
  {
   "cell_type": "markdown",
   "metadata": {},
   "source": [
    "**C.** Generate an appropriate test data set, and compute the test\n",
    "errors corresponding to each of the values of cost considered.\n",
    "Which value of cost leads to the fewest test errors, and how\n",
    "does this compare to the values of cost that yield the fewest\n",
    "training errors and the fewest cross-validation errors?"
   ]
  },
  {
   "cell_type": "code",
   "execution_count": 118,
   "metadata": {},
   "outputs": [
    {
     "data": {
      "text/html": [
       "<table>\n",
       "<thead><tr><th scope=col>cost</th><th scope=col>test.error</th></tr></thead>\n",
       "<tbody>\n",
       "\t<tr><td>1e-03</td><td>0.31 </td></tr>\n",
       "\t<tr><td>1e-02</td><td>0.13 </td></tr>\n",
       "\t<tr><td>1e-01</td><td>0.06 </td></tr>\n",
       "\t<tr><td>1e+00</td><td>0.03 </td></tr>\n",
       "\t<tr><td>1e+01</td><td>0.03 </td></tr>\n",
       "\t<tr><td>1e+02</td><td>0.03 </td></tr>\n",
       "\t<tr><td>1e+03</td><td>0.03 </td></tr>\n",
       "\t<tr><td>1e+04</td><td>0.03 </td></tr>\n",
       "</tbody>\n",
       "</table>\n"
      ],
      "text/latex": [
       "\\begin{tabular}{r|ll}\n",
       " cost & test.error\\\\\n",
       "\\hline\n",
       "\t 1e-03 & 0.31 \\\\\n",
       "\t 1e-02 & 0.13 \\\\\n",
       "\t 1e-01 & 0.06 \\\\\n",
       "\t 1e+00 & 0.03 \\\\\n",
       "\t 1e+01 & 0.03 \\\\\n",
       "\t 1e+02 & 0.03 \\\\\n",
       "\t 1e+03 & 0.03 \\\\\n",
       "\t 1e+04 & 0.03 \\\\\n",
       "\\end{tabular}\n"
      ],
      "text/markdown": [
       "\n",
       "cost | test.error | \n",
       "|---|---|---|---|---|---|---|---|\n",
       "| 1e-03 | 0.31  | \n",
       "| 1e-02 | 0.13  | \n",
       "| 1e-01 | 0.06  | \n",
       "| 1e+00 | 0.03  | \n",
       "| 1e+01 | 0.03  | \n",
       "| 1e+02 | 0.03  | \n",
       "| 1e+03 | 0.03  | \n",
       "| 1e+04 | 0.03  | \n",
       "\n",
       "\n"
      ],
      "text/plain": [
       "  cost  test.error\n",
       "1 1e-03 0.31      \n",
       "2 1e-02 0.13      \n",
       "3 1e-01 0.06      \n",
       "4 1e+00 0.03      \n",
       "5 1e+01 0.03      \n",
       "6 1e+02 0.03      \n",
       "7 1e+03 0.03      \n",
       "8 1e+04 0.03      "
      ]
     },
     "metadata": {},
     "output_type": "display_data"
    }
   ],
   "source": [
    "\n",
    "test.error <- rep(NA,length(cost))\n",
    "\n",
    "for (i in 1:length(cost)){\n",
    "    svmfit <- svm(y~.,data = train.set,cost = cost[i], kernel = \"linear\")\n",
    "    test.pred <- predict(svmfit,test.set)\n",
    "    results <- table(test.pred,test.set[,3])\n",
    "    test.error[i] <- (results[2,1]+results[1,2])/nrow(test.set)\n",
    "}\n",
    "\n",
    "data.frame(cost, test.error)"
   ]
  },
  {
   "cell_type": "markdown",
   "metadata": {},
   "source": [
    "The minimum test misclassification error is attained at 1, way lower than the 10000 cost value obtained when analyzing the training data set."
   ]
  },
  {
   "cell_type": "code",
   "execution_count": 119,
   "metadata": {},
   "outputs": [
    {
     "data": {
      "text/plain": [
       "\n",
       "Parameter tuning of 'svm':\n",
       "\n",
       "- sampling method: 10-fold cross validation \n",
       "\n",
       "- best parameters:\n",
       " cost\n",
       "  100\n",
       "\n",
       "- best performance: 0.0175 \n",
       "\n",
       "- Detailed performance results:\n",
       "   cost  error dispersion\n",
       "1 1e-03 0.3050 0.06645801\n",
       "2 1e-02 0.0800 0.04377975\n",
       "3 1e-01 0.0200 0.02297341\n",
       "4 1e+00 0.0225 0.01419116\n",
       "5 1e+01 0.0250 0.02357023\n",
       "6 1e+02 0.0175 0.01687371\n",
       "7 1e+03 0.0175 0.01687371\n",
       "8 1e+04 0.0175 0.01687371\n"
      ]
     },
     "metadata": {},
     "output_type": "display_data"
    }
   ],
   "source": [
    "tune.out = tune(svm, y ~ ., data = train.set, kernel = \"linear\", ranges = list(cost = cost))\n",
    "summary(tune.out)"
   ]
  },
  {
   "cell_type": "code",
   "execution_count": 120,
   "metadata": {},
   "outputs": [
    {
     "data": {
      "text/html": [
       "<table>\n",
       "<thead><tr><th scope=col>cost</th><th scope=col>misclass</th></tr></thead>\n",
       "<tbody>\n",
       "\t<tr><td>1e-03</td><td>122  </td></tr>\n",
       "\t<tr><td>1e-02</td><td> 32  </td></tr>\n",
       "\t<tr><td>1e-01</td><td>  8  </td></tr>\n",
       "\t<tr><td>1e+00</td><td>  9  </td></tr>\n",
       "\t<tr><td>1e+01</td><td> 10  </td></tr>\n",
       "\t<tr><td>1e+02</td><td>  7  </td></tr>\n",
       "\t<tr><td>1e+03</td><td>  7  </td></tr>\n",
       "\t<tr><td>1e+04</td><td>  7  </td></tr>\n",
       "</tbody>\n",
       "</table>\n"
      ],
      "text/latex": [
       "\\begin{tabular}{r|ll}\n",
       " cost & misclass\\\\\n",
       "\\hline\n",
       "\t 1e-03 & 122  \\\\\n",
       "\t 1e-02 &  32  \\\\\n",
       "\t 1e-01 &   8  \\\\\n",
       "\t 1e+00 &   9  \\\\\n",
       "\t 1e+01 &  10  \\\\\n",
       "\t 1e+02 &   7  \\\\\n",
       "\t 1e+03 &   7  \\\\\n",
       "\t 1e+04 &   7  \\\\\n",
       "\\end{tabular}\n"
      ],
      "text/markdown": [
       "\n",
       "cost | misclass | \n",
       "|---|---|---|---|---|---|---|---|\n",
       "| 1e-03 | 122   | \n",
       "| 1e-02 |  32   | \n",
       "| 1e-01 |   8   | \n",
       "| 1e+00 |   9   | \n",
       "| 1e+01 |  10   | \n",
       "| 1e+02 |   7   | \n",
       "| 1e+03 |   7   | \n",
       "| 1e+04 |   7   | \n",
       "\n",
       "\n"
      ],
      "text/plain": [
       "  cost  misclass\n",
       "1 1e-03 122     \n",
       "2 1e-02  32     \n",
       "3 1e-01   8     \n",
       "4 1e+00   9     \n",
       "5 1e+01  10     \n",
       "6 1e+02   7     \n",
       "7 1e+03   7     \n",
       "8 1e+04   7     "
      ]
     },
     "metadata": {},
     "output_type": "display_data"
    }
   ],
   "source": [
    "data.frame(cost = tune.out$performances$cost, misclass = tune.out$performances$error * nrow(train.set))"
   ]
  },
  {
   "cell_type": "code",
   "execution_count": null,
   "metadata": {},
   "outputs": [],
   "source": []
  }
 ],
 "metadata": {
  "kernelspec": {
   "display_name": "R",
   "language": "R",
   "name": "ir"
  },
  "language_info": {
   "codemirror_mode": "r",
   "file_extension": ".r",
   "mimetype": "text/x-r-source",
   "name": "R",
   "pygments_lexer": "r",
   "version": "3.5.1"
  }
 },
 "nbformat": 4,
 "nbformat_minor": 2
}
