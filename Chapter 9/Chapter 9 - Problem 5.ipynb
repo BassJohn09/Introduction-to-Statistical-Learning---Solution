{
 "cells": [
  {
   "cell_type": "markdown",
   "metadata": {},
   "source": [
    "# Chapter 9 - Problem 5"
   ]
  },
  {
   "cell_type": "markdown",
   "metadata": {},
   "source": [
    "We have seen that we can fit an SVM with a non-linear kernel in order\n",
    "to perform classification using a non-linear decision boundary.We will\n",
    "now see that we can also obtain a non-linear decision boundary by\n",
    "performing logistic regression using non-linear transformations of the\n",
    "features."
   ]
  },
  {
   "cell_type": "markdown",
   "metadata": {},
   "source": [
    "**A.** Generate a data set with n = 500 and p = 2, such that the observations\n",
    "belong to two classes with a quadratic decision boundary\n",
    "between them."
   ]
  },
  {
   "cell_type": "code",
   "execution_count": 102,
   "metadata": {},
   "outputs": [],
   "source": [
    "x1 <- runif(500) - 0.5\n",
    "x2 <- runif(500) - 0.5\n",
    "eps <- rnorm(500, sd = 0.05)\n",
    "y <- (2*x1^2 - 3*x2^2 + x1) + eps > 0\n"
   ]
  },
  {
   "cell_type": "markdown",
   "metadata": {},
   "source": [
    "**B.** Plot the observations, colored according to their class labels.\n",
    "Your plot should display $x_1$ on the x-axis, and $x_2$ on the y-axis."
   ]
  },
  {
   "cell_type": "code",
   "execution_count": 103,
   "metadata": {},
   "outputs": [
    {
     "data": {
      "image/png": "[encoded data removed]",
      "text/plain": [
       "plot without title"
      ]
     },
     "metadata": {},
     "output_type": "display_data"
    }
   ],
   "source": [
    "plot(x1,x2, col = y+1, xlab = \"x1\", ylab = \"x2\")"
   ]
  },
  {
   "cell_type": "markdown",
   "metadata": {},
   "source": [
    "**C.** Fit a logistic regression model to the data, using $x_1$ and $x_2$ as\n",
    "predictors."
   ]
  },
  {
   "cell_type": "code",
   "execution_count": 104,
   "metadata": {},
   "outputs": [
    {
     "data": {
      "text/plain": [
       "\n",
       "Call:\n",
       "glm(formula = y ~ ., family = \"binomial\", data = train.dat)\n",
       "\n",
       "Deviance Residuals: \n",
       "    Min       1Q   Median       3Q      Max  \n",
       "-2.7064  -0.2565  -0.0493   0.2420   4.2023  \n",
       "\n",
       "Coefficients:\n",
       "            Estimate Std. Error z value Pr(>|z|)    \n",
       "(Intercept)  -2.2204     0.2956  -7.512 5.83e-14 ***\n",
       "x1           14.1298     1.5120   9.345  < 2e-16 ***\n",
       "x2            0.6710     0.6615   1.014     0.31    \n",
       "---\n",
       "Signif. codes:  0 '***' 0.001 '**' 0.01 '*' 0.05 '.' 0.1 ' ' 1\n",
       "\n",
       "(Dispersion parameter for binomial family taken to be 1)\n",
       "\n",
       "    Null deviance: 522.73  on 399  degrees of freedom\n",
       "Residual deviance: 187.95  on 397  degrees of freedom\n",
       "AIC: 193.95\n",
       "\n",
       "Number of Fisher Scoring iterations: 7\n"
      ]
     },
     "metadata": {},
     "output_type": "display_data"
    }
   ],
   "source": [
    "train <- sample(1:500,400)\n",
    "dat <- data.frame(x1,x2,y = as.factor(y))\n",
    "train.dat <- dat[train,]\n",
    "test.dat <- dat[-train,]\n",
    "\n",
    "log.reg <- glm(y~., data = train.dat, family = \"binomial\")\n",
    "summary(log.reg)"
   ]
  },
  {
   "cell_type": "markdown",
   "metadata": {},
   "source": [
    "**D.** Apply this model to the training data in order to obtain a predicted\n",
    "class label for each training observation. Plot the observations,\n",
    "colored according to the predicted class labels. The\n",
    "decision boundary should be linear."
   ]
  },
  {
   "cell_type": "code",
   "execution_count": 105,
   "metadata": {},
   "outputs": [
    {
     "data": {
      "image/png": "[encoded data removed]",
      "text/plain": [
       "plot without title"
      ]
     },
     "metadata": {},
     "output_type": "display_data"
    }
   ],
   "source": [
    "log.prob <- predict(log.reg, newdata = test.dat, type = \"response\")\n",
    "log.pred <- ifelse(log.prob > 0.4, TRUE,FALSE)\n",
    "plot(test.dat[,1:2], col = log.pred+1, xlab = \"x1\", ylab = \"x2\")"
   ]
  },
  {
   "cell_type": "code",
   "execution_count": 106,
   "metadata": {},
   "outputs": [
    {
     "data": {
      "text/plain": [
       "        \n",
       "log.pred FALSE TRUE\n",
       "   FALSE    52    7\n",
       "   TRUE      8   33"
      ]
     },
     "metadata": {},
     "output_type": "display_data"
    }
   ],
   "source": [
    "table(log.pred, test.dat[,3])"
   ]
  },
  {
   "cell_type": "markdown",
   "metadata": {},
   "source": [
    "Train misclassification error for the logistic regression model is 15% "
   ]
  },
  {
   "cell_type": "markdown",
   "metadata": {},
   "source": [
    "**E.** Now fit a logistic regression model to the data using non-linear\n",
    "functions of $x_1$ and $x_2$ as predictors (e.g. $x_1^2$, $x_1$×$x_2$, log($x_2$) and so forth)."
   ]
  },
  {
   "cell_type": "code",
   "execution_count": 108,
   "metadata": {},
   "outputs": [
    {
     "name": "stderr",
     "output_type": "stream",
     "text": [
      "Warning message:\n",
      "\"glm.fit: fitted probabilities numerically 0 or 1 occurred\""
     ]
    },
    {
     "data": {
      "text/plain": [
       "\n",
       "Call:\n",
       "glm(formula = y ~ x1 + x2 + I(x1^2) + I(x2^2), family = \"binomial\", \n",
       "    data = train.dat)\n",
       "\n",
       "Deviance Residuals: \n",
       "     Min        1Q    Median        3Q       Max  \n",
       "-1.62868  -0.00042   0.00000   0.00000   2.04708  \n",
       "\n",
       "Coefficients:\n",
       "             Estimate Std. Error z value Pr(>|z|)   \n",
       "(Intercept)    0.2293     1.1718   0.196  0.84485   \n",
       "x1            91.3368    29.3348   3.114  0.00185 **\n",
       "x2             2.9834     3.8618   0.773  0.43979   \n",
       "I(x1^2)      202.1774    67.0623   3.015  0.00257 **\n",
       "I(x2^2)     -288.9177    94.7171  -3.050  0.00229 **\n",
       "---\n",
       "Signif. codes:  0 '***' 0.001 '**' 0.01 '*' 0.05 '.' 0.1 ' ' 1\n",
       "\n",
       "(Dispersion parameter for binomial family taken to be 1)\n",
       "\n",
       "    Null deviance: 522.735  on 399  degrees of freedom\n",
       "Residual deviance:  16.068  on 395  degrees of freedom\n",
       "AIC: 26.068\n",
       "\n",
       "Number of Fisher Scoring iterations: 12\n"
      ]
     },
     "metadata": {},
     "output_type": "display_data"
    }
   ],
   "source": [
    "log.reg.2 <- glm(y ~ x1 + x2 + I(x1^2) + I(x2^2) , data = train.dat, family = \"binomial\")\n",
    "summary(log.reg.2)"
   ]
  },
  {
   "cell_type": "markdown",
   "metadata": {},
   "source": [
    "**F.** Apply this model to the training data in order to obtain a predicted\n",
    "class label for each training observation. Plot the observations,\n",
    "colored according to the predicted class labels. The\n",
    "decision boundary should be obviously non-linear. If it is not,\n",
    "then repeat (a)-(e) until you come up with an example in which\n",
    "the predicted class labels are obviously non-linear."
   ]
  },
  {
   "cell_type": "code",
   "execution_count": 109,
   "metadata": {},
   "outputs": [
    {
     "data": {
      "image/png": "[encoded data removed]",
      "text/plain": [
       "plot without title"
      ]
     },
     "metadata": {},
     "output_type": "display_data"
    }
   ],
   "source": [
    "log.prob.2 <- predict(log.reg.2, newdata = test.dat[,1:2], type = \"response\")\n",
    "log.pred.2 <- ifelse(log.prob.2 > 0.5, TRUE,FALSE)\n",
    "plot(test.dat[,1:2], col = log.pred.2+1, xlab = \"x1\", ylab = \"x2\")"
   ]
  },
  {
   "cell_type": "code",
   "execution_count": 110,
   "metadata": {},
   "outputs": [
    {
     "data": {
      "text/plain": [
       "          \n",
       "log.pred.2 FALSE TRUE\n",
       "     FALSE    56    5\n",
       "     TRUE      4   35"
      ]
     },
     "metadata": {},
     "output_type": "display_data"
    }
   ],
   "source": [
    "table(log.pred.2, test.dat[,3])"
   ]
  },
  {
   "cell_type": "code",
   "execution_count": null,
   "metadata": {},
   "outputs": [],
   "source": [
    "The misclassification error for the logistic regression is 9%"
   ]
  },
  {
   "cell_type": "markdown",
   "metadata": {},
   "source": [
    "**G.** Fit a support vector classifier to the data with $x_1$ and $x_2$ as\n",
    "predictors. Obtain a class prediction for each training observation.\n",
    "Plot the observations, colored according to the predicted\n",
    "class labels."
   ]
  },
  {
   "cell_type": "code",
   "execution_count": 119,
   "metadata": {},
   "outputs": [
    {
     "name": "stdout",
     "output_type": "stream",
     "text": [
      "\n",
      "Call:\n",
      "svm(formula = y ~ ., data = dat, kernel = \"linear\", cost = 5)\n",
      "\n",
      "\n",
      "Parameters:\n",
      "   SVM-Type:  C-classification \n",
      " SVM-Kernel:  linear \n",
      "       cost:  5 \n",
      "      gamma:  0.5 \n",
      "\n",
      "Number of Support Vectors:  142\n",
      "\n"
     ]
    }
   ],
   "source": [
    "library(e1071) \n",
    "svm.linear <- svm(y ~ .,data = dat, kernel = \"linear\", cost = 5) \n",
    "print(svm.linear)"
   ]
  },
  {
   "cell_type": "code",
   "execution_count": 120,
   "metadata": {},
   "outputs": [
    {
     "data": {
      "image/png": "[encoded data removed]",
      "text/plain": [
       "plot without title"
      ]
     },
     "metadata": {},
     "output_type": "display_data"
    }
   ],
   "source": [
    "y.svm.linear <- predict(svm.linear,test.dat[,1:2])\n",
    "plot(test.dat[1:2], col = c(\"orange\",\"blue\")[as.numeric(y.svm.linear)],pch = 20)"
   ]
  },
  {
   "cell_type": "code",
   "execution_count": 126,
   "metadata": {},
   "outputs": [
    {
     "data": {
      "text/plain": [
       "            \n",
       "y.svm.linear FALSE TRUE\n",
       "       FALSE    52    9\n",
       "       TRUE      8   31"
      ]
     },
     "metadata": {},
     "output_type": "display_data"
    }
   ],
   "source": [
    "table(y.svm.linear, test.dat[,3])"
   ]
  },
  {
   "cell_type": "markdown",
   "metadata": {},
   "source": [
    "The test misclassification error for the support vector classifier is 17%."
   ]
  },
  {
   "cell_type": "markdown",
   "metadata": {},
   "source": [
    "**H.** Fit a SVM using a non-linear kernel to the data. Obtain a class\n",
    "prediction for each training observation. Plot the observations,\n",
    "colored according to the predicted class labels."
   ]
  },
  {
   "cell_type": "code",
   "execution_count": 134,
   "metadata": {},
   "outputs": [
    {
     "name": "stdout",
     "output_type": "stream",
     "text": [
      "\n",
      "Call:\n",
      "svm(formula = y ~ ., data = dat, kernel = \"radial\", cost = 1)\n",
      "\n",
      "\n",
      "Parameters:\n",
      "   SVM-Type:  C-classification \n",
      " SVM-Kernel:  radial \n",
      "       cost:  1 \n",
      "      gamma:  0.5 \n",
      "\n",
      "Number of Support Vectors:  95\n",
      "\n"
     ]
    }
   ],
   "source": [
    "svm.radial <- svm(y ~ .,data = dat, kernel = \"radial\", cost = 1) \n",
    "print(svm.radial)"
   ]
  },
  {
   "cell_type": "code",
   "execution_count": 135,
   "metadata": {},
   "outputs": [
    {
     "data": {
      "image/png": "[encoded data removed]",
      "text/plain": [
       "plot without title"
      ]
     },
     "metadata": {},
     "output_type": "display_data"
    }
   ],
   "source": [
    "y.svm.radial <- predict(svm.radial, test.dat[,1:2])\n",
    "plot(test.dat[1:2], col = c(\"orange\",\"blue\")[as.numeric(y.svm.radial)],pch = 20)"
   ]
  },
  {
   "cell_type": "code",
   "execution_count": 136,
   "metadata": {},
   "outputs": [
    {
     "data": {
      "text/plain": [
       "            \n",
       "y.svm.radial FALSE TRUE\n",
       "       FALSE    59    6\n",
       "       TRUE      1   34"
      ]
     },
     "metadata": {},
     "output_type": "display_data"
    }
   ],
   "source": [
    "table(y.svm.radial, test.dat[,3])"
   ]
  },
  {
   "cell_type": "markdown",
   "metadata": {},
   "source": [
    "The test misclassification error for the support vector machine with a gaussian kernel is 7%."
   ]
  },
  {
   "cell_type": "markdown",
   "metadata": {},
   "source": [
    "**I.** Comment on your results."
   ]
  },
  {
   "cell_type": "markdown",
   "metadata": {},
   "source": [
    "1. Both the logistic regression and support vector classifier showed significant improvements when considering the non-linearity of the problem.  \n",
    "2. Even though the classification error for the support vector machine was lower than the logistic regression with non-linear terms. I would choose the latter since it is a model much simpler to interpret."
   ]
  },
  {
   "cell_type": "code",
   "execution_count": null,
   "metadata": {},
   "outputs": [],
   "source": []
  }
 ],
 "metadata": {
  "kernelspec": {
   "display_name": "R",
   "language": "R",
   "name": "ir"
  },
  "language_info": {
   "codemirror_mode": "r",
   "file_extension": ".r",
   "mimetype": "text/x-r-source",
   "name": "R",
   "pygments_lexer": "r",
   "version": "3.5.1"
  }
 },
 "nbformat": 4,
 "nbformat_minor": 2
}
