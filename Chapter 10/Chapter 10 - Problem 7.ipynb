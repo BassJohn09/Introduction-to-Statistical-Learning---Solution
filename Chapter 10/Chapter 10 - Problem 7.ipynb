{
 "cells": [
  {
   "cell_type": "markdown",
   "metadata": {},
   "source": [
    "# Chapter 10 - Problem 7"
   ]
  },
  {
   "cell_type": "markdown",
   "metadata": {},
   "source": [
    "In the chapter, we mentioned the use of correlation-based distance\n",
    "and Euclidean distance as dissimilarity measures for hierarchical clustering.\n",
    "It turns out that these two measures are almost equivalent: if\n",
    "each observation has been centered to have mean zero and standard\n",
    "deviation one, and if we let rij denote the correlation between the ith\n",
    "and jth observations, then the quantity 1−rij is proportional to the\n",
    "squared Euclidean distance between the ith and jth observations.\n",
    "On the *USArrests* data, show that this proportionality holds."
   ]
  },
  {
   "cell_type": "code",
   "execution_count": 74,
   "metadata": {},
   "outputs": [],
   "source": [
    "scale.obs <- scale(USArrests[,1:3])\n",
    "US.correlation <- as.dist(1 - cor(scale.obs))\n",
    "US.euclid <- dist(t(scale.obs))^2"
   ]
  },
  {
   "cell_type": "code",
   "execution_count": 75,
   "metadata": {},
   "outputs": [
    {
     "data": {
      "text/plain": [
       "   Min. 1st Qu.  Median    Mean 3rd Qu.    Max. \n",
       " 0.0102  0.0102  0.0102  0.0102  0.0102  0.0102 "
      ]
     },
     "metadata": {},
     "output_type": "display_data"
    }
   ],
   "source": [
    "summary(US.correlation/US.euclid)"
   ]
  }
 ],
 "metadata": {
  "kernelspec": {
   "display_name": "R",
   "language": "R",
   "name": "ir"
  },
  "language_info": {
   "codemirror_mode": "r",
   "file_extension": ".r",
   "mimetype": "text/x-r-source",
   "name": "R",
   "pygments_lexer": "r",
   "version": "3.5.1"
  }
 },
 "nbformat": 4,
 "nbformat_minor": 2
}
