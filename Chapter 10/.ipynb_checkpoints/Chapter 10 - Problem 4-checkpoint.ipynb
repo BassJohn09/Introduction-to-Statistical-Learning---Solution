{
 "cells": [
  {
   "cell_type": "markdown",
   "metadata": {},
   "source": [
    "# Chapter 10 - Problem 4"
   ]
  },
  {
   "cell_type": "markdown",
   "metadata": {},
   "source": [
    "Suppose that for a particular data set, we perform hierarchical clustering\n",
    "using single linkage and using complete linkage. We obtain two\n",
    "dendrograms."
   ]
  },
  {
   "cell_type": "markdown",
   "metadata": {},
   "source": [
    "**A.** At a certain point on the single linkage dendrogram, the clusters\n",
    "{1, 2, 3} and {4, 5} fuse. On the complete linkage dendrogram,\n",
    "the clusters {1, 2, 3} and {4, 5} also fuse at a certain point.\n",
    "Which fusion will occur higher on the tree, or will they fuse at\n",
    "the same height, or is there not enough information to tell?"
   ]
  },
  {
   "cell_type": "markdown",
   "metadata": {},
   "source": [
    "**ANS:** There is not enough information to tell. If the maximal intercluster dissimilarity(original linkage) were equal to the minimum intercluster distance (single) then the height would be the same. Otherwise the fusion will happen lower for the simple linkage tree."
   ]
  },
  {
   "cell_type": "markdown",
   "metadata": {},
   "source": [
    "**B.** At a certain point on the single linkage dendrogram, the clusters\n",
    "{5} and {6} fuse. On the complete linkage dendrogram, the clusters\n",
    "{5} and {6} also fuse at a certain point. Which fusion will\n",
    "occur higher on the tree, or will they fuse at the same height, or\n",
    "is there not enough information to tell?"
   ]
  },
  {
   "cell_type": "markdown",
   "metadata": {},
   "source": [
    "**ANS:** They will fuse at the same height because the cluster are leaf nodes and the criteria to fuse leaf nodes is the same regardless of the type of linkage used."
   ]
  },
  {
   "cell_type": "code",
   "execution_count": null,
   "metadata": {},
   "outputs": [],
   "source": []
  }
 ],
 "metadata": {
  "kernelspec": {
   "display_name": "R",
   "language": "R",
   "name": "ir"
  },
  "language_info": {
   "codemirror_mode": "r",
   "file_extension": ".r",
   "mimetype": "text/x-r-source",
   "name": "R",
   "pygments_lexer": "r",
   "version": "3.5.1"
  }
 },
 "nbformat": 4,
 "nbformat_minor": 2
}
