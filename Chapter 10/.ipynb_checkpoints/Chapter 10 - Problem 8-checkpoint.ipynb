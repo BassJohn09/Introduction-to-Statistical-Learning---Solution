{
 "cells": [
  {
   "cell_type": "markdown",
   "metadata": {},
   "source": [
    "# Chapter 10 - Problem 8"
   ]
  },
  {
   "cell_type": "markdown",
   "metadata": {},
   "source": [
    "In Section 10.2.3, a formula for calculating PVE was given in Equation\n",
    "10.8. We also saw that the PVE can be obtained using the sdev\n",
    "output of the prcomp() function.\n",
    "On the USArrests data, calculate PVE in two ways:"
   ]
  },
  {
   "cell_type": "markdown",
   "metadata": {},
   "source": [
    "**A.** Using the sdev output of the prcomp() function, as was done in\n",
    "Section 10.2.3."
   ]
  },
  {
   "cell_type": "code",
   "execution_count": 9,
   "metadata": {},
   "outputs": [
    {
     "data": {
      "text/html": [
       "<table>\n",
       "<thead><tr><th scope=col>PVE</th><th scope=col>PVE.cumsum</th></tr></thead>\n",
       "<tbody>\n",
       "\t<tr><td>0.62006039</td><td>0.6200604 </td></tr>\n",
       "\t<tr><td>0.24744129</td><td>0.8675017 </td></tr>\n",
       "\t<tr><td>0.08914080</td><td>0.9566425 </td></tr>\n",
       "\t<tr><td>0.04335752</td><td>1.0000000 </td></tr>\n",
       "</tbody>\n",
       "</table>\n"
      ],
      "text/latex": [
       "\\begin{tabular}{r|ll}\n",
       " PVE & PVE.cumsum\\\\\n",
       "\\hline\n",
       "\t 0.62006039 & 0.6200604 \\\\\n",
       "\t 0.24744129 & 0.8675017 \\\\\n",
       "\t 0.08914080 & 0.9566425 \\\\\n",
       "\t 0.04335752 & 1.0000000 \\\\\n",
       "\\end{tabular}\n"
      ],
      "text/markdown": [
       "\n",
       "PVE | PVE.cumsum | \n",
       "|---|---|---|---|\n",
       "| 0.62006039 | 0.6200604  | \n",
       "| 0.24744129 | 0.8675017  | \n",
       "| 0.08914080 | 0.9566425  | \n",
       "| 0.04335752 | 1.0000000  | \n",
       "\n",
       "\n"
      ],
      "text/plain": [
       "  PVE        PVE.cumsum\n",
       "1 0.62006039 0.6200604 \n",
       "2 0.24744129 0.8675017 \n",
       "3 0.08914080 0.9566425 \n",
       "4 0.04335752 1.0000000 "
      ]
     },
     "metadata": {},
     "output_type": "display_data"
    }
   ],
   "source": [
    "USArrests.sc <- scale(USArrests)\n",
    "pca.out <- prcomp(USArrests.sc,center = TRUE)\n",
    "sdev <- pca.out$sdev^2\n",
    "PVE <- sdev/sum(sdev)\n",
    "PVE.cumsum <- cumsum(PVE)\n",
    "\n",
    "data.frame(PVE,PVE.cumsum)"
   ]
  },
  {
   "cell_type": "markdown",
   "metadata": {},
   "source": [
    "**B.** By applying Equation 10.8 directly. That is, use the prcomp()\n",
    "function to compute the principal component loadings. Then,\n",
    "use those loadings in Equation 10.8 to obtain the PVE."
   ]
  },
  {
   "cell_type": "code",
   "execution_count": 48,
   "metadata": {},
   "outputs": [
    {
     "data": {
      "text/html": [
       "<table>\n",
       "<thead><tr><th scope=col>PVE.2</th><th scope=col>PVE.2.cumsum</th></tr></thead>\n",
       "<tbody>\n",
       "\t<tr><td>0.62006039</td><td>0.6200604 </td></tr>\n",
       "\t<tr><td>0.24744129</td><td>0.8675017 </td></tr>\n",
       "\t<tr><td>0.08914080</td><td>0.9566425 </td></tr>\n",
       "\t<tr><td>0.04335752</td><td>1.0000000 </td></tr>\n",
       "</tbody>\n",
       "</table>\n"
      ],
      "text/latex": [
       "\\begin{tabular}{r|ll}\n",
       " PVE.2 & PVE.2.cumsum\\\\\n",
       "\\hline\n",
       "\t 0.62006039 & 0.6200604 \\\\\n",
       "\t 0.24744129 & 0.8675017 \\\\\n",
       "\t 0.08914080 & 0.9566425 \\\\\n",
       "\t 0.04335752 & 1.0000000 \\\\\n",
       "\\end{tabular}\n"
      ],
      "text/markdown": [
       "\n",
       "PVE.2 | PVE.2.cumsum | \n",
       "|---|---|---|---|\n",
       "| 0.62006039 | 0.6200604  | \n",
       "| 0.24744129 | 0.8675017  | \n",
       "| 0.08914080 | 0.9566425  | \n",
       "| 0.04335752 | 1.0000000  | \n",
       "\n",
       "\n"
      ],
      "text/plain": [
       "  PVE.2      PVE.2.cumsum\n",
       "1 0.62006039 0.6200604   \n",
       "2 0.24744129 0.8675017   \n",
       "3 0.08914080 0.9566425   \n",
       "4 0.04335752 1.0000000   "
      ]
     },
     "metadata": {},
     "output_type": "display_data"
    }
   ],
   "source": [
    "loadings <- pca.out$rotation\n",
    "PVE.2 <- rep(NA, length(sdev))\n",
    "\n",
    "for (i in 1:length(sdev)) {\n",
    "    phi <- loadings[,i]\n",
    "    load.x <- sweep(USArrests.sc, MARGIN = 2, STATS = phi, FUN = \"*\")\n",
    "    sum.x <- apply(load.x, 1, sum)\n",
    "    sqr.x <- sum.x^2 \n",
    "    PVE.2[i] = sum(sqr.x)\n",
    "}\n",
    "\n",
    "PVE.2 <- PVE.2/sum(USArrests.sc^2)\n",
    "PVE.2.cumsum <- cumsum(PVE.2)\n",
    "\n",
    "data.frame(PVE.2,PVE.2.cumsum)"
   ]
  }
 ],
 "metadata": {
  "kernelspec": {
   "display_name": "R",
   "language": "R",
   "name": "ir"
  },
  "language_info": {
   "codemirror_mode": "r",
   "file_extension": ".r",
   "mimetype": "text/x-r-source",
   "name": "R",
   "pygments_lexer": "r",
   "version": "3.5.1"
  }
 },
 "nbformat": 4,
 "nbformat_minor": 2
}
