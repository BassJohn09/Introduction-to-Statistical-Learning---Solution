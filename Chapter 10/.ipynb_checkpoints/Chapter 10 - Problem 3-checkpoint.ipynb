{
 "cells": [
  {
   "cell_type": "markdown",
   "metadata": {},
   "source": [
    "# Chapter 10 - Problem 3"
   ]
  },
  {
   "cell_type": "markdown",
   "metadata": {},
   "source": [
    "**3.** In this problem, you will perform K-means clustering manually, with\n",
    "K = 2, on a small example with n = 6 observations and p = 2\n",
    "features."
   ]
  },
  {
   "cell_type": "markdown",
   "metadata": {},
   "source": [
    "**A.** Plot the observations."
   ]
  },
  {
   "cell_type": "code",
   "execution_count": 1,
   "metadata": {},
   "outputs": [
    {
     "data": {
      "image/png": "[encoded data removed]",
      "text/plain": [
       "plot without title"
      ]
     },
     "metadata": {},
     "output_type": "display_data"
    }
   ],
   "source": [
    "D <- data.frame(X1 = c(1,1,0,5,6,4), X2 = c(4,3,4,1,2,0))\n",
    "plot(D, type = 'p', pch = 20, col = \"blue\")"
   ]
  },
  {
   "cell_type": "markdown",
   "metadata": {},
   "source": [
    "**B.** Randomly assign a cluster label to each observation. You can\n",
    "use the sample() command in R to do this. Report the cluster\n",
    "labels for each observation."
   ]
  },
  {
   "cell_type": "code",
   "execution_count": 2,
   "metadata": {},
   "outputs": [],
   "source": [
    "set.seed(2010)\n",
    "label <- sample(1:2,nrow(D), replace = TRUE)"
   ]
  },
  {
   "cell_type": "markdown",
   "metadata": {},
   "source": [
    "**C.** Compute the centroid for each cluster."
   ]
  },
  {
   "cell_type": "code",
   "execution_count": 3,
   "metadata": {},
   "outputs": [],
   "source": [
    "p <- 2\n",
    "nc <- 2\n",
    "centroid <- matrix(NA,nc,p)\n",
    "\n",
    "for (c in 1:2){\n",
    "    centroid[c,] <- apply(D[which(label == c),],2,mean)\n",
    "}\n"
   ]
  },
  {
   "cell_type": "code",
   "execution_count": 153,
   "metadata": {},
   "outputs": [
    {
     "data": {
      "image/png": "[encoded data removed]",
      "text/plain": [
       "plot without title"
      ]
     },
     "metadata": {},
     "output_type": "display_data"
    }
   ],
   "source": [
    "plot(D[,1:2], col=(label+1), pch=20)\n",
    "points(centroid, col = c(2,3), pch=3)"
   ]
  },
  {
   "cell_type": "markdown",
   "metadata": {},
   "source": [
    "**D.** Assign each observation to the centroid to which it is closest, in\n",
    "terms of Euclidean distance. Report the cluster labels for each\n",
    "observation."
   ]
  },
  {
   "cell_type": "code",
   "execution_count": 4,
   "metadata": {},
   "outputs": [],
   "source": [
    "euclid_dist <- function(point,centroid){\n",
    "    \n",
    "    #point and centroid must have the same number of features\n",
    "\n",
    "    dist <- 0\n",
    "    for (i in 1:ncol(point)){\n",
    "        dist <- (point[i] - centroid[i])^2 + dist\n",
    "    } \n",
    "    \n",
    "    return(dist)\n",
    "}\n",
    "\n",
    "closest <- function(points, centroids){\n",
    "    \n",
    "    nc <- ncol(centroids)\n",
    "    np <- nrow(points)\n",
    "\n",
    "    distances <- data.frame(matrix(NA,p,nc))\n",
    "    colnames(distances) <- seq(1,nc)\n",
    "    \n",
    "    for (p in 1:np){\n",
    "        for (i in 1:nc){\n",
    "            distances[p,i] <- euclid_dist(points[p,],centroids[i,])\n",
    "        }\n",
    "    }\n",
    "    \n",
    "    mins <- colnames(distances)[apply(distances,1,which.min)]\n",
    "    \n",
    "    return(distances)\n",
    "}"
   ]
  },
  {
   "cell_type": "code",
   "execution_count": 5,
   "metadata": {},
   "outputs": [
    {
     "name": "stdout",
     "output_type": "stream",
     "text": [
      "[1] 6\n"
     ]
    },
    {
     "data": {
      "text/html": [
       "<table>\n",
       "<thead><tr><th scope=col>1</th><th scope=col>2</th></tr></thead>\n",
       "<tbody>\n",
       "\t<tr><td> 2       </td><td>12.555556</td></tr>\n",
       "\t<tr><td> 1       </td><td> 8.888889</td></tr>\n",
       "\t<tr><td> 5       </td><td>18.888889</td></tr>\n",
       "\t<tr><td>13       </td><td> 2.222222</td></tr>\n",
       "\t<tr><td>17       </td><td> 5.555556</td></tr>\n",
       "\t<tr><td>13       </td><td> 2.888889</td></tr>\n",
       "</tbody>\n",
       "</table>\n"
      ],
      "text/latex": [
       "\\begin{tabular}{r|ll}\n",
       " 1 & 2\\\\\n",
       "\\hline\n",
       "\t  2        & 12.555556\\\\\n",
       "\t  1        &  8.888889\\\\\n",
       "\t  5        & 18.888889\\\\\n",
       "\t 13        &  2.222222\\\\\n",
       "\t 17        &  5.555556\\\\\n",
       "\t 13        &  2.888889\\\\\n",
       "\\end{tabular}\n"
      ],
      "text/markdown": [
       "\n",
       "1 | 2 | \n",
       "|---|---|---|---|---|---|\n",
       "|  2        | 12.555556 | \n",
       "|  1        |  8.888889 | \n",
       "|  5        | 18.888889 | \n",
       "| 13        |  2.222222 | \n",
       "| 17        |  5.555556 | \n",
       "| 13        |  2.888889 | \n",
       "\n",
       "\n"
      ],
      "text/plain": [
       "  1  2        \n",
       "1  2 12.555556\n",
       "2  1  8.888889\n",
       "3  5 18.888889\n",
       "4 13  2.222222\n",
       "5 17  5.555556\n",
       "6 13  2.888889"
      ]
     },
     "metadata": {},
     "output_type": "display_data"
    }
   ],
   "source": [
    "Newclass <- closest(D,centroid) \n",
    "Newclass"
   ]
  },
  {
   "cell_type": "code",
   "execution_count": 239,
   "metadata": {},
   "outputs": [
    {
     "name": "stdout",
     "output_type": "stream",
     "text": [
      "[1] 6\n",
      "character(0)\n"
     ]
    }
   ],
   "source": []
  },
  {
   "cell_type": "code",
   "execution_count": 135,
   "metadata": {},
   "outputs": [
    {
     "data": {
      "text/html": [
       "2"
      ],
      "text/latex": [
       "2"
      ],
      "text/markdown": [
       "2"
      ],
      "text/plain": [
       "[1] 2"
      ]
     },
     "metadata": {},
     "output_type": "display_data"
    }
   ],
   "source": []
  },
  {
   "cell_type": "code",
   "execution_count": null,
   "metadata": {},
   "outputs": [],
   "source": []
  }
 ],
 "metadata": {
  "kernelspec": {
   "display_name": "R",
   "language": "R",
   "name": "ir"
  },
  "language_info": {
   "codemirror_mode": "r",
   "file_extension": ".r",
   "mimetype": "text/x-r-source",
   "name": "R",
   "pygments_lexer": "r",
   "version": "3.5.1"
  }
 },
 "nbformat": 4,
 "nbformat_minor": 2
}
