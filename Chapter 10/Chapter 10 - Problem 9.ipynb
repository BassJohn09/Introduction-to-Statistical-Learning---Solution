{
 "cells": [
  {
   "cell_type": "markdown",
   "metadata": {},
   "source": [
    "# Chapter 10 - Problem 9"
   ]
  },
  {
   "cell_type": "markdown",
   "metadata": {},
   "source": [
    "Consider the USArrests data. We will now perform hierarchical clustering\n",
    "on the states."
   ]
  },
  {
   "cell_type": "markdown",
   "metadata": {},
   "source": [
    "**A.** Using hierarchical clustering with complete linkage and\n",
    "Euclidean distance, cluster the states."
   ]
  },
  {
   "cell_type": "code",
   "execution_count": 7,
   "metadata": {},
   "outputs": [
    {
     "data": {
      "image/png": "[encoded data removed]",
      "text/plain": [
       "Plot with title \"Cluster Dendrogram\""
      ]
     },
     "metadata": {},
     "output_type": "display_data"
    }
   ],
   "source": [
    "states <- dist(USArrests)\n",
    "hc.complete <- hclust(states,method = \"complete\")\n",
    "plot(hc.complete)"
   ]
  },
  {
   "cell_type": "markdown",
   "metadata": {},
   "source": [
    "**B.** Cut the dendrogram at a height that results in three distinct\n",
    "clusters. Which states belong to which clusters?"
   ]
  },
  {
   "cell_type": "code",
   "execution_count": 10,
   "metadata": {},
   "outputs": [
    {
     "data": {
      "text/html": [
       "<dl class=dl-horizontal>\n",
       "\t<dt>Alabama</dt>\n",
       "\t\t<dd>1</dd>\n",
       "\t<dt>Alaska</dt>\n",
       "\t\t<dd>2</dd>\n",
       "\t<dt>Arizona</dt>\n",
       "\t\t<dd>3</dd>\n",
       "\t<dt>California</dt>\n",
       "\t\t<dd>5</dd>\n",
       "\t<dt>Delaware</dt>\n",
       "\t\t<dd>8</dd>\n",
       "\t<dt>Florida</dt>\n",
       "\t\t<dd>9</dd>\n",
       "\t<dt>Illinois</dt>\n",
       "\t\t<dd>13</dd>\n",
       "\t<dt>Louisiana</dt>\n",
       "\t\t<dd>18</dd>\n",
       "\t<dt>Maryland</dt>\n",
       "\t\t<dd>20</dd>\n",
       "\t<dt>Michigan</dt>\n",
       "\t\t<dd>22</dd>\n",
       "\t<dt>Mississippi</dt>\n",
       "\t\t<dd>24</dd>\n",
       "\t<dt>Nevada</dt>\n",
       "\t\t<dd>28</dd>\n",
       "\t<dt>New Mexico</dt>\n",
       "\t\t<dd>31</dd>\n",
       "\t<dt>New York</dt>\n",
       "\t\t<dd>32</dd>\n",
       "\t<dt>North Carolina</dt>\n",
       "\t\t<dd>33</dd>\n",
       "\t<dt>South Carolina</dt>\n",
       "\t\t<dd>40</dd>\n",
       "</dl>\n"
      ],
      "text/latex": [
       "\\begin{description*}\n",
       "\\item[Alabama] 1\n",
       "\\item[Alaska] 2\n",
       "\\item[Arizona] 3\n",
       "\\item[California] 5\n",
       "\\item[Delaware] 8\n",
       "\\item[Florida] 9\n",
       "\\item[Illinois] 13\n",
       "\\item[Louisiana] 18\n",
       "\\item[Maryland] 20\n",
       "\\item[Michigan] 22\n",
       "\\item[Mississippi] 24\n",
       "\\item[Nevada] 28\n",
       "\\item[New Mexico] 31\n",
       "\\item[New York] 32\n",
       "\\item[North Carolina] 33\n",
       "\\item[South Carolina] 40\n",
       "\\end{description*}\n"
      ],
      "text/markdown": [
       "Alabama\n",
       ":   1Alaska\n",
       ":   2Arizona\n",
       ":   3California\n",
       ":   5Delaware\n",
       ":   8Florida\n",
       ":   9Illinois\n",
       ":   13Louisiana\n",
       ":   18Maryland\n",
       ":   20Michigan\n",
       ":   22Mississippi\n",
       ":   24Nevada\n",
       ":   28New Mexico\n",
       ":   31New York\n",
       ":   32North Carolina\n",
       ":   33South Carolina\n",
       ":   40\n",
       "\n"
      ],
      "text/plain": [
       "       Alabama         Alaska        Arizona     California       Delaware \n",
       "             1              2              3              5              8 \n",
       "       Florida       Illinois      Louisiana       Maryland       Michigan \n",
       "             9             13             18             20             22 \n",
       "   Mississippi         Nevada     New Mexico       New York North Carolina \n",
       "            24             28             31             32             33 \n",
       "South Carolina \n",
       "            40 "
      ]
     },
     "metadata": {},
     "output_type": "display_data"
    }
   ],
   "source": [
    "which(cutree(hc.complete,3) == 1)"
   ]
  },
  {
   "cell_type": "code",
   "execution_count": 11,
   "metadata": {},
   "outputs": [
    {
     "data": {
      "text/html": [
       "<dl class=dl-horizontal>\n",
       "\t<dt>Arkansas</dt>\n",
       "\t\t<dd>4</dd>\n",
       "\t<dt>Colorado</dt>\n",
       "\t\t<dd>6</dd>\n",
       "\t<dt>Georgia</dt>\n",
       "\t\t<dd>10</dd>\n",
       "\t<dt>Massachusetts</dt>\n",
       "\t\t<dd>21</dd>\n",
       "\t<dt>Missouri</dt>\n",
       "\t\t<dd>25</dd>\n",
       "\t<dt>New Jersey</dt>\n",
       "\t\t<dd>30</dd>\n",
       "\t<dt>Oklahoma</dt>\n",
       "\t\t<dd>36</dd>\n",
       "\t<dt>Oregon</dt>\n",
       "\t\t<dd>37</dd>\n",
       "\t<dt>Rhode Island</dt>\n",
       "\t\t<dd>39</dd>\n",
       "\t<dt>Tennessee</dt>\n",
       "\t\t<dd>42</dd>\n",
       "\t<dt>Texas</dt>\n",
       "\t\t<dd>43</dd>\n",
       "\t<dt>Virginia</dt>\n",
       "\t\t<dd>46</dd>\n",
       "\t<dt>Washington</dt>\n",
       "\t\t<dd>47</dd>\n",
       "\t<dt>Wyoming</dt>\n",
       "\t\t<dd>50</dd>\n",
       "</dl>\n"
      ],
      "text/latex": [
       "\\begin{description*}\n",
       "\\item[Arkansas] 4\n",
       "\\item[Colorado] 6\n",
       "\\item[Georgia] 10\n",
       "\\item[Massachusetts] 21\n",
       "\\item[Missouri] 25\n",
       "\\item[New Jersey] 30\n",
       "\\item[Oklahoma] 36\n",
       "\\item[Oregon] 37\n",
       "\\item[Rhode Island] 39\n",
       "\\item[Tennessee] 42\n",
       "\\item[Texas] 43\n",
       "\\item[Virginia] 46\n",
       "\\item[Washington] 47\n",
       "\\item[Wyoming] 50\n",
       "\\end{description*}\n"
      ],
      "text/markdown": [
       "Arkansas\n",
       ":   4Colorado\n",
       ":   6Georgia\n",
       ":   10Massachusetts\n",
       ":   21Missouri\n",
       ":   25New Jersey\n",
       ":   30Oklahoma\n",
       ":   36Oregon\n",
       ":   37Rhode Island\n",
       ":   39Tennessee\n",
       ":   42Texas\n",
       ":   43Virginia\n",
       ":   46Washington\n",
       ":   47Wyoming\n",
       ":   50\n",
       "\n"
      ],
      "text/plain": [
       "     Arkansas      Colorado       Georgia Massachusetts      Missouri \n",
       "            4             6            10            21            25 \n",
       "   New Jersey      Oklahoma        Oregon  Rhode Island     Tennessee \n",
       "           30            36            37            39            42 \n",
       "        Texas      Virginia    Washington       Wyoming \n",
       "           43            46            47            50 "
      ]
     },
     "metadata": {},
     "output_type": "display_data"
    }
   ],
   "source": [
    "which(cutree(hc.complete,3) == 2)"
   ]
  },
  {
   "cell_type": "code",
   "execution_count": 12,
   "metadata": {},
   "outputs": [
    {
     "data": {
      "text/html": [
       "<dl class=dl-horizontal>\n",
       "\t<dt>Connecticut</dt>\n",
       "\t\t<dd>7</dd>\n",
       "\t<dt>Hawaii</dt>\n",
       "\t\t<dd>11</dd>\n",
       "\t<dt>Idaho</dt>\n",
       "\t\t<dd>12</dd>\n",
       "\t<dt>Indiana</dt>\n",
       "\t\t<dd>14</dd>\n",
       "\t<dt>Iowa</dt>\n",
       "\t\t<dd>15</dd>\n",
       "\t<dt>Kansas</dt>\n",
       "\t\t<dd>16</dd>\n",
       "\t<dt>Kentucky</dt>\n",
       "\t\t<dd>17</dd>\n",
       "\t<dt>Maine</dt>\n",
       "\t\t<dd>19</dd>\n",
       "\t<dt>Minnesota</dt>\n",
       "\t\t<dd>23</dd>\n",
       "\t<dt>Montana</dt>\n",
       "\t\t<dd>26</dd>\n",
       "\t<dt>Nebraska</dt>\n",
       "\t\t<dd>27</dd>\n",
       "\t<dt>New Hampshire</dt>\n",
       "\t\t<dd>29</dd>\n",
       "\t<dt>North Dakota</dt>\n",
       "\t\t<dd>34</dd>\n",
       "\t<dt>Ohio</dt>\n",
       "\t\t<dd>35</dd>\n",
       "\t<dt>Pennsylvania</dt>\n",
       "\t\t<dd>38</dd>\n",
       "\t<dt>South Dakota</dt>\n",
       "\t\t<dd>41</dd>\n",
       "\t<dt>Utah</dt>\n",
       "\t\t<dd>44</dd>\n",
       "\t<dt>Vermont</dt>\n",
       "\t\t<dd>45</dd>\n",
       "\t<dt>West Virginia</dt>\n",
       "\t\t<dd>48</dd>\n",
       "\t<dt>Wisconsin</dt>\n",
       "\t\t<dd>49</dd>\n",
       "</dl>\n"
      ],
      "text/latex": [
       "\\begin{description*}\n",
       "\\item[Connecticut] 7\n",
       "\\item[Hawaii] 11\n",
       "\\item[Idaho] 12\n",
       "\\item[Indiana] 14\n",
       "\\item[Iowa] 15\n",
       "\\item[Kansas] 16\n",
       "\\item[Kentucky] 17\n",
       "\\item[Maine] 19\n",
       "\\item[Minnesota] 23\n",
       "\\item[Montana] 26\n",
       "\\item[Nebraska] 27\n",
       "\\item[New Hampshire] 29\n",
       "\\item[North Dakota] 34\n",
       "\\item[Ohio] 35\n",
       "\\item[Pennsylvania] 38\n",
       "\\item[South Dakota] 41\n",
       "\\item[Utah] 44\n",
       "\\item[Vermont] 45\n",
       "\\item[West Virginia] 48\n",
       "\\item[Wisconsin] 49\n",
       "\\end{description*}\n"
      ],
      "text/markdown": [
       "Connecticut\n",
       ":   7Hawaii\n",
       ":   11Idaho\n",
       ":   12Indiana\n",
       ":   14Iowa\n",
       ":   15Kansas\n",
       ":   16Kentucky\n",
       ":   17Maine\n",
       ":   19Minnesota\n",
       ":   23Montana\n",
       ":   26Nebraska\n",
       ":   27New Hampshire\n",
       ":   29North Dakota\n",
       ":   34Ohio\n",
       ":   35Pennsylvania\n",
       ":   38South Dakota\n",
       ":   41Utah\n",
       ":   44Vermont\n",
       ":   45West Virginia\n",
       ":   48Wisconsin\n",
       ":   49\n",
       "\n"
      ],
      "text/plain": [
       "  Connecticut        Hawaii         Idaho       Indiana          Iowa \n",
       "            7            11            12            14            15 \n",
       "       Kansas      Kentucky         Maine     Minnesota       Montana \n",
       "           16            17            19            23            26 \n",
       "     Nebraska New Hampshire  North Dakota          Ohio  Pennsylvania \n",
       "           27            29            34            35            38 \n",
       " South Dakota          Utah       Vermont West Virginia     Wisconsin \n",
       "           41            44            45            48            49 "
      ]
     },
     "metadata": {},
     "output_type": "display_data"
    }
   ],
   "source": [
    "which(cutree(hc.complete,3) == 3)"
   ]
  },
  {
   "cell_type": "markdown",
   "metadata": {},
   "source": [
    "**C.** Hierarchically cluster the states using complete linkage and Euclidean\n",
    "distance, after scaling the variables to have standard deviation\n",
    "one."
   ]
  },
  {
   "cell_type": "code",
   "execution_count": 17,
   "metadata": {},
   "outputs": [
    {
     "data": {
      "image/png": "[encoded data removed]",
      "text/plain": [
       "Plot with title \"Cluster Dendrogram\""
      ]
     },
     "metadata": {},
     "output_type": "display_data"
    }
   ],
   "source": [
    "states.sc <- dist(scale(USArrests))\n",
    "hc.complete.sc <- hclust(states.sc,method = \"complete\")\n",
    "plot(hc.complete.sc)"
   ]
  },
  {
   "cell_type": "markdown",
   "metadata": {},
   "source": [
    "**D.** What effect does scaling the variables have on the hierarchical\n",
    "clustering obtained? In your opinion, should the variables be\n",
    "scaled before the inter-observation dissimilarities are computed?\n",
    "Provide a justification for your answer."
   ]
  },
  {
   "cell_type": "markdown",
   "metadata": {},
   "source": [
    "The clustering produced after scaling *USarrests* is more balanced and easier to interpret. \n",
    "It is often necessary to scale before computing the dissimilarities since variables at different scales will affect the clustering process.\n",
    "consider the case of analyzing variables with different units (°C, USD, bar, etc.) since each unit is different, the magnitude of the variable will be different and the larger values will predominate in the clustering process.\n",
    "Therefore in order to consider all variables in the clustering process. Scaling is necessary.\n",
    "\n",
    "That said, there are cases when all variables have the same units where it might be better not to scale. In these cases is better to try both ways and interpret the results."
   ]
  },
  {
   "cell_type": "code",
   "execution_count": null,
   "metadata": {},
   "outputs": [],
   "source": []
  }
 ],
 "metadata": {
  "kernelspec": {
   "display_name": "R",
   "language": "R",
   "name": "ir"
  },
  "language_info": {
   "codemirror_mode": "r",
   "file_extension": ".r",
   "mimetype": "text/x-r-source",
   "name": "R",
   "pygments_lexer": "r",
   "version": "3.5.1"
  }
 },
 "nbformat": 4,
 "nbformat_minor": 2
}
