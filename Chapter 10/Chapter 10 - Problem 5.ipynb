{
 "cells": [
  {
   "cell_type": "markdown",
   "metadata": {},
   "source": [
    "# Chapter 10 - Problem 5"
   ]
  },
  {
   "cell_type": "markdown",
   "metadata": {},
   "source": [
    "In words, describe the results that you would expect if you performed\n",
    "K-means clustering of the eight shoppers in Figure 10.14, on the\n",
    "basis of their sock and computer purchases, with K = 2. Give three\n",
    "answers, one for each of the variable scalings displayed. Explain."
   ]
  },
  {
   "cell_type": "markdown",
   "metadata": {},
   "source": [
    "**A.** <br>\n",
    "**Variable:** Number of units sold to each shopper <br>\n",
    "**Scaling:** None <br>\n",
    "**Expected Results:** The cluster will separate who bought many socks vs who bought few socks. The number of computers will have a limited effect on the clustering. <br>\n",
    "**Clusters:** {1,2,7,8} vs {3,4,5,6}\n"
   ]
  },
  {
   "cell_type": "markdown",
   "metadata": {},
   "source": [
    "**B.** <br>\n",
    "**Variable:** Number of units sold to each shopper <br>\n",
    "**Scaling:** Yes, standard normalization <br>\n",
    "**Expected Results:** The cluster will separate who bought most socks and computers vs who bought few socks and computers. <br>\n",
    "**Cluster:** {2,5,6,7,8} vs {1,3,4}"
   ]
  },
  {
   "cell_type": "markdown",
   "metadata": {},
   "source": [
    "**C.** <br>\n",
    "**Variable:** dollars spent per shopper <br>\n",
    "**Scaling:** None <br>\n",
    "**Expected Results:** The cluster will separate who bought most computers vs who bought few computers. The dollar amount of purchased socks is very low when compared to the dollar amount of each computer hence will have low effect on the clustering <br>\n",
    "**Cluster:** {5,6,7,8} vs {1,2,3,4}"
   ]
  },
  {
   "cell_type": "code",
   "execution_count": null,
   "metadata": {},
   "outputs": [],
   "source": []
  }
 ],
 "metadata": {
  "kernelspec": {
   "display_name": "R",
   "language": "R",
   "name": "ir"
  },
  "language_info": {
   "codemirror_mode": "r",
   "file_extension": ".r",
   "mimetype": "text/x-r-source",
   "name": "R",
   "pygments_lexer": "r",
   "version": "3.5.1"
  }
 },
 "nbformat": 4,
 "nbformat_minor": 2
}
