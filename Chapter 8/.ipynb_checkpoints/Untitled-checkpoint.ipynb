{
 "cells": [
  {
   "cell_type": "markdown",
   "metadata": {},
   "source": [
    "12. Apply boosting, bagging, and random forests to a data set of your\n",
    "choice. Be sure to fit the models on a training set and to evaluate their\n",
    "performance on a test set. How accurate are the results compared\n",
    "to simple methods like linear or logistic regression? Which of these\n",
    "approaches yields the best performance?"
   ]
  },
  {
   "cell_type": "markdown",
   "metadata": {},
   "source": [
    "The dataset is the Kickstarter dataset from kaggle.com. <br>\n",
    "https://www.kaggle.com/kemical/kickstarter-projects#ks-projects-201801.csv <br>\n",
    "\n",
    "It examines over 300,000 kickstarter projects. The goal is to predict whether a project will succeed or no given three important predictors: Category, Subcategory, Amount of backers, time frame of the project, the goal amount and the country where the project was launched. "
   ]
  },
  {
   "cell_type": "code",
   "execution_count": null,
   "metadata": {},
   "outputs": [],
   "source": []
  }
 ],
 "metadata": {
  "kernelspec": {
   "display_name": "R",
   "language": "R",
   "name": "ir"
  },
  "language_info": {
   "codemirror_mode": "r",
   "file_extension": ".r",
   "mimetype": "text/x-r-source",
   "name": "R",
   "pygments_lexer": "r",
   "version": "3.5.1"
  }
 },
 "nbformat": 4,
 "nbformat_minor": 2
}
