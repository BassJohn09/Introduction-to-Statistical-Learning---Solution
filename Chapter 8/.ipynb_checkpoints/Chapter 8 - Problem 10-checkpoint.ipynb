{
 "cells": [
  {
   "cell_type": "markdown",
   "metadata": {},
   "source": [
    "## Chapter 8 - Problem 10\n",
    "***"
   ]
  },
  {
   "cell_type": "markdown",
   "metadata": {},
   "source": [
    "**10.** We now use boosting to predict *Salary* in the *Hitters* data set."
   ]
  },
  {
   "cell_type": "markdown",
   "metadata": {},
   "source": [
    "**A.** Remove the observations for whom the salary information is\n",
    "unknown, and then log-transform the salaries."
   ]
  },
  {
   "cell_type": "code",
   "execution_count": 1,
   "metadata": {},
   "outputs": [
    {
     "name": "stderr",
     "output_type": "stream",
     "text": [
      "Loading required package: ISLR\n"
     ]
    },
    {
     "data": {
      "text/plain": [
       "     AtBat            Hits         HmRun            Runs       \n",
       " Min.   : 16.0   Min.   :  1   Min.   : 0.00   Min.   :  0.00  \n",
       " 1st Qu.:255.2   1st Qu.: 64   1st Qu.: 4.00   1st Qu.: 30.25  \n",
       " Median :379.5   Median : 96   Median : 8.00   Median : 48.00  \n",
       " Mean   :380.9   Mean   :101   Mean   :10.77   Mean   : 50.91  \n",
       " 3rd Qu.:512.0   3rd Qu.:137   3rd Qu.:16.00   3rd Qu.: 69.00  \n",
       " Max.   :687.0   Max.   :238   Max.   :40.00   Max.   :130.00  \n",
       "                                                               \n",
       "      RBI             Walks            Years            CAtBat       \n",
       " Min.   :  0.00   Min.   :  0.00   Min.   : 1.000   Min.   :   19.0  \n",
       " 1st Qu.: 28.00   1st Qu.: 22.00   1st Qu.: 4.000   1st Qu.:  816.8  \n",
       " Median : 44.00   Median : 35.00   Median : 6.000   Median : 1928.0  \n",
       " Mean   : 48.03   Mean   : 38.74   Mean   : 7.444   Mean   : 2648.7  \n",
       " 3rd Qu.: 64.75   3rd Qu.: 53.00   3rd Qu.:11.000   3rd Qu.: 3924.2  \n",
       " Max.   :121.00   Max.   :105.00   Max.   :24.000   Max.   :14053.0  \n",
       "                                                                     \n",
       "     CHits            CHmRun           CRuns             CRBI        \n",
       " Min.   :   4.0   Min.   :  0.00   Min.   :   1.0   Min.   :   0.00  \n",
       " 1st Qu.: 209.0   1st Qu.: 14.00   1st Qu.: 100.2   1st Qu.:  88.75  \n",
       " Median : 508.0   Median : 37.50   Median : 247.0   Median : 220.50  \n",
       " Mean   : 717.6   Mean   : 69.49   Mean   : 358.8   Mean   : 330.12  \n",
       " 3rd Qu.:1059.2   3rd Qu.: 90.00   3rd Qu.: 526.2   3rd Qu.: 426.25  \n",
       " Max.   :4256.0   Max.   :548.00   Max.   :2165.0   Max.   :1659.00  \n",
       "                                                                     \n",
       "     CWalks        League  Division    PutOuts          Assists     \n",
       " Min.   :   0.00   A:175   E:157    Min.   :   0.0   Min.   :  0.0  \n",
       " 1st Qu.:  67.25   N:147   W:165    1st Qu.: 109.2   1st Qu.:  7.0  \n",
       " Median : 170.50                    Median : 212.0   Median : 39.5  \n",
       " Mean   : 260.24                    Mean   : 288.9   Mean   :106.9  \n",
       " 3rd Qu.: 339.25                    3rd Qu.: 325.0   3rd Qu.:166.0  \n",
       " Max.   :1566.00                    Max.   :1378.0   Max.   :492.0  \n",
       "                                                                    \n",
       "     Errors          Salary       NewLeague\n",
       " Min.   : 0.00   Min.   :  67.5   A:176    \n",
       " 1st Qu.: 3.00   1st Qu.: 190.0   N:146    \n",
       " Median : 6.00   Median : 425.0            \n",
       " Mean   : 8.04   Mean   : 535.9            \n",
       " 3rd Qu.:11.00   3rd Qu.: 750.0            \n",
       " Max.   :32.00   Max.   :2460.0            \n",
       "                 NA's   :59                "
      ]
     },
     "metadata": {},
     "output_type": "display_data"
    },
    {
     "data": {
      "text/html": [
       "59"
      ],
      "text/latex": [
       "59"
      ],
      "text/markdown": [
       "59"
      ],
      "text/plain": [
       "[1] 59"
      ]
     },
     "metadata": {},
     "output_type": "display_data"
    }
   ],
   "source": [
    "require(ISLR)\n",
    "summary(Hitters)\n",
    "sum(is.na(Hitters))"
   ]
  },
  {
   "cell_type": "code",
   "execution_count": 4,
   "metadata": {},
   "outputs": [
    {
     "data": {
      "text/html": [
       "0"
      ],
      "text/latex": [
       "0"
      ],
      "text/markdown": [
       "0"
      ],
      "text/plain": [
       "[1] 0"
      ]
     },
     "metadata": {},
     "output_type": "display_data"
    }
   ],
   "source": [
    "Hitters <- na.omit(Hitters)\n",
    "sum(is.na(Hitters))"
   ]
  },
  {
   "cell_type": "code",
   "execution_count": 5,
   "metadata": {},
   "outputs": [],
   "source": [
    "Hitters$logSalary <- log(Hitters$Salary)"
   ]
  },
  {
   "cell_type": "markdown",
   "metadata": {},
   "source": [
    "**B.** Create a training set consisting of the first 200 observations, and\n",
    "a test set consisting of the remaining observations."
   ]
  },
  {
   "cell_type": "code",
   "execution_count": 6,
   "metadata": {},
   "outputs": [],
   "source": [
    "set.seed(6872)\n",
    "train <- sample(1:nrow(Hitters),200)\n",
    "Hitters.train <- Hitters[train,]\n",
    "Hitters.test <- Hitters[-train,]"
   ]
  },
  {
   "cell_type": "markdown",
   "metadata": {},
   "source": [
    "**C.** Perform boosting on the training set with 1,000 trees for a range\n",
    "of values of the shrinkage parameter λ. Produce a plot with\n",
    "different shrinkage values on the x-axis and the corresponding\n",
    "training set MSE on the y-axis."
   ]
  },
  {
   "cell_type": "code",
   "execution_count": 57,
   "metadata": {},
   "outputs": [],
   "source": [
    "require(gbm)\n",
    "power <- seq(from = -5, to = 0,by = 0.1)\n",
    "nshrink <- 10^power\n",
    "\n",
    "train.mse <- rep(NA,length(power))\n",
    "\n",
    "for (i in 1:length(nshrink)){\n",
    "    Hitters.boosting <- gbm(logSalary~.-Salary,data = Hitters.train, distribution = \"gaussian\", \n",
    "                            n.trees = 1000,shrinkage = nshrink[i])\n",
    "    train.mse[i] <- Hitters.boosting$train.error[1000]\n",
    "}\n",
    "\n"
   ]
  },
  {
   "cell_type": "code",
   "execution_count": 58,
   "metadata": {},
   "outputs": [
    {
     "data": {
      "image/png": "[encoded data removed]",
      "text/plain": [
       "plot without title"
      ]
     },
     "metadata": {},
     "output_type": "display_data"
    }
   ],
   "source": [
    "plot(nshrink,train.mse, col = \"blue\", pch = 19, type = \"b\", xlab = \"Shrinkage\", ylab = \"Training Error\")"
   ]
  },
  {
   "cell_type": "markdown",
   "metadata": {},
   "source": [
    "Lower shrinkage error produce more training error. This is because low shrinkage values require more trees to give better performance."
   ]
  },
  {
   "cell_type": "markdown",
   "metadata": {},
   "source": [
    "**D.** Produce a plot with different shrinkage values on the x-axis and\n",
    "the corresponding test set MSE on the y-axis."
   ]
  },
  {
   "cell_type": "code",
   "execution_count": 59,
   "metadata": {},
   "outputs": [
    {
     "data": {
      "image/png": "[encoded data removed]",
      "text/plain": [
       "plot without title"
      ]
     },
     "metadata": {},
     "output_type": "display_data"
    }
   ],
   "source": [
    "hitters.pred <- rep(NA,nrow(Hitters.test))\n",
    "test.mse <- rep(NA,length(power))\n",
    "\n",
    "for (i in 1:length(nshrink)){\n",
    "    Hitters.boosting <- gbm(logSalary~.-Salary,data = Hitters.train, distribution = \"gaussian\", \n",
    "                            n.trees = 1000,shrinkage = nshrink[i])\n",
    "    hitters.pred <- predict(Hitters.boosting,newdata = Hitters.test,n.trees = 100)\n",
    "    test.mse[i] <- mean((hitters.pred-Hitters.test$logSalary)^2) \n",
    "}\n",
    "\n",
    "plot(nshrink,test.mse, col = \"red\", pch = 19, type = \"b\", xlab = \"Shrinkage\", ylab = \"Test Error\")"
   ]
  },
  {
   "cell_type": "code",
   "execution_count": 69,
   "metadata": {},
   "outputs": [
    {
     "data": {
      "text/html": [
       "0.195744356845171"
      ],
      "text/latex": [
       "0.195744356845171"
      ],
      "text/markdown": [
       "0.195744356845171"
      ],
      "text/plain": [
       "[1] 0.1957444"
      ]
     },
     "metadata": {},
     "output_type": "display_data"
    }
   ],
   "source": [
    "min(test.mse)"
   ]
  },
  {
   "cell_type": "code",
   "execution_count": 61,
   "metadata": {},
   "outputs": [
    {
     "data": {
      "text/html": [
       "0.199526231496888"
      ],
      "text/latex": [
       "0.199526231496888"
      ],
      "text/markdown": [
       "0.199526231496888"
      ],
      "text/plain": [
       "[1] 0.1995262"
      ]
     },
     "metadata": {},
     "output_type": "display_data"
    }
   ],
   "source": [
    "nshrink[which.min(test.mse)]"
   ]
  },
  {
   "cell_type": "markdown",
   "metadata": {},
   "source": [
    "at $\\lambda = 0.2$ the minimum test error was attained."
   ]
  },
  {
   "cell_type": "markdown",
   "metadata": {},
   "source": [
    "**E.** Compare the test MSE of boosting to the test MSE that results from applying two of the regression approaches seen in\n",
    "Chapters 3 and 6."
   ]
  },
  {
   "cell_type": "markdown",
   "metadata": {},
   "source": [
    "## Linear Regression"
   ]
  },
  {
   "cell_type": "code",
   "execution_count": 67,
   "metadata": {},
   "outputs": [
    {
     "data": {
      "text/html": [
       "0.454130825645376"
      ],
      "text/latex": [
       "0.454130825645376"
      ],
      "text/markdown": [
       "0.454130825645376"
      ],
      "text/plain": [
       "[1] 0.4541308"
      ]
     },
     "metadata": {},
     "output_type": "display_data"
    }
   ],
   "source": [
    "hitters.linear <- lm(logSalary~.-Salary, data = Hitters.train)\n",
    "hitters.linear.pred <- predict(hitters.linear, newdata = Hitters.test, type = \"response\")\n",
    "test.mse.linear <- mean((hitters.linear.pred - Hitters.test$logSalary)^2)\n",
    "test.mse.linear"
   ]
  },
  {
   "cell_type": "markdown",
   "metadata": {},
   "source": [
    "## Ridge Regression"
   ]
  },
  {
   "cell_type": "code",
   "execution_count": 80,
   "metadata": {},
   "outputs": [
    {
     "data": {
      "image/png": "[encoded data removed]",
      "text/plain": [
       "plot without title"
      ]
     },
     "metadata": {},
     "output_type": "display_data"
    }
   ],
   "source": [
    "library(glmnet)\n",
    "\n",
    "x <- model.matrix(logSalary~.-1-Salary,data = Hitters.train) #Eliminates intercept\n",
    "y <- Hitters.train$logSalary\n",
    "\n",
    "cv.ridge <- cv.glmnet(x,y,alpha = 0)\n",
    "plot(cv.ridge)"
   ]
  },
  {
   "cell_type": "code",
   "execution_count": 103,
   "metadata": {},
   "outputs": [],
   "source": [
    "ridge.tr <- glmnet(x,y,alpha = 0,nlambda = 10)\n",
    "\n",
    "x.test <- model.matrix(logSalary~.-1-Salary,data = Hitters.test)\n",
    "y.test <- Hitters.test$logSalary\n",
    "\n",
    "ridge.pred <- predict(ridge.tr,newx = x.test)\n",
    "ridge.mse <- mean((ridge.pred-y.test)^2)"
   ]
  },
  {
   "cell_type": "code",
   "execution_count": 104,
   "metadata": {},
   "outputs": [
    {
     "data": {
      "text/html": [
       "0.647942138084747"
      ],
      "text/latex": [
       "0.647942138084747"
      ],
      "text/markdown": [
       "0.647942138084747"
      ],
      "text/plain": [
       "[1] 0.6479421"
      ]
     },
     "metadata": {},
     "output_type": "display_data"
    }
   ],
   "source": [
    "ridge.mse"
   ]
  },
  {
   "cell_type": "markdown",
   "metadata": {},
   "source": [
    "Both Ridge Regression and Linear Model have a higher test MSE than the boosting method."
   ]
  },
  {
   "cell_type": "markdown",
   "metadata": {},
   "source": [
    "**F.** Which variables appear to be the most important predictors in\n",
    "the boosted model?"
   ]
  },
  {
   "cell_type": "code",
   "execution_count": 107,
   "metadata": {},
   "outputs": [
    {
     "data": {
      "text/html": [
       "<table>\n",
       "<thead><tr><th></th><th scope=col>var</th><th scope=col>rel.inf</th></tr></thead>\n",
       "<tbody>\n",
       "\t<tr><th scope=row>CAtBat</th><td>CAtBat    </td><td>12.4847053</td></tr>\n",
       "\t<tr><th scope=row>CWalks</th><td>CWalks    </td><td> 9.7817654</td></tr>\n",
       "\t<tr><th scope=row>CHmRun</th><td>CHmRun    </td><td> 8.3781052</td></tr>\n",
       "\t<tr><th scope=row>PutOuts</th><td>PutOuts   </td><td> 8.3545115</td></tr>\n",
       "\t<tr><th scope=row>CRuns</th><td>CRuns     </td><td> 8.2302507</td></tr>\n",
       "\t<tr><th scope=row>Walks</th><td>Walks     </td><td> 7.6749070</td></tr>\n",
       "\t<tr><th scope=row>Assists</th><td>Assists   </td><td> 6.2481290</td></tr>\n",
       "\t<tr><th scope=row>Runs</th><td>Runs      </td><td> 6.0978940</td></tr>\n",
       "\t<tr><th scope=row>AtBat</th><td>AtBat     </td><td> 5.6016416</td></tr>\n",
       "\t<tr><th scope=row>Hits</th><td>Hits      </td><td> 5.2424259</td></tr>\n",
       "\t<tr><th scope=row>CRBI</th><td>CRBI      </td><td> 4.2368788</td></tr>\n",
       "\t<tr><th scope=row>RBI</th><td>RBI       </td><td> 4.2046798</td></tr>\n",
       "\t<tr><th scope=row>Years</th><td>Years     </td><td> 4.1733734</td></tr>\n",
       "\t<tr><th scope=row>HmRun</th><td>HmRun     </td><td> 3.8480667</td></tr>\n",
       "\t<tr><th scope=row>CHits</th><td>CHits     </td><td> 2.0913974</td></tr>\n",
       "\t<tr><th scope=row>Errors</th><td>Errors    </td><td> 1.9841599</td></tr>\n",
       "\t<tr><th scope=row>NewLeague</th><td>NewLeague </td><td> 0.7724777</td></tr>\n",
       "\t<tr><th scope=row>Division</th><td>Division  </td><td> 0.4846685</td></tr>\n",
       "\t<tr><th scope=row>League</th><td>League    </td><td> 0.1099622</td></tr>\n",
       "</tbody>\n",
       "</table>\n"
      ],
      "text/latex": [
       "\\begin{tabular}{r|ll}\n",
       "  & var & rel.inf\\\\\n",
       "\\hline\n",
       "\tCAtBat & CAtBat     & 12.4847053\\\\\n",
       "\tCWalks & CWalks     &  9.7817654\\\\\n",
       "\tCHmRun & CHmRun     &  8.3781052\\\\\n",
       "\tPutOuts & PutOuts    &  8.3545115\\\\\n",
       "\tCRuns & CRuns      &  8.2302507\\\\\n",
       "\tWalks & Walks      &  7.6749070\\\\\n",
       "\tAssists & Assists    &  6.2481290\\\\\n",
       "\tRuns & Runs       &  6.0978940\\\\\n",
       "\tAtBat & AtBat      &  5.6016416\\\\\n",
       "\tHits & Hits       &  5.2424259\\\\\n",
       "\tCRBI & CRBI       &  4.2368788\\\\\n",
       "\tRBI & RBI        &  4.2046798\\\\\n",
       "\tYears & Years      &  4.1733734\\\\\n",
       "\tHmRun & HmRun      &  3.8480667\\\\\n",
       "\tCHits & CHits      &  2.0913974\\\\\n",
       "\tErrors & Errors     &  1.9841599\\\\\n",
       "\tNewLeague & NewLeague  &  0.7724777\\\\\n",
       "\tDivision & Division   &  0.4846685\\\\\n",
       "\tLeague & League     &  0.1099622\\\\\n",
       "\\end{tabular}\n"
      ],
      "text/markdown": [
       "\n",
       "| <!--/--> | var | rel.inf | \n",
       "|---|---|---|---|---|---|---|---|---|---|---|---|---|---|---|---|---|---|---|\n",
       "| CAtBat | CAtBat     | 12.4847053 | \n",
       "| CWalks | CWalks     |  9.7817654 | \n",
       "| CHmRun | CHmRun     |  8.3781052 | \n",
       "| PutOuts | PutOuts    |  8.3545115 | \n",
       "| CRuns | CRuns      |  8.2302507 | \n",
       "| Walks | Walks      |  7.6749070 | \n",
       "| Assists | Assists    |  6.2481290 | \n",
       "| Runs | Runs       |  6.0978940 | \n",
       "| AtBat | AtBat      |  5.6016416 | \n",
       "| Hits | Hits       |  5.2424259 | \n",
       "| CRBI | CRBI       |  4.2368788 | \n",
       "| RBI | RBI        |  4.2046798 | \n",
       "| Years | Years      |  4.1733734 | \n",
       "| HmRun | HmRun      |  3.8480667 | \n",
       "| CHits | CHits      |  2.0913974 | \n",
       "| Errors | Errors     |  1.9841599 | \n",
       "| NewLeague | NewLeague  |  0.7724777 | \n",
       "| Division | Division   |  0.4846685 | \n",
       "| League | League     |  0.1099622 | \n",
       "\n",
       "\n"
      ],
      "text/plain": [
       "          var       rel.inf   \n",
       "CAtBat    CAtBat    12.4847053\n",
       "CWalks    CWalks     9.7817654\n",
       "CHmRun    CHmRun     8.3781052\n",
       "PutOuts   PutOuts    8.3545115\n",
       "CRuns     CRuns      8.2302507\n",
       "Walks     Walks      7.6749070\n",
       "Assists   Assists    6.2481290\n",
       "Runs      Runs       6.0978940\n",
       "AtBat     AtBat      5.6016416\n",
       "Hits      Hits       5.2424259\n",
       "CRBI      CRBI       4.2368788\n",
       "RBI       RBI        4.2046798\n",
       "Years     Years      4.1733734\n",
       "HmRun     HmRun      3.8480667\n",
       "CHits     CHits      2.0913974\n",
       "Errors    Errors     1.9841599\n",
       "NewLeague NewLeague  0.7724777\n",
       "Division  Division   0.4846685\n",
       "League    League     0.1099622"
      ]
     },
     "metadata": {},
     "output_type": "display_data"
    },
    {
     "data": {
      "image/png": "[encoded data removed]",
      "text/plain": [
       "plot without title"
      ]
     },
     "metadata": {},
     "output_type": "display_data"
    }
   ],
   "source": [
    "Hitters.boosting <- gbm(logSalary~.-Salary,data = Hitters.train, distribution = \"gaussian\", \n",
    "                            n.trees = 1000,shrinkage = 0.2)\n",
    "summary(Hitters.boosting)"
   ]
  },
  {
   "cell_type": "markdown",
   "metadata": {},
   "source": [
    "According to the boosting method. The most important variables on the salary are: <br>\n",
    "**CAtBat**: number of times at bat during his career. <br>\n",
    "**CWalks**: number of walks during his career. <br>\n",
    "**CHmRun**: number of Home runs during his career. <br>\n",
    "**PutOuts**: Number of put outs. <br>"
   ]
  },
  {
   "cell_type": "markdown",
   "metadata": {},
   "source": [
    "**G.** Now apply bagging to the training set. What is the test set MSE\n",
    "for this approach?"
   ]
  },
  {
   "cell_type": "code",
   "execution_count": 116,
   "metadata": {},
   "outputs": [],
   "source": [
    "Hitters.bagging <- randomForest(logSalary~.-Salary,data = Hitters.train, \n",
    "                                mtry = ncol(Hitters.train)-2, ntree = 500)\n",
    "Hitters.pred <- predict(Hitters.bagging,newdata = Hitters.test)\n",
    "bagging.test.error <- with(Hitters.test,mean((logSalary-Hitters.pred)^2)) "
   ]
  },
  {
   "cell_type": "code",
   "execution_count": 117,
   "metadata": {},
   "outputs": [
    {
     "data": {
      "text/html": [
       "0.237998039336969"
      ],
      "text/latex": [
       "0.237998039336969"
      ],
      "text/markdown": [
       "0.237998039336969"
      ],
      "text/plain": [
       "[1] 0.237998"
      ]
     },
     "metadata": {},
     "output_type": "display_data"
    }
   ],
   "source": [
    "bagging.test.error "
   ]
  },
  {
   "cell_type": "markdown",
   "metadata": {},
   "source": [
    "The bagging test error is slighlty higher than the test error obtained from the boosting error. However it is still lower than both the test error obtained from the linear and the ridge regression models."
   ]
  },
  {
   "cell_type": "code",
   "execution_count": null,
   "metadata": {},
   "outputs": [],
   "source": []
  }
 ],
 "metadata": {
  "kernelspec": {
   "display_name": "R",
   "language": "R",
   "name": "ir"
  },
  "language_info": {
   "codemirror_mode": "r",
   "file_extension": ".r",
   "mimetype": "text/x-r-source",
   "name": "R",
   "pygments_lexer": "r",
   "version": "3.5.1"
  }
 },
 "nbformat": 4,
 "nbformat_minor": 2
}
