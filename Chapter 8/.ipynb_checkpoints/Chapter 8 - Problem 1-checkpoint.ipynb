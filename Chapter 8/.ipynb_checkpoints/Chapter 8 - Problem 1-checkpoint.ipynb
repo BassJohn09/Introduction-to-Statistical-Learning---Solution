{
 "cells": [
  {
   "cell_type": "markdown",
   "metadata": {},
   "source": [
    "## Chapter 8 - Problem 1\n",
    "***"
   ]
  },
  {
   "cell_type": "markdown",
   "metadata": {},
   "source": [
    "1. Draw an example (of your own invention) of a partition of two dimensional\n",
    "feature space that could result from recursive binary\n",
    "splitting. Your example should contain at least six regions. Draw a\n",
    "decision tree corresponding to this partition. Be sure to label all aspects\n",
    "of your figures, including the regions $R_1$,$R_2$, . . ., the cutpoints\n",
    "$t_1$, $t_2$, . . ., and so forth. <br>\n",
    "**Hint**: Your result should look something like Figures 8.1 and 8.2."
   ]
  },
  {
   "cell_type": "markdown",
   "metadata": {},
   "source": [
    "The example used consider the expenses of a household as the response and the household income and the credit card debt as predictors. The examples considers the following partitions: <br>\n",
    "\n",
    "X = Expenses in USD <br>\n",
    "I = Income in USD <br>\n",
    "C = Credit card debt in USD <br>\n",
    "$$R_1 = \\{X \\,|\\, I \\leq 30000 \\, , C \\leq 10000 \\,\\}$$\n",
    "$$R_2 = \\{X \\,|\\, 30000 < I \\leq 80000 \\,, C \\leq 10000 \\, \\}$$\n",
    "$$R_3 = \\{X \\,|\\, I > 80000 \\, , C \\leq 10000 \\,\\}$$\n",
    "$$R_4 = \\{X \\,|\\, I \\leq 30000 \\, ,10000 < C \\leq 20000 \\,\\}$$\n",
    "$$R_5 = \\{X \\,|\\, 30000 < I \\leq 80000 \\,, 10000 < C \\leq 20000 \\, \\}$$\n",
    "$$R_6 = \\{X \\,|\\, I > 80000 \\, , 10000 < C \\leq 20000  \\,\\}$$\n",
    "$$R_7 = \\{X \\,|\\, I \\leq 80000 \\,, C > 20000 \\, \\}$$\n",
    "$$R_8 = \\{X \\,|\\, I > 80000 \\, , C > 20000  \\,\\}$$\n"
   ]
  },
  {
   "cell_type": "code",
   "execution_count": 31,
   "metadata": {},
   "outputs": [
    {
     "data": {
      "image/png": "[encoded data removed]",
      "text/plain": [
       "plot without title"
      ]
     },
     "metadata": {},
     "output_type": "display_data"
    }
   ],
   "source": [
    "plot(NA,NA,xlab = \"Income\", ylab = \"Credit Card Debt\", xlim = c(0,100000),ylim = c(-100,30000))\n",
    "#Region 1\n",
    "lines(x = c(30000, 30000), y = c(0, 10000),type = \"l\", lty = 2)\n",
    "text(x = 30000, y = -100, labels = c(\"t1\"), col = \"blue\", cex = 0.5)\n",
    "\n",
    "#Region 2\n",
    "lines(x = c(80000, 80000), y = c(0, 10000),type = \"l\", lty = 2)\n",
    "text(x = 80000, y = -100, labels = c(\"t2\"), col = \"blue\", cex = 0.5)\n",
    "\n",
    "#Region 3\n",
    "lines(x = c(0, 100000), y = c(10000, 10000),type = \"l\", lty = 2)\n",
    "text(x = 0, y = 10000, labels = c(\"t3\"), col = \"blue\", cex = 0.5)\n",
    "\n",
    "#Region 4\n",
    "lines(x = c(30000, 30000), y = c(10001, 20000),type = \"l\", lty = 2)\n",
    "\n",
    "#Region 5\n",
    "lines(x = c(80000, 80000), y = c(10001, 20000),type = \"l\", lty = 2)\n",
    "\n",
    "#Region 6\n",
    "lines(x = c(80000, 80000), y = c(20001, 30000),type = \"l\", lty = 2)\n",
    "\n",
    "#Region 7\n",
    "lines(x = c(0, 100000), y = c(20000, 20000),type = \"l\", lty = 2)\n",
    "text(x = 0, y = 20000, labels = c(\"t4\"), col = \"blue\", cex = 0.5)\n",
    "\n",
    "\n",
    "text(x = 15000, y = 5000, labels = c(\"R1\"),col = \"red\")\n",
    "text(x = (30000+80000)/2, y = 5000, labels = c(\"R2\"),col = \"red\")\n",
    "text(x = 90000, y = 5000, labels = c(\"R3\"),col = \"red\")\n",
    "\n",
    "text(x = 15000, y = 15000, labels = c(\"R4\"),col = \"red\")\n",
    "text(x = (30000+80000)/2, y = 15000, labels = c(\"R5\"),col = \"red\")\n",
    "text(x = 90000, y = 15000, labels = c(\"R6\"),col = \"red\")\n",
    "\n",
    "text(x = 80000/2, y = 25000, labels = c(\"R7\"),col = \"red\")\n",
    "text(x = 90000, y = 25000, labels = c(\"R8\"),col = \"red\")\n"
   ]
  },
  {
   "cell_type": "code",
   "execution_count": 58,
   "metadata": {},
   "outputs": [],
   "source": [
    "R1 = c(15000,5000,100)\n",
    "R2 = c(50000,5000,5000)\n",
    "R3 = c(95000,5000,10000)\n",
    "R4 = c(15000,15000,1000)\n",
    "R5 = c(50000,15000,10000)\n",
    "R6 = c(95000,15000,20000)\n",
    "R7 = c(45000,25000,10000)\n",
    "R8 = c(95000,25000,50000)\n",
    "\n",
    "data = as.data.frame(rbind(R1,R2,R3,R4,R5,R6,R7,R8),optional = TRUE,\n",
    "                  row.names = 1:8)\n",
    "colnames(data) = c(\"Income\",\"Credit_Card_Debt\",\"Expenses\")\n",
    "\n",
    "library(rpart)\n",
    "tree.print <- rpart(Expenses ~ Credit_Card_Debt+Income, \n",
    "                data, method=\"class\")\n"
   ]
  },
  {
   "cell_type": "code",
   "execution_count": 63,
   "metadata": {},
   "outputs": [
    {
     "data": {
      "image/png": "[encoded data removed]",
      "text/plain": [
       "plot without title"
      ]
     },
     "metadata": {},
     "output_type": "display_data"
    }
   ],
   "source": [
    "library(rpart.plot)\n",
    "prp(tree.print,type=2,extra=\"auto\")"
   ]
  },
  {
   "cell_type": "code",
   "execution_count": null,
   "metadata": {},
   "outputs": [],
   "source": []
  },
  {
   "cell_type": "code",
   "execution_count": null,
   "metadata": {},
   "outputs": [],
   "source": []
  }
 ],
 "metadata": {
  "kernelspec": {
   "display_name": "R",
   "language": "R",
   "name": "ir"
  },
  "language_info": {
   "codemirror_mode": "r",
   "file_extension": ".r",
   "mimetype": "text/x-r-source",
   "name": "R",
   "pygments_lexer": "r",
   "version": "3.5.1"
  }
 },
 "nbformat": 4,
 "nbformat_minor": 2
}
