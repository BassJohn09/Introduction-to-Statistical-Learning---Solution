{
 "cells": [
  {
   "cell_type": "markdown",
   "metadata": {},
   "source": [
    "## Chapter 8 - Problem 9\n",
    "***"
   ]
  },
  {
   "cell_type": "markdown",
   "metadata": {},
   "source": [
    "9. This problem involves the OJ data set which is part of the ISLR\n",
    "package."
   ]
  },
  {
   "cell_type": "markdown",
   "metadata": {},
   "source": [
    "A. Create a training set containing a random sample of 800 observations,\n",
    "and a test set containing the remaining observations."
   ]
  },
  {
   "cell_type": "code",
   "execution_count": 8,
   "metadata": {},
   "outputs": [],
   "source": [
    "require(ISLR)\n",
    "require(tree)\n",
    "set.seed(1430)\n",
    "train <- sample(1:nrow(OJ),800)\n",
    "OJ.train <- OJ[train,]\n",
    "OJ.test <- OJ[-train,]"
   ]
  },
  {
   "cell_type": "markdown",
   "metadata": {},
   "source": [
    "**B.** Fit a tree to the training data, with Purchase as the response\n",
    "and the other variables except for Buy as predictors. Use the\n",
    "summary() function to produce summary statistics about the\n",
    "tree, and describe the results obtained. What is the training\n",
    "error rate? How many terminal nodes does the tree have?"
   ]
  },
  {
   "cell_type": "code",
   "execution_count": 13,
   "metadata": {},
   "outputs": [
    {
     "data": {
      "text/plain": [
       "\n",
       "Classification tree:\n",
       "tree(formula = Purchase ~ ., data = OJ.train)\n",
       "Variables actually used in tree construction:\n",
       "[1] \"LoyalCH\"       \"SalePriceMM\"   \"PriceDiff\"     \"ListPriceDiff\"\n",
       "Number of terminal nodes:  7 \n",
       "Residual mean deviance:  0.7502 = 594.9 / 793 \n",
       "Misclassification error rate: 0.1475 = 118 / 800 "
      ]
     },
     "metadata": {},
     "output_type": "display_data"
    }
   ],
   "source": [
    "OJ.tree <- tree(Purchase~., data = OJ.train)\n",
    "summary(OJ.tree)"
   ]
  },
  {
   "cell_type": "markdown",
   "metadata": {},
   "source": [
    "1. The training error rate is 0.1475. <br>  \n",
    "2. The final tree only considers 4 variables. **LoyalCH**, **SalePriceMM**, **PriceDiff** and **ListPriceDiff**. <br>\n",
    "3. The number of terminal nodes is 7. <br>"
   ]
  },
  {
   "cell_type": "markdown",
   "metadata": {},
   "source": [
    "**C.** Type in the name of the tree object in order to get a detailed\n",
    "text output. Pick one of the terminal nodes, and interpret the\n",
    "information displayed."
   ]
  },
  {
   "cell_type": "code",
   "execution_count": 14,
   "metadata": {},
   "outputs": [
    {
     "data": {
      "text/plain": [
       "node), split, n, deviance, yval, (yprob)\n",
       "      * denotes terminal node\n",
       "\n",
       " 1) root 800 1060.00 CH ( 0.62375 0.37625 )  \n",
       "   2) LoyalCH < 0.482304 281  306.30 MM ( 0.23488 0.76512 )  \n",
       "     4) LoyalCH < 0.260429 153   98.15 MM ( 0.09804 0.90196 ) *\n",
       "     5) LoyalCH > 0.260429 128  172.10 MM ( 0.39844 0.60156 )  \n",
       "      10) SalePriceMM < 2.04 71   78.16 MM ( 0.23944 0.76056 ) *\n",
       "      11) SalePriceMM > 2.04 57   76.88 CH ( 0.59649 0.40351 ) *\n",
       "   3) LoyalCH > 0.482304 519  466.10 CH ( 0.83430 0.16570 )  \n",
       "     6) LoyalCH < 0.753545 237  291.10 CH ( 0.69620 0.30380 )  \n",
       "      12) PriceDiff < -0.165 32   30.88 MM ( 0.18750 0.81250 ) *\n",
       "      13) PriceDiff > -0.165 205  218.30 CH ( 0.77561 0.22439 )  \n",
       "        26) ListPriceDiff < 0.115 31   42.68 MM ( 0.45161 0.54839 ) *\n",
       "        27) ListPriceDiff > 0.115 174  156.80 CH ( 0.83333 0.16667 ) *\n",
       "     7) LoyalCH > 0.753545 282  111.40 CH ( 0.95035 0.04965 ) *"
      ]
     },
     "metadata": {},
     "output_type": "display_data"
    }
   ],
   "source": [
    "OJ.tree"
   ]
  },
  {
   "cell_type": "markdown",
   "metadata": {},
   "source": [
    "For the analysis, i have picked terminal node 4 which is denoted with the * sign. \n",
    "1. The variable used for the split is **LoyalCH**. The criteria is that the value is below 0.26. <br>\n",
    "2. There are 153 data points under this terminal node. <br>\n",
    "3. The deviance is 98.15. <br>\n",
    "4. The prediction is that Sales = MM at this terminal node. <br>\n",
    "5. Almost 90% of the data points at this node have MM as Sales while 10% have CH as Sales.\n",
    "\n",
    "At **LoyalCH** values below 0.26 is very likely that a client will prefer MM over CH."
   ]
  },
  {
   "cell_type": "markdown",
   "metadata": {},
   "source": [
    "**D.** Create a plot of the tree, and interpret the results."
   ]
  },
  {
   "cell_type": "code",
   "execution_count": 17,
   "metadata": {
    "scrolled": true
   },
   "outputs": [
    {
     "data": {
      "image/png": "[encoded data removed]",
      "text/plain": [
       "plot without title"
      ]
     },
     "metadata": {},
     "output_type": "display_data"
    }
   ],
   "source": [
    "plot(OJ.tree); text(OJ.tree, pretty = 1)"
   ]
  },
  {
   "cell_type": "markdown",
   "metadata": {},
   "source": [
    "1. The main predictor of the Sale is **LoyalCH** values. At values lower than 0.26 it is likely a client will buy MM, at values above 0.75 they are likely to buy CH.\n",
    "2. At **LoyalCH** values between 0.26 and 0.48. The next predictor is the **SalPriceMM**. If the price is below 2.04, a client is more likely to buy MM. if above it is more probable that the client will buy CH.\n",
    "3. At **LoyalCH** values between 0.48 and 0.75. the next predictor is the **priceDiff**. If the **priceDiff** is below -0.165. the client will likely buy MM. if not then the **ListPriceDiff** is the next variable to consider. At **ListPriceDiff** below 0.115. a client is more likely to buy MM. if not, It is more probable that the client will buy CH.\n",
    "\n",
    "\n"
   ]
  },
  {
   "cell_type": "markdown",
   "metadata": {},
   "source": [
    "E. Predict the response on the test data, and produce a confusion\n",
    "matrix comparing the test labels to the predicted test labels.\n",
    "What is the test error rate?"
   ]
  },
  {
   "cell_type": "code",
   "execution_count": 19,
   "metadata": {},
   "outputs": [
    {
     "data": {
      "text/plain": [
       "       Purchase\n",
       "OJ.pred  CH  MM\n",
       "     CH 126  29\n",
       "     MM  28  87"
      ]
     },
     "metadata": {},
     "output_type": "display_data"
    }
   ],
   "source": [
    "OJ.pred <- predict(OJ.tree, newdata = OJ.test,type = \"class\") #type class to predict the classification not the probabilities\n",
    "with(OJ.test,table(OJ.pred,Purchase))"
   ]
  },
  {
   "cell_type": "code",
   "execution_count": 20,
   "metadata": {},
   "outputs": [
    {
     "data": {
      "text/html": [
       "0.211111111111111"
      ],
      "text/latex": [
       "0.211111111111111"
      ],
      "text/markdown": [
       "0.211111111111111"
      ],
      "text/plain": [
       "[1] 0.2111111"
      ]
     },
     "metadata": {},
     "output_type": "display_data"
    }
   ],
   "source": [
    "test.error <- (28+29)/(126+29+28+87)\n",
    "test.error"
   ]
  },
  {
   "cell_type": "markdown",
   "metadata": {},
   "source": [
    "The test error rate is 0.21"
   ]
  },
  {
   "cell_type": "markdown",
   "metadata": {},
   "source": [
    "**F.** Apply the cv.tree() function to the training set in order to\n",
    "determine the optimal tree size."
   ]
  },
  {
   "cell_type": "code",
   "execution_count": 26,
   "metadata": {},
   "outputs": [
    {
     "data": {
      "text/plain": [
       "$size\n",
       "[1] 7 6 5 4 3 2 1\n",
       "\n",
       "$dev\n",
       "[1]  676.9875  693.6062  701.9559  741.3316  743.7099  803.2650 1060.8665\n",
       "\n",
       "$k\n",
       "[1]      -Inf  17.08389  18.80790  36.06857  41.88607  63.63808 287.10133\n",
       "\n",
       "$method\n",
       "[1] \"deviance\"\n",
       "\n",
       "attr(,\"class\")\n",
       "[1] \"prune\"         \"tree.sequence\""
      ]
     },
     "metadata": {},
     "output_type": "display_data"
    }
   ],
   "source": [
    "OJ.cvtree <- cv.tree(OJ.tree, FUN = prune.tree) #10 fold cross validation\n",
    "OJ.cvtree"
   ]
  },
  {
   "cell_type": "markdown",
   "metadata": {},
   "source": [
    "**G.** Produce a plot with tree size on the x-axis and cross-validated\n",
    "classification error rate on the y-axis."
   ]
  },
  {
   "cell_type": "code",
   "execution_count": 29,
   "metadata": {},
   "outputs": [
    {
     "data": {
      "image/png": "[encoded data removed]",
      "text/plain": [
       "plot without title"
      ]
     },
     "metadata": {},
     "output_type": "display_data"
    }
   ],
   "source": [
    "plot(OJ.cvtree$size,OJ.cvtree$dev, xlab = \"size of the tree\", ylab = \"Cross-validation error\", col = \"red\",\n",
    "    type = \"b\", pch = 19)"
   ]
  },
  {
   "cell_type": "markdown",
   "metadata": {},
   "source": [
    "**H.** Which tree size corresponds to the lowest cross-validated classification\n",
    "error rate?"
   ]
  },
  {
   "cell_type": "markdown",
   "metadata": {},
   "source": [
    "The lowest cross validation error (deviance) is obtained at a tree size of 7, which is the original tree size obtained from point B."
   ]
  },
  {
   "cell_type": "markdown",
   "metadata": {},
   "source": [
    "**I.** Produce a pruned tree corresponding to the optimal tree size\n",
    "obtained using cross-validation. If cross-validation does not lead\n",
    "to selection of a pruned tree, then create a pruned tree with five\n",
    "terminal nodes."
   ]
  },
  {
   "cell_type": "code",
   "execution_count": 34,
   "metadata": {},
   "outputs": [
    {
     "data": {
      "image/png": "[encoded data removed]",
      "text/plain": [
       "plot without title"
      ]
     },
     "metadata": {},
     "output_type": "display_data"
    }
   ],
   "source": [
    "OJ.prunedtree = prune.misclass(OJ.tree,best = 5)\n",
    "plot(OJ.prunedtree); text(OJ.prunedtree,pretty = 0)"
   ]
  },
  {
   "cell_type": "markdown",
   "metadata": {},
   "source": [
    "**J.** Compare the training error rates between the pruned and unpruned\n",
    "trees. Which is higher?"
   ]
  },
  {
   "cell_type": "code",
   "execution_count": 36,
   "metadata": {},
   "outputs": [
    {
     "data": {
      "text/plain": [
       "\n",
       "Classification tree:\n",
       "snip.tree(tree = OJ.tree, nodes = 13L)\n",
       "Variables actually used in tree construction:\n",
       "[1] \"LoyalCH\"     \"SalePriceMM\" \"PriceDiff\"  \n",
       "Number of terminal nodes:  6 \n",
       "Residual mean deviance:  0.773 = 613.7 / 794 \n",
       "Misclassification error rate: 0.1512 = 121 / 800 "
      ]
     },
     "metadata": {},
     "output_type": "display_data"
    }
   ],
   "source": [
    "summary(OJ.prunedtree)"
   ]
  },
  {
   "cell_type": "markdown",
   "metadata": {},
   "source": [
    "Training error for the pruned tree is 0.1512 whereas the training error for the unpruned tree is 0.1475. The unpruned tree has a lower training error."
   ]
  },
  {
   "cell_type": "markdown",
   "metadata": {},
   "source": [
    "**K.** Compare the test error rates between the pruned and unpruned\n",
    "trees. Which is higher?"
   ]
  },
  {
   "cell_type": "code",
   "execution_count": 37,
   "metadata": {},
   "outputs": [
    {
     "data": {
      "text/plain": [
       "              Purchase\n",
       "OJ.pruned.pred  CH  MM\n",
       "            CH 131  32\n",
       "            MM  23  84"
      ]
     },
     "metadata": {},
     "output_type": "display_data"
    }
   ],
   "source": [
    "OJ.pruned.pred <- predict(OJ.prunedtree, newdata = OJ.test,type = \"class\") #type class to predict the classification not the probabilities\n",
    "with(OJ.test,table(OJ.pruned.pred,Purchase))"
   ]
  },
  {
   "cell_type": "code",
   "execution_count": 38,
   "metadata": {},
   "outputs": [
    {
     "data": {
      "text/html": [
       "0.203703703703704"
      ],
      "text/latex": [
       "0.203703703703704"
      ],
      "text/markdown": [
       "0.203703703703704"
      ],
      "text/plain": [
       "[1] 0.2037037"
      ]
     },
     "metadata": {},
     "output_type": "display_data"
    }
   ],
   "source": [
    "pruned.test.error <- (23+32)/(131+32+23+84)\n",
    "pruned.test.error"
   ]
  },
  {
   "cell_type": "markdown",
   "metadata": {},
   "source": [
    "The test error for the pruned tree is 0.2037 which is slighlty lower that the test error obtained from the unpruned tree 0.21."
   ]
  },
  {
   "cell_type": "code",
   "execution_count": null,
   "metadata": {},
   "outputs": [],
   "source": []
  }
 ],
 "metadata": {
  "kernelspec": {
   "display_name": "R",
   "language": "R",
   "name": "ir"
  },
  "language_info": {
   "codemirror_mode": "r",
   "file_extension": ".r",
   "mimetype": "text/x-r-source",
   "name": "R",
   "pygments_lexer": "r",
   "version": "3.5.1"
  }
 },
 "nbformat": 4,
 "nbformat_minor": 2
}
