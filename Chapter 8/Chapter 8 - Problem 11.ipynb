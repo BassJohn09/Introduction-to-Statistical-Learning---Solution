{
 "cells": [
  {
   "cell_type": "markdown",
   "metadata": {},
   "source": [
    "## Chapter 8 - Problem 11\n",
    "***"
   ]
  },
  {
   "cell_type": "markdown",
   "metadata": {},
   "source": [
    "**11.** This question uses the Caravan data set."
   ]
  },
  {
   "cell_type": "markdown",
   "metadata": {},
   "source": [
    "**A.** Create a training set consisting of the first 1,000 observations,\n",
    "and a test set consisting of the remaining observations."
   ]
  },
  {
   "cell_type": "code",
   "execution_count": 1,
   "metadata": {},
   "outputs": [
    {
     "name": "stderr",
     "output_type": "stream",
     "text": [
      "Loading required package: ISLR\n"
     ]
    },
    {
     "data": {
      "text/html": [
       "348"
      ],
      "text/latex": [
       "348"
      ],
      "text/markdown": [
       "348"
      ],
      "text/plain": [
       "[1] 348"
      ]
     },
     "metadata": {},
     "output_type": "display_data"
    }
   ],
   "source": [
    "require(ISLR)\n",
    "Caravan$Purchase <- ifelse(Caravan$Purchase == \"Yes\",1,0)\n",
    "Caravan.train <- Caravan[1:1000,]\n",
    "Caravan.test <- Caravan[-(1:1000),]"
   ]
  },
  {
   "cell_type": "markdown",
   "metadata": {},
   "source": [
    "**B.** Fit a boosting model to the training set with Purchase as the\n",
    "response and the other variables as predictors. Use 1,000 trees,\n",
    "and a shrinkage value of 0.01. Which predictors appear to be\n",
    "the most important?"
   ]
  },
  {
   "cell_type": "code",
   "execution_count": 2,
   "metadata": {},
   "outputs": [
    {
     "name": "stderr",
     "output_type": "stream",
     "text": [
      "Loading required package: gbm\n",
      "Warning message:\n",
      "\"package 'gbm' was built under R version 3.5.2\"Loaded gbm 2.1.4\n",
      "Warning message in gbm.fit(x = x, y = y, offset = offset, distribution = distribution, :\n",
      "\"variable 50: PVRAAUT has no variation.\"Warning message in gbm.fit(x = x, y = y, offset = offset, distribution = distribution, :\n",
      "\"variable 71: AVRAAUT has no variation.\""
     ]
    },
    {
     "data": {
      "text/html": [
       "<table>\n",
       "<thead><tr><th></th><th scope=col>var</th><th scope=col>rel.inf</th></tr></thead>\n",
       "<tbody>\n",
       "\t<tr><th scope=row>PPERSAUT</th><td>PPERSAUT  </td><td>14.7513893</td></tr>\n",
       "\t<tr><th scope=row>MKOOPKLA</th><td>MKOOPKLA  </td><td> 8.9786748</td></tr>\n",
       "\t<tr><th scope=row>MOPLHOOG</th><td>MOPLHOOG  </td><td> 7.5899527</td></tr>\n",
       "\t<tr><th scope=row>MBERMIDD</th><td>MBERMIDD  </td><td> 6.2544293</td></tr>\n",
       "\t<tr><th scope=row>PBRAND</th><td>PBRAND    </td><td> 5.4201131</td></tr>\n",
       "\t<tr><th scope=row>ABRAND</th><td>ABRAND    </td><td> 4.5051443</td></tr>\n",
       "\t<tr><th scope=row>MGODGE</th><td>MGODGE    </td><td> 4.4434212</td></tr>\n",
       "\t<tr><th scope=row>MINK3045</th><td>MINK3045  </td><td> 4.0745863</td></tr>\n",
       "\t<tr><th scope=row>MOSTYPE</th><td>MOSTYPE   </td><td> 3.2183438</td></tr>\n",
       "\t<tr><th scope=row>MSKC</th><td>MSKC      </td><td> 2.6545210</td></tr>\n",
       "\t<tr><th scope=row>MSKA</th><td>MSKA      </td><td> 2.5597473</td></tr>\n",
       "\t<tr><th scope=row>MGODPR</th><td>MGODPR    </td><td> 2.3827899</td></tr>\n",
       "\t<tr><th scope=row>MAUT1</th><td>MAUT1     </td><td> 2.3235483</td></tr>\n",
       "\t<tr><th scope=row>PWAPART</th><td>PWAPART   </td><td> 2.2316170</td></tr>\n",
       "\t<tr><th scope=row>MBERARBG</th><td>MBERARBG  </td><td> 2.1539744</td></tr>\n",
       "\t<tr><th scope=row>MGODOV</th><td>MGODOV    </td><td> 1.7955551</td></tr>\n",
       "\t<tr><th scope=row>MAUT2</th><td>MAUT2     </td><td> 1.7077861</td></tr>\n",
       "\t<tr><th scope=row>MSKB1</th><td>MSKB1     </td><td> 1.6942151</td></tr>\n",
       "\t<tr><th scope=row>MINKGEM</th><td>MINKGEM   </td><td> 1.5916760</td></tr>\n",
       "\t<tr><th scope=row>PBYSTAND</th><td>PBYSTAND  </td><td> 1.5111617</td></tr>\n",
       "\t<tr><th scope=row>APERSAUT</th><td>APERSAUT  </td><td> 1.3006019</td></tr>\n",
       "\t<tr><th scope=row>MOPLMIDD</th><td>MOPLMIDD  </td><td> 1.0917734</td></tr>\n",
       "\t<tr><th scope=row>MFWEKIND</th><td>MFWEKIND  </td><td> 1.0258264</td></tr>\n",
       "\t<tr><th scope=row>MAUT0</th><td>MAUT0     </td><td> 1.0049214</td></tr>\n",
       "\t<tr><th scope=row>MRELGE</th><td>MRELGE    </td><td> 0.9879326</td></tr>\n",
       "\t<tr><th scope=row>MINK7512</th><td>MINK7512  </td><td> 0.9352923</td></tr>\n",
       "\t<tr><th scope=row>MBERHOOG</th><td>MBERHOOG  </td><td> 0.9168707</td></tr>\n",
       "\t<tr><th scope=row>MGODRK</th><td>MGODRK    </td><td> 0.8604526</td></tr>\n",
       "\t<tr><th scope=row>PMOTSCO</th><td>PMOTSCO   </td><td> 0.7916552</td></tr>\n",
       "\t<tr><th scope=row>MINK4575</th><td>MINK4575  </td><td> 0.7592725</td></tr>\n",
       "\t<tr><th scope=row>...</th><td>...</td><td>...</td></tr>\n",
       "\t<tr><th scope=row>PAANHANG</th><td>PAANHANG</td><td>0       </td></tr>\n",
       "\t<tr><th scope=row>PTRACTOR</th><td>PTRACTOR</td><td>0       </td></tr>\n",
       "\t<tr><th scope=row>PWERKT</th><td>PWERKT  </td><td>0       </td></tr>\n",
       "\t<tr><th scope=row>PBROM</th><td>PBROM   </td><td>0       </td></tr>\n",
       "\t<tr><th scope=row>PPERSONG</th><td>PPERSONG</td><td>0       </td></tr>\n",
       "\t<tr><th scope=row>PGEZONG</th><td>PGEZONG </td><td>0       </td></tr>\n",
       "\t<tr><th scope=row>PWAOREG</th><td>PWAOREG </td><td>0       </td></tr>\n",
       "\t<tr><th scope=row>PZEILPL</th><td>PZEILPL </td><td>0       </td></tr>\n",
       "\t<tr><th scope=row>PPLEZIER</th><td>PPLEZIER</td><td>0       </td></tr>\n",
       "\t<tr><th scope=row>PFIETS</th><td>PFIETS  </td><td>0       </td></tr>\n",
       "\t<tr><th scope=row>PINBOED</th><td>PINBOED </td><td>0       </td></tr>\n",
       "\t<tr><th scope=row>AWAPART</th><td>AWAPART </td><td>0       </td></tr>\n",
       "\t<tr><th scope=row>AWABEDR</th><td>AWABEDR </td><td>0       </td></tr>\n",
       "\t<tr><th scope=row>AWALAND</th><td>AWALAND </td><td>0       </td></tr>\n",
       "\t<tr><th scope=row>ABESAUT</th><td>ABESAUT </td><td>0       </td></tr>\n",
       "\t<tr><th scope=row>AMOTSCO</th><td>AMOTSCO </td><td>0       </td></tr>\n",
       "\t<tr><th scope=row>AVRAAUT</th><td>AVRAAUT </td><td>0       </td></tr>\n",
       "\t<tr><th scope=row>AAANHANG</th><td>AAANHANG</td><td>0       </td></tr>\n",
       "\t<tr><th scope=row>ATRACTOR</th><td>ATRACTOR</td><td>0       </td></tr>\n",
       "\t<tr><th scope=row>AWERKT</th><td>AWERKT  </td><td>0       </td></tr>\n",
       "\t<tr><th scope=row>ABROM</th><td>ABROM   </td><td>0       </td></tr>\n",
       "\t<tr><th scope=row>ALEVEN</th><td>ALEVEN  </td><td>0       </td></tr>\n",
       "\t<tr><th scope=row>APERSONG</th><td>APERSONG</td><td>0       </td></tr>\n",
       "\t<tr><th scope=row>AGEZONG</th><td>AGEZONG </td><td>0       </td></tr>\n",
       "\t<tr><th scope=row>AWAOREG</th><td>AWAOREG </td><td>0       </td></tr>\n",
       "\t<tr><th scope=row>AZEILPL</th><td>AZEILPL </td><td>0       </td></tr>\n",
       "\t<tr><th scope=row>APLEZIER</th><td>APLEZIER</td><td>0       </td></tr>\n",
       "\t<tr><th scope=row>AFIETS</th><td>AFIETS  </td><td>0       </td></tr>\n",
       "\t<tr><th scope=row>AINBOED</th><td>AINBOED </td><td>0       </td></tr>\n",
       "\t<tr><th scope=row>ABYSTAND</th><td>ABYSTAND</td><td>0       </td></tr>\n",
       "</tbody>\n",
       "</table>\n"
      ],
      "text/latex": [
       "\\begin{tabular}{r|ll}\n",
       "  & var & rel.inf\\\\\n",
       "\\hline\n",
       "\tPPERSAUT & PPERSAUT   & 14.7513893\\\\\n",
       "\tMKOOPKLA & MKOOPKLA   &  8.9786748\\\\\n",
       "\tMOPLHOOG & MOPLHOOG   &  7.5899527\\\\\n",
       "\tMBERMIDD & MBERMIDD   &  6.2544293\\\\\n",
       "\tPBRAND & PBRAND     &  5.4201131\\\\\n",
       "\tABRAND & ABRAND     &  4.5051443\\\\\n",
       "\tMGODGE & MGODGE     &  4.4434212\\\\\n",
       "\tMINK3045 & MINK3045   &  4.0745863\\\\\n",
       "\tMOSTYPE & MOSTYPE    &  3.2183438\\\\\n",
       "\tMSKC & MSKC       &  2.6545210\\\\\n",
       "\tMSKA & MSKA       &  2.5597473\\\\\n",
       "\tMGODPR & MGODPR     &  2.3827899\\\\\n",
       "\tMAUT1 & MAUT1      &  2.3235483\\\\\n",
       "\tPWAPART & PWAPART    &  2.2316170\\\\\n",
       "\tMBERARBG & MBERARBG   &  2.1539744\\\\\n",
       "\tMGODOV & MGODOV     &  1.7955551\\\\\n",
       "\tMAUT2 & MAUT2      &  1.7077861\\\\\n",
       "\tMSKB1 & MSKB1      &  1.6942151\\\\\n",
       "\tMINKGEM & MINKGEM    &  1.5916760\\\\\n",
       "\tPBYSTAND & PBYSTAND   &  1.5111617\\\\\n",
       "\tAPERSAUT & APERSAUT   &  1.3006019\\\\\n",
       "\tMOPLMIDD & MOPLMIDD   &  1.0917734\\\\\n",
       "\tMFWEKIND & MFWEKIND   &  1.0258264\\\\\n",
       "\tMAUT0 & MAUT0      &  1.0049214\\\\\n",
       "\tMRELGE & MRELGE     &  0.9879326\\\\\n",
       "\tMINK7512 & MINK7512   &  0.9352923\\\\\n",
       "\tMBERHOOG & MBERHOOG   &  0.9168707\\\\\n",
       "\tMGODRK & MGODRK     &  0.8604526\\\\\n",
       "\tPMOTSCO & PMOTSCO    &  0.7916552\\\\\n",
       "\tMINK4575 & MINK4575   &  0.7592725\\\\\n",
       "\t... & ... & ...\\\\\n",
       "\tPAANHANG & PAANHANG & 0       \\\\\n",
       "\tPTRACTOR & PTRACTOR & 0       \\\\\n",
       "\tPWERKT & PWERKT   & 0       \\\\\n",
       "\tPBROM & PBROM    & 0       \\\\\n",
       "\tPPERSONG & PPERSONG & 0       \\\\\n",
       "\tPGEZONG & PGEZONG  & 0       \\\\\n",
       "\tPWAOREG & PWAOREG  & 0       \\\\\n",
       "\tPZEILPL & PZEILPL  & 0       \\\\\n",
       "\tPPLEZIER & PPLEZIER & 0       \\\\\n",
       "\tPFIETS & PFIETS   & 0       \\\\\n",
       "\tPINBOED & PINBOED  & 0       \\\\\n",
       "\tAWAPART & AWAPART  & 0       \\\\\n",
       "\tAWABEDR & AWABEDR  & 0       \\\\\n",
       "\tAWALAND & AWALAND  & 0       \\\\\n",
       "\tABESAUT & ABESAUT  & 0       \\\\\n",
       "\tAMOTSCO & AMOTSCO  & 0       \\\\\n",
       "\tAVRAAUT & AVRAAUT  & 0       \\\\\n",
       "\tAAANHANG & AAANHANG & 0       \\\\\n",
       "\tATRACTOR & ATRACTOR & 0       \\\\\n",
       "\tAWERKT & AWERKT   & 0       \\\\\n",
       "\tABROM & ABROM    & 0       \\\\\n",
       "\tALEVEN & ALEVEN   & 0       \\\\\n",
       "\tAPERSONG & APERSONG & 0       \\\\\n",
       "\tAGEZONG & AGEZONG  & 0       \\\\\n",
       "\tAWAOREG & AWAOREG  & 0       \\\\\n",
       "\tAZEILPL & AZEILPL  & 0       \\\\\n",
       "\tAPLEZIER & APLEZIER & 0       \\\\\n",
       "\tAFIETS & AFIETS   & 0       \\\\\n",
       "\tAINBOED & AINBOED  & 0       \\\\\n",
       "\tABYSTAND & ABYSTAND & 0       \\\\\n",
       "\\end{tabular}\n"
      ],
      "text/markdown": [
       "\n",
       "| <!--/--> | var | rel.inf | \n",
       "|---|---|---|---|---|---|---|---|---|---|---|---|---|---|---|---|---|---|---|---|---|---|---|---|---|---|---|---|---|---|---|---|---|---|---|---|---|---|---|---|---|---|---|---|---|---|---|---|---|---|---|---|---|---|---|---|---|---|---|---|---|\n",
       "| PPERSAUT | PPERSAUT   | 14.7513893 | \n",
       "| MKOOPKLA | MKOOPKLA   |  8.9786748 | \n",
       "| MOPLHOOG | MOPLHOOG   |  7.5899527 | \n",
       "| MBERMIDD | MBERMIDD   |  6.2544293 | \n",
       "| PBRAND | PBRAND     |  5.4201131 | \n",
       "| ABRAND | ABRAND     |  4.5051443 | \n",
       "| MGODGE | MGODGE     |  4.4434212 | \n",
       "| MINK3045 | MINK3045   |  4.0745863 | \n",
       "| MOSTYPE | MOSTYPE    |  3.2183438 | \n",
       "| MSKC | MSKC       |  2.6545210 | \n",
       "| MSKA | MSKA       |  2.5597473 | \n",
       "| MGODPR | MGODPR     |  2.3827899 | \n",
       "| MAUT1 | MAUT1      |  2.3235483 | \n",
       "| PWAPART | PWAPART    |  2.2316170 | \n",
       "| MBERARBG | MBERARBG   |  2.1539744 | \n",
       "| MGODOV | MGODOV     |  1.7955551 | \n",
       "| MAUT2 | MAUT2      |  1.7077861 | \n",
       "| MSKB1 | MSKB1      |  1.6942151 | \n",
       "| MINKGEM | MINKGEM    |  1.5916760 | \n",
       "| PBYSTAND | PBYSTAND   |  1.5111617 | \n",
       "| APERSAUT | APERSAUT   |  1.3006019 | \n",
       "| MOPLMIDD | MOPLMIDD   |  1.0917734 | \n",
       "| MFWEKIND | MFWEKIND   |  1.0258264 | \n",
       "| MAUT0 | MAUT0      |  1.0049214 | \n",
       "| MRELGE | MRELGE     |  0.9879326 | \n",
       "| MINK7512 | MINK7512   |  0.9352923 | \n",
       "| MBERHOOG | MBERHOOG   |  0.9168707 | \n",
       "| MGODRK | MGODRK     |  0.8604526 | \n",
       "| PMOTSCO | PMOTSCO    |  0.7916552 | \n",
       "| MINK4575 | MINK4575   |  0.7592725 | \n",
       "| ... | ... | ... | \n",
       "| PAANHANG | PAANHANG | 0        | \n",
       "| PTRACTOR | PTRACTOR | 0        | \n",
       "| PWERKT | PWERKT   | 0        | \n",
       "| PBROM | PBROM    | 0        | \n",
       "| PPERSONG | PPERSONG | 0        | \n",
       "| PGEZONG | PGEZONG  | 0        | \n",
       "| PWAOREG | PWAOREG  | 0        | \n",
       "| PZEILPL | PZEILPL  | 0        | \n",
       "| PPLEZIER | PPLEZIER | 0        | \n",
       "| PFIETS | PFIETS   | 0        | \n",
       "| PINBOED | PINBOED  | 0        | \n",
       "| AWAPART | AWAPART  | 0        | \n",
       "| AWABEDR | AWABEDR  | 0        | \n",
       "| AWALAND | AWALAND  | 0        | \n",
       "| ABESAUT | ABESAUT  | 0        | \n",
       "| AMOTSCO | AMOTSCO  | 0        | \n",
       "| AVRAAUT | AVRAAUT  | 0        | \n",
       "| AAANHANG | AAANHANG | 0        | \n",
       "| ATRACTOR | ATRACTOR | 0        | \n",
       "| AWERKT | AWERKT   | 0        | \n",
       "| ABROM | ABROM    | 0        | \n",
       "| ALEVEN | ALEVEN   | 0        | \n",
       "| APERSONG | APERSONG | 0        | \n",
       "| AGEZONG | AGEZONG  | 0        | \n",
       "| AWAOREG | AWAOREG  | 0        | \n",
       "| AZEILPL | AZEILPL  | 0        | \n",
       "| APLEZIER | APLEZIER | 0        | \n",
       "| AFIETS | AFIETS   | 0        | \n",
       "| AINBOED | AINBOED  | 0        | \n",
       "| ABYSTAND | ABYSTAND | 0        | \n",
       "\n",
       "\n"
      ],
      "text/plain": [
       "         var      rel.inf   \n",
       "PPERSAUT PPERSAUT 14.7513893\n",
       "MKOOPKLA MKOOPKLA  8.9786748\n",
       "MOPLHOOG MOPLHOOG  7.5899527\n",
       "MBERMIDD MBERMIDD  6.2544293\n",
       "PBRAND   PBRAND    5.4201131\n",
       "ABRAND   ABRAND    4.5051443\n",
       "MGODGE   MGODGE    4.4434212\n",
       "MINK3045 MINK3045  4.0745863\n",
       "MOSTYPE  MOSTYPE   3.2183438\n",
       "MSKC     MSKC      2.6545210\n",
       "MSKA     MSKA      2.5597473\n",
       "MGODPR   MGODPR    2.3827899\n",
       "MAUT1    MAUT1     2.3235483\n",
       "PWAPART  PWAPART   2.2316170\n",
       "MBERARBG MBERARBG  2.1539744\n",
       "MGODOV   MGODOV    1.7955551\n",
       "MAUT2    MAUT2     1.7077861\n",
       "MSKB1    MSKB1     1.6942151\n",
       "MINKGEM  MINKGEM   1.5916760\n",
       "PBYSTAND PBYSTAND  1.5111617\n",
       "APERSAUT APERSAUT  1.3006019\n",
       "MOPLMIDD MOPLMIDD  1.0917734\n",
       "MFWEKIND MFWEKIND  1.0258264\n",
       "MAUT0    MAUT0     1.0049214\n",
       "MRELGE   MRELGE    0.9879326\n",
       "MINK7512 MINK7512  0.9352923\n",
       "MBERHOOG MBERHOOG  0.9168707\n",
       "MGODRK   MGODRK    0.8604526\n",
       "PMOTSCO  PMOTSCO   0.7916552\n",
       "MINK4575 MINK4575  0.7592725\n",
       "...      ...      ...       \n",
       "PAANHANG PAANHANG 0         \n",
       "PTRACTOR PTRACTOR 0         \n",
       "PWERKT   PWERKT   0         \n",
       "PBROM    PBROM    0         \n",
       "PPERSONG PPERSONG 0         \n",
       "PGEZONG  PGEZONG  0         \n",
       "PWAOREG  PWAOREG  0         \n",
       "PZEILPL  PZEILPL  0         \n",
       "PPLEZIER PPLEZIER 0         \n",
       "PFIETS   PFIETS   0         \n",
       "PINBOED  PINBOED  0         \n",
       "AWAPART  AWAPART  0         \n",
       "AWABEDR  AWABEDR  0         \n",
       "AWALAND  AWALAND  0         \n",
       "ABESAUT  ABESAUT  0         \n",
       "AMOTSCO  AMOTSCO  0         \n",
       "AVRAAUT  AVRAAUT  0         \n",
       "AAANHANG AAANHANG 0         \n",
       "ATRACTOR ATRACTOR 0         \n",
       "AWERKT   AWERKT   0         \n",
       "ABROM    ABROM    0         \n",
       "ALEVEN   ALEVEN   0         \n",
       "APERSONG APERSONG 0         \n",
       "AGEZONG  AGEZONG  0         \n",
       "AWAOREG  AWAOREG  0         \n",
       "AZEILPL  AZEILPL  0         \n",
       "APLEZIER APLEZIER 0         \n",
       "AFIETS   AFIETS   0         \n",
       "AINBOED  AINBOED  0         \n",
       "ABYSTAND ABYSTAND 0         "
      ]
     },
     "metadata": {},
     "output_type": "display_data"
    },
    {
     "data": {
      "image/png": "[encoded data removed]",
      "text/plain": [
       "plot without title"
      ]
     },
     "metadata": {},
     "output_type": "display_data"
    }
   ],
   "source": [
    "require(gbm)\n",
    "Caravan.boosting <- gbm(Purchase~.,data = Caravan.train, distribution = \"bernoulli\", n.trees = 1000,\n",
    "                   shrinkage = 0.01)\n",
    "summary(Caravan.boosting)"
   ]
  },
  {
   "cell_type": "markdown",
   "metadata": {},
   "source": [
    "The most important variables appear to be: <br>\n",
    "**PPERSAUT:** Contribution car policies <br>\n",
    "**MKOOPKLA:** Purchasing power class <br>\n",
    "**MOPLHOOG:** High level education <br>\n",
    "**MBERMIDD:** Middle management"
   ]
  },
  {
   "cell_type": "markdown",
   "metadata": {},
   "source": [
    "**C.** Use the boosting model to predict the response on the test data.\n",
    "Predict that a person will make a purchase if the estimated probability\n",
    "of purchase is greater than 20 %. Form a confusion matrix.\n",
    "What fraction of the people predicted to make a purchase\n",
    "do in fact make one? How does this compare with the results\n",
    "obtained from applying KNN or logistic regression to this data\n",
    "set?"
   ]
  },
  {
   "cell_type": "code",
   "execution_count": 32,
   "metadata": {},
   "outputs": [
    {
     "data": {
      "text/plain": [
       "            Purchase\n",
       "Caravan.pred    0    1\n",
       "           0 4409  256\n",
       "           1  124   33"
      ]
     },
     "metadata": {},
     "output_type": "display_data"
    }
   ],
   "source": [
    "Caravan.prob <- predict(Caravan.boosting,newdata = Caravan.test, n.trees = 1000, type = \"response\")\n",
    "Caravan.pred <- ifelse(Caravan.prob > 0.2, 1, 0)\n",
    "with(Caravan.test,table(Caravan.pred,Purchase))"
   ]
  },
  {
   "cell_type": "code",
   "execution_count": 33,
   "metadata": {},
   "outputs": [
    {
     "data": {
      "text/html": [
       "0.210191082802548"
      ],
      "text/latex": [
       "0.210191082802548"
      ],
      "text/markdown": [
       "0.210191082802548"
      ],
      "text/plain": [
       "[1] 0.2101911"
      ]
     },
     "metadata": {},
     "output_type": "display_data"
    }
   ],
   "source": [
    "33/(124+33)"
   ]
  },
  {
   "cell_type": "markdown",
   "metadata": {},
   "source": [
    "Only 22 % of the predicted people that would make a purchase actually did it."
   ]
  },
  {
   "cell_type": "markdown",
   "metadata": {},
   "source": [
    "## KNN "
   ]
  },
  {
   "cell_type": "code",
   "execution_count": 15,
   "metadata": {},
   "outputs": [
    {
     "data": {
      "text/plain": [
       "        \n",
       "knn.pred    0    1\n",
       "       0 4506  279\n",
       "       1   27   10"
      ]
     },
     "metadata": {},
     "output_type": "display_data"
    }
   ],
   "source": [
    "require(class)\n",
    "\n",
    "standardized.X <- scale(Caravan [,-86])\n",
    "train = 1:1000\n",
    "TestSet <- standardized.X[-train,]\n",
    "TrainSet <- standardized.X[train,]\n",
    "TrainY <- Caravan.train$Purchase\n",
    "\n",
    "knn.pred <- knn(TrainSet,TestSet,TrainY, k = 5) #closest in Euclidean distance\n",
    "table(knn.pred,Caravan.test$Purchase)"
   ]
  },
  {
   "cell_type": "code",
   "execution_count": 16,
   "metadata": {},
   "outputs": [
    {
     "data": {
      "text/html": [
       "0.27027027027027"
      ],
      "text/latex": [
       "0.27027027027027"
      ],
      "text/markdown": [
       "0.27027027027027"
      ],
      "text/plain": [
       "[1] 0.2702703"
      ]
     },
     "metadata": {},
     "output_type": "display_data"
    }
   ],
   "source": [
    "10/(27+10)"
   ]
  },
  {
   "cell_type": "markdown",
   "metadata": {},
   "source": [
    "## Logistic Regression"
   ]
  },
  {
   "cell_type": "code",
   "execution_count": 28,
   "metadata": {},
   "outputs": [
    {
     "name": "stderr",
     "output_type": "stream",
     "text": [
      "Warning message:\n",
      "\"glm.fit: fitted probabilities numerically 0 or 1 occurred\"Warning message in predict.lm(object, newdata, se.fit, scale = 1, type = ifelse(type == :\n",
      "\"prediction from a rank-deficient fit may be misleading\""
     ]
    },
    {
     "data": {
      "text/plain": [
       "                Purchase\n",
       "Caravan.pred.log    0    1\n",
       "               0 4414  261\n",
       "               1  119   28"
      ]
     },
     "metadata": {},
     "output_type": "display_data"
    }
   ],
   "source": [
    "Caravan.log = glm(Purchase ~ ., data = Caravan.train, family = \"binomial\")\n",
    "Caravan.prob.log = predict(Caravan.log, Caravan.test, type = \"response\")\n",
    "Caravan.pred.log <- ifelse(Caravan.prob.log > 0.4, 1, 0)\n",
    "with(Caravan.test,table(Caravan.pred.log,Purchase))"
   ]
  },
  {
   "cell_type": "code",
   "execution_count": 29,
   "metadata": {},
   "outputs": [
    {
     "data": {
      "text/html": [
       "0.19047619047619"
      ],
      "text/latex": [
       "0.19047619047619"
      ],
      "text/markdown": [
       "0.19047619047619"
      ],
      "text/plain": [
       "[1] 0.1904762"
      ]
     },
     "metadata": {},
     "output_type": "display_data"
    }
   ],
   "source": [
    "28/(119+28)"
   ]
  },
  {
   "cell_type": "markdown",
   "metadata": {},
   "source": [
    "KNN = 27% <br>\n",
    "Logistic regression = 19%  <br>\n",
    "Boosting = 20% <br>\n",
    "\n",
    "The KNN method outperformed both the boosting and the logistic regression at predicting the number of actual purchases. "
   ]
  },
  {
   "cell_type": "markdown",
   "metadata": {},
   "source": [
    "The cut-off probability for both logistic regression and the boosting method affect significantly the prediction capacity of the model."
   ]
  },
  {
   "cell_type": "code",
   "execution_count": null,
   "metadata": {},
   "outputs": [],
   "source": []
  }
 ],
 "metadata": {
  "kernelspec": {
   "display_name": "R",
   "language": "R",
   "name": "ir"
  },
  "language_info": {
   "codemirror_mode": "r",
   "file_extension": ".r",
   "mimetype": "text/x-r-source",
   "name": "R",
   "pygments_lexer": "r",
   "version": "3.5.1"
  }
 },
 "nbformat": 4,
 "nbformat_minor": 2
}
