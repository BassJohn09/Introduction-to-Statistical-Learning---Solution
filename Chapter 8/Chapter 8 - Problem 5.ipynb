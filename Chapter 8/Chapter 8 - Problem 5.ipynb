{
 "cells": [
  {
   "cell_type": "markdown",
   "metadata": {},
   "source": [
    "## Chapter 8 - Problem 5\n",
    "***"
   ]
  },
  {
   "cell_type": "markdown",
   "metadata": {},
   "source": [
    "5. Suppose we produce ten bootstrapped samples from a data set\n",
    "containing red and green classes. We then apply a classification tree\n",
    "to each bootstrapped sample and, for a specific value of X, produce\n",
    "10 estimates of P(Class is Red|X): \n",
    "<br>\n",
    "<p align=\"center\">0.1, 0.15, 0.2, 0.2, 0.55, 0.6, 0.6, 0.65, 0.7, and 0.75. </p> \n",
    "\n",
    "There are two common ways to combine these results together into a\n",
    "single class prediction. One is the majority vote approach discussed in\n",
    "this chapter. The second approach is to classify based on the average\n",
    "probability. In this example, what is the final classification under each\n",
    "of these two approaches?"
   ]
  },
  {
   "cell_type": "code",
   "execution_count": 7,
   "metadata": {},
   "outputs": [],
   "source": [
    "P = c(0.1,0.15,0.2,0.2,0.55,0.6,0.6,0.65,0.7,0.75)\n",
    "\n",
    "class = ifelse(P > 0.5,\"Red\",\"Green\")\n",
    "count.red = sum(class == \"Red\")\n",
    "count.green = sum(class == \"Green\")\n",
    "majority.vote = ifelse((count.red - count.green) > 0, \"Red\",\"Green\")\n",
    "\n",
    "Pm = mean(P)\n",
    "\n",
    "Average.class = ifelse(Pm>0.5,\"Red\",\"Green\")"
   ]
  },
  {
   "cell_type": "code",
   "execution_count": 8,
   "metadata": {},
   "outputs": [
    {
     "data": {
      "text/html": [
       "'Red'"
      ],
      "text/latex": [
       "'Red'"
      ],
      "text/markdown": [
       "'Red'"
      ],
      "text/plain": [
       "[1] \"Red\""
      ]
     },
     "metadata": {},
     "output_type": "display_data"
    }
   ],
   "source": [
    "majority.vote"
   ]
  },
  {
   "cell_type": "code",
   "execution_count": 9,
   "metadata": {},
   "outputs": [
    {
     "data": {
      "text/html": [
       "'Green'"
      ],
      "text/latex": [
       "'Green'"
      ],
      "text/markdown": [
       "'Green'"
      ],
      "text/plain": [
       "[1] \"Green\""
      ]
     },
     "metadata": {},
     "output_type": "display_data"
    }
   ],
   "source": [
    "Average.class"
   ]
  },
  {
   "cell_type": "code",
   "execution_count": null,
   "metadata": {},
   "outputs": [],
   "source": []
  }
 ],
 "metadata": {
  "kernelspec": {
   "display_name": "R",
   "language": "R",
   "name": "ir"
  },
  "language_info": {
   "codemirror_mode": "r",
   "file_extension": ".r",
   "mimetype": "text/x-r-source",
   "name": "R",
   "pygments_lexer": "r",
   "version": "3.5.1"
  }
 },
 "nbformat": 4,
 "nbformat_minor": 2
}
