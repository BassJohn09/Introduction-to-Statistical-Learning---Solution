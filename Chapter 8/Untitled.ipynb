{
 "cells": [
  {
   "cell_type": "markdown",
   "metadata": {},
   "source": [
    "12. Apply boosting, bagging, and random forests to a data set of your\n",
    "choice. Be sure to fit the models on a training set and to evaluate their\n",
    "performance on a test set. How accurate are the results compared\n",
    "to simple methods like linear or logistic regression? Which of these\n",
    "approaches yields the best performance?"
   ]
  },
  {
   "cell_type": "markdown",
   "metadata": {},
   "source": [
    "The dataset is the Kickstarter dataset from kaggle.com. <br>\n",
    "https://www.kaggle.com/kemical/kickstarter-projects#ks-projects-201801.csv <br>\n",
    "\n",
    "It examines over 300,000 kickstarter projects. The goal is to predict whether a project will succeed or no given the following predictors: Category, Subcategory, Amount of backers, time frame of the project, the goal amount and the country where the project was launched. "
   ]
  },
  {
   "cell_type": "code",
   "execution_count": 2,
   "metadata": {},
   "outputs": [],
   "source": []
  },
  {
   "cell_type": "code",
   "execution_count": 8,
   "metadata": {},
   "outputs": [],
   "source": []
  },
  {
   "cell_type": "code",
   "execution_count": 18,
   "metadata": {},
   "outputs": [],
   "source": []
  },
  {
   "cell_type": "code",
   "execution_count": 17,
   "metadata": {},
   "outputs": [
    {
     "data": {
      "text/html": [
       "'factor'"
      ],
      "text/latex": [
       "'factor'"
      ],
      "text/markdown": [
       "'factor'"
      ],
      "text/plain": [
       "[1] \"factor\""
      ]
     },
     "metadata": {},
     "output_type": "display_data"
    }
   ],
   "source": [
    "class(Kickstarter$launched)"
   ]
  },
  {
   "cell_type": "code",
   "execution_count": 19,
   "metadata": {},
   "outputs": [
    {
     "data": {
      "text/plain": [
       "       ID                                  name                  category     \n",
       " Min.   :5.971e+03   New EP/Music Development:    41   Product Design: 22314  \n",
       " 1st Qu.:5.383e+08   Canceled (Canceled)     :    13   Documentary   : 16139  \n",
       " Median :1.075e+09   Music Video             :    11   Music         : 15727  \n",
       " Mean   :1.075e+09   N/A (Canceled)          :    11   Tabletop Games: 14180  \n",
       " 3rd Qu.:1.610e+09   Cancelled (Canceled)    :    10   Shorts        : 12357  \n",
       " Max.   :2.147e+09   Debut Album             :    10   Video Games   : 11830  \n",
       "                     (Other)                 :378565   (Other)       :286114  \n",
       "      main_category       currency            deadline           goal          \n",
       " Film & Video: 63585   USD    :295365   2014-08-08:   705   Min.   :        0  \n",
       " Music       : 51918   GBP    : 34132   2014-08-10:   558   1st Qu.:     2000  \n",
       " Publishing  : 39874   EUR    : 17405   2014-08-07:   541   Median :     5200  \n",
       " Games       : 35231   CAD    : 14962   2015-05-01:   489   Mean   :    49081  \n",
       " Technology  : 32569   AUD    :  7950   2014-08-09:   477   3rd Qu.:    16000  \n",
       " Design      : 30070   SEK    :  1788   2015-07-01:   449   Max.   :100000000  \n",
       " (Other)     :125414   (Other):  7059   (Other)   :375442                      \n",
       "                launched         pledged                state       \n",
       " 1970-01-01 01:00:00:     7   Min.   :       0   canceled  : 38779  \n",
       " 2009-09-15 05:56:28:     2   1st Qu.:      30   failed    :197719  \n",
       " 2010-06-30 17:29:43:     2   Median :     620   live      :  2799  \n",
       " 2011-02-08 04:29:48:     2   Mean   :    9683   successful:133956  \n",
       " 2011-02-25 09:58:36:     2   3rd Qu.:    4076   suspended :  1846  \n",
       " 2011-03-03 17:55:38:     2   Max.   :20338986   undefined :  3562  \n",
       " (Other)            :378644                                         \n",
       "    backers            country        usd.pledged       usd_pledged_real  \n",
       " Min.   :     0.0   US     :292627   Min.   :       0   Min.   :       0  \n",
       " 1st Qu.:     2.0   GB     : 33672   1st Qu.:      17   1st Qu.:      31  \n",
       " Median :    12.0   CA     : 14756   Median :     395   Median :     624  \n",
       " Mean   :   105.6   AU     :  7839   Mean   :    7037   Mean   :    9059  \n",
       " 3rd Qu.:    56.0   DE     :  4171   3rd Qu.:    3034   3rd Qu.:    4050  \n",
       " Max.   :219382.0   N,0\"   :  3797   Max.   :20338986   Max.   :20338986  \n",
       "                    (Other): 21799   NA's   :3797                         \n",
       " usd_goal_real            Days       \n",
       " Min.   :        0   30     :169177  \n",
       " 1st Qu.:     2000   60     : 33624  \n",
       " Median :     5500   45     : 17749  \n",
       " Mean   :    45454   31     : 13255  \n",
       " 3rd Qu.:    15500   35     : 10100  \n",
       " Max.   :166361391   40     : 10039  \n",
       "                     (Other):124717  "
      ]
     },
     "metadata": {},
     "output_type": "display_data"
    }
   ],
   "source": []
  },
  {
   "cell_type": "code",
   "execution_count": null,
   "metadata": {},
   "outputs": [],
   "source": []
  }
 ],
 "metadata": {
  "kernelspec": {
   "display_name": "R",
   "language": "R",
   "name": "ir"
  },
  "language_info": {
   "codemirror_mode": "r",
   "file_extension": ".r",
   "mimetype": "text/x-r-source",
   "name": "R",
   "pygments_lexer": "r",
   "version": "3.5.1"
  }
 },
 "nbformat": 4,
 "nbformat_minor": 2
}
