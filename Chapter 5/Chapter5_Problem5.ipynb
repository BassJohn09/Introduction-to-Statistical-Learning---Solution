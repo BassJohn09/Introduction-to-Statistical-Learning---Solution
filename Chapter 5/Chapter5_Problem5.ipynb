{
 "cells": [
  {
   "cell_type": "markdown",
   "metadata": {},
   "source": [
    "# Capitulo 5 - Problema 5 "
   ]
  },
  {
   "cell_type": "markdown",
   "metadata": {},
   "source": [
    "5. En el Capitulo 4, usamos regresion logística para predecir la probabilidad de impago (default) usando los predictores ingresos (Income) y Balance del conjunto de datos. ahora vamos a estimar el error de testeo (test error) de una regresion logistica usando el metodo de validación de conjunto. No olviden ajustar la semilla del generador de numeros aleatorios antes de empezar. "
   ]
  },
  {
   "cell_type": "markdown",
   "metadata": {},
   "source": [
    "A. Ajuste un modelo de regresión logistica que use las variables Income y Balance para predecir el impago. "
   ]
  },
  {
   "cell_type": "code",
   "execution_count": 76,
   "metadata": {},
   "outputs": [],
   "source": [
    "require(ISLR)\n",
    "set.seed(1)"
   ]
  },
  {
   "cell_type": "code",
   "execution_count": 77,
   "metadata": {},
   "outputs": [
    {
     "data": {
      "text/plain": [
       "\n",
       "Call:\n",
       "glm(formula = default ~ balance + income, family = \"binomial\", \n",
       "    data = Default)\n",
       "\n",
       "Deviance Residuals: \n",
       "    Min       1Q   Median       3Q      Max  \n",
       "-2.4725  -0.1444  -0.0574  -0.0211   3.7245  \n",
       "\n",
       "Coefficients:\n",
       "              Estimate Std. Error z value Pr(>|z|)    \n",
       "(Intercept) -1.154e+01  4.348e-01 -26.545  < 2e-16 ***\n",
       "balance      5.647e-03  2.274e-04  24.836  < 2e-16 ***\n",
       "income       2.081e-05  4.985e-06   4.174 2.99e-05 ***\n",
       "---\n",
       "Signif. codes:  0 '***' 0.001 '**' 0.01 '*' 0.05 '.' 0.1 ' ' 1\n",
       "\n",
       "(Dispersion parameter for binomial family taken to be 1)\n",
       "\n",
       "    Null deviance: 2920.6  on 9999  degrees of freedom\n",
       "Residual deviance: 1579.0  on 9997  degrees of freedom\n",
       "AIC: 1585\n",
       "\n",
       "Number of Fisher Scoring iterations: 8\n"
      ]
     },
     "metadata": {},
     "output_type": "display_data"
    }
   ],
   "source": [
    "logit <- glm(default~balance+income,Default,family = 'binomial')\n",
    "summary(logit)"
   ]
  },
  {
   "cell_type": "markdown",
   "metadata": {},
   "source": [
    "B. Usando el método de validación de conjuntos, estime el error de testeo (**test error**) de este modelo. <br> Para lograr esto, se deben seguir los siguientes pasos: <br>\n",
    "   > I. Separar la muestra en un conjunto de entrenamiento (**training set**) y conjunto de validación (**validation set**)"
   ]
  },
  {
   "cell_type": "code",
   "execution_count": 78,
   "metadata": {},
   "outputs": [],
   "source": [
    "n <- nrow(Default)\n",
    "test.set <- Default[sample(1:n,n/2),]\n",
    "training.set <- Default[!Default %in% test.set]"
   ]
  },
  {
   "cell_type": "markdown",
   "metadata": {},
   "source": [
    "> II. Ajuste un modelo de regresión logistica multiple usando solamente las observaciónes de entrenamiento. "
   ]
  },
  {
   "cell_type": "code",
   "execution_count": 79,
   "metadata": {},
   "outputs": [
    {
     "data": {
      "text/plain": [
       "\n",
       "Call:\n",
       "glm(formula = default ~ balance + income, family = \"binomial\", \n",
       "    data = training.set)\n",
       "\n",
       "Deviance Residuals: \n",
       "    Min       1Q   Median       3Q      Max  \n",
       "-2.4725  -0.1444  -0.0574  -0.0211   3.7245  \n",
       "\n",
       "Coefficients:\n",
       "              Estimate Std. Error z value Pr(>|z|)    \n",
       "(Intercept) -1.154e+01  4.348e-01 -26.545  < 2e-16 ***\n",
       "balance      5.647e-03  2.274e-04  24.836  < 2e-16 ***\n",
       "income       2.081e-05  4.985e-06   4.174 2.99e-05 ***\n",
       "---\n",
       "Signif. codes:  0 '***' 0.001 '**' 0.01 '*' 0.05 '.' 0.1 ' ' 1\n",
       "\n",
       "(Dispersion parameter for binomial family taken to be 1)\n",
       "\n",
       "    Null deviance: 2920.6  on 9999  degrees of freedom\n",
       "Residual deviance: 1579.0  on 9997  degrees of freedom\n",
       "AIC: 1585\n",
       "\n",
       "Number of Fisher Scoring iterations: 8\n"
      ]
     },
     "metadata": {},
     "output_type": "display_data"
    }
   ],
   "source": [
    "Validation.logit <- glm(default~balance+income,training.set,family = \"binomial\")\n",
    "summary(Validation.logit)"
   ]
  },
  {
   "cell_type": "markdown",
   "metadata": {},
   "source": [
    "> III. Realize una predicción del estatus de impago para cada persona en el conjunto de validación, calculando la probabilidad de impago para cada individuo y clasificando al individuo a la categoria de impago si la probabilidad posterior es mayor que 0.5."
   ]
  },
  {
   "cell_type": "code",
   "execution_count": 80,
   "metadata": {},
   "outputs": [
    {
     "data": {
      "text/plain": [
       "               \n",
       "Validation.pred   No  Yes\n",
       "            No  4820  107\n",
       "            Yes   14   59"
      ]
     },
     "metadata": {},
     "output_type": "display_data"
    }
   ],
   "source": [
    "Validation.probs <- predict(Validation.logit,newdata = test.set,type = \"response\")\n",
    "Validation.pred <- ifelse(Validation.probs > 0.5,\"Yes\",\"No\")\n",
    "table(Validation.pred,test.set$default) "
   ]
  },
  {
   "cell_type": "markdown",
   "metadata": {},
   "source": [
    "> IV. Calcule el error de validación como la fracción de observaciones en el conjunto de validaciones que fueron clasificadas erroneamente."
   ]
  },
  {
   "cell_type": "code",
   "execution_count": 81,
   "metadata": {},
   "outputs": [
    {
     "data": {
      "text/html": [
       "0.0242"
      ],
      "text/latex": [
       "0.0242"
      ],
      "text/markdown": [
       "0.0242"
      ],
      "text/plain": [
       "[1] 0.0242"
      ]
     },
     "metadata": {},
     "output_type": "display_data"
    }
   ],
   "source": [
    "error <- mean(Validation.pred != test.set$default)\n",
    "error"
   ]
  },
  {
   "cell_type": "markdown",
   "metadata": {},
   "source": [
    "El error de testeo estimado usando el metodo de validación de conjuntos fue de 2.42%."
   ]
  },
  {
   "cell_type": "markdown",
   "metadata": {},
   "source": [
    "C. Repita el proceso de la sección (b) tres veces, usando tres separaciones distintas de las observaciones hacia los conjuntos de entrenamiento y validación. Comente los resultados obtenidos. "
   ]
  },
  {
   "cell_type": "code",
   "execution_count": 82,
   "metadata": {},
   "outputs": [
    {
     "data": {
      "text/html": [
       "0.0288"
      ],
      "text/latex": [
       "0.0288"
      ],
      "text/markdown": [
       "0.0288"
      ],
      "text/plain": [
       "[1] 0.0288"
      ]
     },
     "metadata": {},
     "output_type": "display_data"
    }
   ],
   "source": [
    "validation_approach <- function(){\n",
    "    n <- nrow(Default)\n",
    "    test.set <- Default[sample(1:n,n/2),]\n",
    "    training.set <- Default[!Default %in% test.set]\n",
    "    Validation.logit <- glm(default~balance+income,training.set,family = \"binomial\")\n",
    "    Validation.probs <- predict(Validation.logit,newdata = test.set,type = \"response\")\n",
    "    Validation.pred <- ifelse(Validation.probs > 0.5,\"Yes\",\"No\")\n",
    "    error <- mean(Validation.pred != test.set$default)\n",
    "    return(error)\n",
    "}\n",
    "\n",
    "validation_approach()"
   ]
  },
  {
   "cell_type": "code",
   "execution_count": 83,
   "metadata": {},
   "outputs": [
    {
     "data": {
      "text/html": [
       "0.025"
      ],
      "text/latex": [
       "0.025"
      ],
      "text/markdown": [
       "0.025"
      ],
      "text/plain": [
       "[1] 0.025"
      ]
     },
     "metadata": {},
     "output_type": "display_data"
    }
   ],
   "source": [
    "validation_approach()"
   ]
  },
  {
   "cell_type": "code",
   "execution_count": 84,
   "metadata": {},
   "outputs": [
    {
     "data": {
      "text/html": [
       "0.0262"
      ],
      "text/latex": [
       "0.0262"
      ],
      "text/markdown": [
       "0.0262"
      ],
      "text/plain": [
       "[1] 0.0262"
      ]
     },
     "metadata": {},
     "output_type": "display_data"
    }
   ],
   "source": [
    "validation_approach()"
   ]
  },
  {
   "cell_type": "markdown",
   "metadata": {},
   "source": [
    "En promedio, el error de testeo estimado fue de 2.6% usando el balance e ingreso como predictores. "
   ]
  },
  {
   "cell_type": "markdown",
   "metadata": {},
   "source": [
    "D. Ahora considere un modelo de regresion logistica que prediga la probabilidad de impago usando el ingreso, balance y una variable ficticia (**dummy variable**) para estudiante (**student**). Estime el error de testeo usando el metodo de validación de conjuntos. Comente si al incluir la variable ficticia para estudiante se logra reducir el error de testeo."
   ]
  },
  {
   "cell_type": "code",
   "execution_count": 85,
   "metadata": {},
   "outputs": [
    {
     "name": "stdout",
     "output_type": "stream",
     "text": [
      "[1] 0.0274\n"
     ]
    }
   ],
   "source": [
    "n <- nrow(Default)\n",
    "test.set <- Default[sample(1:n,n/2),]\n",
    "training.set <- Default[!Default %in% test.set]\n",
    "Validation.logit <- glm(default~balance+income+student,training.set,family = \"binomial\")\n",
    "Validation.probs <- predict(Validation.logit,newdata = test.set,type = \"response\")\n",
    "Validation.pred <- ifelse(Validation.probs > 0.5,\"Yes\",\"No\")\n",
    "error <- mean(Validation.pred != test.set$default)\n",
    "print(error)"
   ]
  },
  {
   "cell_type": "markdown",
   "metadata": {},
   "source": [
    "El error de testeo estimado fue de 2.74%. La variable ficticia para estudiante no conduce a una reducción del error de testeo."
   ]
  },
  {
   "cell_type": "code",
   "execution_count": null,
   "metadata": {},
   "outputs": [],
   "source": []
  }
 ],
 "metadata": {
  "kernelspec": {
   "display_name": "R",
   "language": "R",
   "name": "ir"
  },
  "language_info": {
   "codemirror_mode": "r",
   "file_extension": ".r",
   "mimetype": "text/x-r-source",
   "name": "R",
   "pygments_lexer": "r",
   "version": "3.5.1"
  }
 },
 "nbformat": 4,
 "nbformat_minor": 2
}
