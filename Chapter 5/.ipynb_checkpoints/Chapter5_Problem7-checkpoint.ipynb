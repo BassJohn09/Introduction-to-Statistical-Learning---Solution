{
 "cells": [
  {
   "cell_type": "markdown",
   "metadata": {},
   "source": [
    "7. In Sections 5.3.2 and 5.3.3, we saw that the cv.glm() function can be used in order to compute \n",
    "   the LOOCV test error estimate. Alternatively, one could compute those quantities using just \n",
    "   the glm() and predict.glm() functions, and a for loop. You will now take this approach in order \n",
    "   to compute the LOOCV error for a simple logistic regression model on the Weekly data set. \n",
    "   Recall that in the context of classification problems, the LOOCV error is given in (5.4)."
   ]
  },
  {
   "cell_type": "markdown",
   "metadata": {},
   "source": [
    "**A.** Fit a logistic regressionmodel that predicts Direction using Lag1 and Lag2."
   ]
  },
  {
   "cell_type": "code",
   "execution_count": null,
   "metadata": {},
   "outputs": [],
   "source": [
    "require(ISLR)\n",
    "summary(Weekly)"
   ]
  },
  {
   "cell_type": "code",
   "execution_count": 2,
   "metadata": {},
   "outputs": [
    {
     "data": {
      "text/plain": [
       "\n",
       "Call:\n",
       "glm(formula = Direction ~ Lag1 + Lag2, family = \"binomial\", data = Weekly)\n",
       "\n",
       "Deviance Residuals: \n",
       "   Min      1Q  Median      3Q     Max  \n",
       "-1.623  -1.261   1.001   1.083   1.506  \n",
       "\n",
       "Coefficients:\n",
       "            Estimate Std. Error z value Pr(>|z|)    \n",
       "(Intercept)  0.22122    0.06147   3.599 0.000319 ***\n",
       "Lag1        -0.03872    0.02622  -1.477 0.139672    \n",
       "Lag2         0.06025    0.02655   2.270 0.023232 *  \n",
       "---\n",
       "Signif. codes:  0 '***' 0.001 '**' 0.01 '*' 0.05 '.' 0.1 ' ' 1\n",
       "\n",
       "(Dispersion parameter for binomial family taken to be 1)\n",
       "\n",
       "    Null deviance: 1496.2  on 1088  degrees of freedom\n",
       "Residual deviance: 1488.2  on 1086  degrees of freedom\n",
       "AIC: 1494.2\n",
       "\n",
       "Number of Fisher Scoring iterations: 4\n"
      ]
     },
     "metadata": {},
     "output_type": "display_data"
    }
   ],
   "source": [
    "logreg <- glm(Direction~Lag1+Lag2,data = Weekly,family = \"binomial\")\n",
    "summary(logreg)"
   ]
  },
  {
   "cell_type": "markdown",
   "metadata": {},
   "source": [
    "**B.** Fit a logistic regression model that predicts Direction using Lag1\n",
    "and Lag2 using all but the first observation."
   ]
  },
  {
   "cell_type": "code",
   "execution_count": 12,
   "metadata": {},
   "outputs": [
    {
     "data": {
      "text/plain": [
       "\n",
       "Call:\n",
       "glm(formula = Direction ~ Lag1 + Lag2, family = \"binomial\", data = Weekly[-1, \n",
       "    ])\n",
       "\n",
       "Deviance Residuals: \n",
       "    Min       1Q   Median       3Q      Max  \n",
       "-1.6258  -1.2617   0.9999   1.0819   1.5071  \n",
       "\n",
       "Coefficients:\n",
       "            Estimate Std. Error z value Pr(>|z|)    \n",
       "(Intercept)  0.22324    0.06150   3.630 0.000283 ***\n",
       "Lag1        -0.03843    0.02622  -1.466 0.142683    \n",
       "Lag2         0.06085    0.02656   2.291 0.021971 *  \n",
       "---\n",
       "Signif. codes:  0 '***' 0.001 '**' 0.01 '*' 0.05 '.' 0.1 ' ' 1\n",
       "\n",
       "(Dispersion parameter for binomial family taken to be 1)\n",
       "\n",
       "    Null deviance: 1494.6  on 1087  degrees of freedom\n",
       "Residual deviance: 1486.5  on 1085  degrees of freedom\n",
       "AIC: 1492.5\n",
       "\n",
       "Number of Fisher Scoring iterations: 4\n"
      ]
     },
     "metadata": {},
     "output_type": "display_data"
    }
   ],
   "source": [
    "logreg.sub <- glm(Direction~Lag1+Lag2,data = Weekly[-1,],family = \"binomial\")\n",
    "summary(logreg.sub)"
   ]
  },
  {
   "cell_type": "markdown",
   "metadata": {},
   "source": [
    "**C.** Use the model from (b) to predict the direction of the first observation. \n",
    "<br> You can do this by predicting that the first observation will go up if:\n",
    "$P(Direction=\"Up\"|Lag1, Lag2) > 0.5$. <br> Was this observation correctly classified?"
   ]
  },
  {
   "cell_type": "code",
   "execution_count": 17,
   "metadata": {},
   "outputs": [
    {
     "data": {
      "text/html": [
       "'misclassified'"
      ],
      "text/latex": [
       "'misclassified'"
      ],
      "text/markdown": [
       "'misclassified'"
      ],
      "text/plain": [
       "[1] \"misclassified\""
      ]
     },
     "metadata": {},
     "output_type": "display_data"
    }
   ],
   "source": [
    "logreg.prob <- predict(logreg.sub,newdata = Weekly[1,],type = \"response\")\n",
    "logreg.pred <- ifelse(logreg.prob > 0.5,\"Up\",\"Down\")\n",
    "prediction <- ifelse(logreg.pred == Weekly[1,]$Direction,\"Correct\",\"misclassified\")\n",
    "prediction"
   ]
  },
  {
   "cell_type": "markdown",
   "metadata": {},
   "source": [
    "Observation #1 was misclassified"
   ]
  },
  {
   "cell_type": "markdown",
   "metadata": {},
   "source": [
    "**D.** Write a for loop from $i = 1$ to $i = n$, where $n$ is the number of observations in the data set, \n",
    "    that performs each of the following steps:"
   ]
  },
  {
   "cell_type": "code",
   "execution_count": 27,
   "metadata": {},
   "outputs": [],
   "source": [
    "error <- rep(0,nrow(Weekly))\n",
    "for (i in 1:nrow(Weekly)){\n",
    "    # i. Fit a logistic regression model using all but the ith observation to predict Direction using Lag1 and Lag2.\n",
    "    logreg.sub <- glm(Direction~Lag1+Lag2,data = Weekly[-i,],family = \"binomial\")\n",
    "    # ii. Compute the posterior probability of the market moving up for the ith observation.\n",
    "    logreg.prob <- predict(logreg.sub,newdata = Weekly[i,],type = \"response\") \n",
    "    # iii. Use the posterior probability for the ith observation in order to predict whether or not the market moves up.\n",
    "    logreg.pred <- ifelse(logreg.prob > 0.5,\"Up\",\"Down\")\n",
    "    #iv. Determine whether or not an error was made in predicting the direction for the ith observation. If an error was made,\n",
    "    #    then indicate this as a 1, and otherwise indicate it as a 0.\n",
    "    error[i] <- ifelse(logreg.pred != Weekly[i,]$Direction,1,0)\n",
    "}\n"
   ]
  },
  {
   "cell_type": "markdown",
   "metadata": {},
   "source": [
    "**E.** Take the average of the n numbers obtained in (d)iv in order to obtain the LOOCV estimate for the test error. Comment on the\n",
    "results."
   ]
  },
  {
   "cell_type": "code",
   "execution_count": 28,
   "metadata": {},
   "outputs": [
    {
     "data": {
      "text/html": [
       "0.449954086317723"
      ],
      "text/latex": [
       "0.449954086317723"
      ],
      "text/markdown": [
       "0.449954086317723"
      ],
      "text/plain": [
       "[1] 0.4499541"
      ]
     },
     "metadata": {},
     "output_type": "display_data"
    }
   ],
   "source": [
    "mean(error)"
   ]
  },
  {
   "cell_type": "markdown",
   "metadata": {},
   "source": [
    "The LOOCV error rate is 45%, which is significantly high (near random error). \n",
    "This result could be attributed to Lag1 and Lag2 not being good predictors of the Direction"
   ]
  },
  {
   "cell_type": "code",
   "execution_count": null,
   "metadata": {},
   "outputs": [],
   "source": []
  }
 ],
 "metadata": {
  "kernelspec": {
   "display_name": "R",
   "language": "R",
   "name": "ir"
  },
  "language_info": {
   "codemirror_mode": "r",
   "file_extension": ".r",
   "mimetype": "text/x-r-source",
   "name": "R",
   "pygments_lexer": "r",
   "version": "3.5.1"
  }
 },
 "nbformat": 4,
 "nbformat_minor": 2
}
