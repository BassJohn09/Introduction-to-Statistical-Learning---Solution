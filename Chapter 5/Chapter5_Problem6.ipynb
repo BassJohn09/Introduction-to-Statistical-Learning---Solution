{
 "cells": [
  {
   "cell_type": "markdown",
   "metadata": {},
   "source": [
    "# Chapter 5 - Problem 6"
   ]
  },
  {
   "cell_type": "markdown",
   "metadata": {},
   "source": [
    "6. We continue to consider the use of a logistic regression model to predict the probability of default using income and balance on the\n",
    "Default data set. In particular, we will now compute estimates for the standard errors of the income and balance logistic regression coefficients\n",
    "in two different ways: (1) using the bootstrap, and (2) using the standard formula for computing the standard errors in the glm()\n",
    "function. Do not forget to set a random seed before beginning your analysis."
   ]
  },
  {
   "cell_type": "code",
   "execution_count": 41,
   "metadata": {},
   "outputs": [
    {
     "name": "stderr",
     "output_type": "stream",
     "text": [
      "Loading required package: boot\n"
     ]
    }
   ],
   "source": [
    "require(ISLR)\n",
    "require(boot)\n",
    "set.seed(1)"
   ]
  },
  {
   "cell_type": "markdown",
   "metadata": {},
   "source": [
    "**A.** Using the summary() and glm() functions, determine the estimated\n",
    "standard errors for the coefficients associated with income\n",
    "and balance in a multiple logistic regression model that uses\n",
    "both predictors."
   ]
  },
  {
   "cell_type": "code",
   "execution_count": 21,
   "metadata": {},
   "outputs": [
    {
     "data": {
      "text/plain": [
       "\n",
       "Call:\n",
       "glm(formula = default ~ balance + income, family = \"binomial\", \n",
       "    data = Default)\n",
       "\n",
       "Deviance Residuals: \n",
       "    Min       1Q   Median       3Q      Max  \n",
       "-2.4725  -0.1444  -0.0574  -0.0211   3.7245  \n",
       "\n",
       "Coefficients:\n",
       "              Estimate Std. Error z value Pr(>|z|)    \n",
       "(Intercept) -1.154e+01  4.348e-01 -26.545  < 2e-16 ***\n",
       "balance      5.647e-03  2.274e-04  24.836  < 2e-16 ***\n",
       "income       2.081e-05  4.985e-06   4.174 2.99e-05 ***\n",
       "---\n",
       "Signif. codes:  0 '***' 0.001 '**' 0.01 '*' 0.05 '.' 0.1 ' ' 1\n",
       "\n",
       "(Dispersion parameter for binomial family taken to be 1)\n",
       "\n",
       "    Null deviance: 2920.6  on 9999  degrees of freedom\n",
       "Residual deviance: 1579.0  on 9997  degrees of freedom\n",
       "AIC: 1585\n",
       "\n",
       "Number of Fisher Scoring iterations: 8\n"
      ]
     },
     "metadata": {},
     "output_type": "display_data"
    },
    {
     "data": {
      "text/html": [
       "<strong>(Intercept):</strong> -11.5404684366777"
      ],
      "text/latex": [
       "\\textbf{(Intercept):} -11.5404684366777"
      ],
      "text/markdown": [
       "**(Intercept):** -11.5404684366777"
      ],
      "text/plain": [
       "(Intercept) \n",
       "  -11.54047 "
      ]
     },
     "metadata": {},
     "output_type": "display_data"
    }
   ],
   "source": [
    "logreg <- glm(default~balance+income,data = Default, family = \"binomial\") \n",
    "summary(logreg)\n",
    "logreg$coef[1]"
   ]
  },
  {
   "cell_type": "markdown",
   "metadata": {},
   "source": [
    "The estimated error for the **balance** coefficient is $2.274x10^{-4}$. <br>\n",
    "The estimated error for the **income** coefficient is $4.985x10^{-6}$."
   ]
  },
  {
   "cell_type": "markdown",
   "metadata": {},
   "source": [
    "**B.** Write a function, boot.fn(), that takes as input the Default data set as well as an \n",
    "index of the observations, and that outputs the coefficient estimates for income and balance \n",
    "in the multiple logistic regression model."
   ]
  },
  {
   "cell_type": "code",
   "execution_count": 39,
   "metadata": {},
   "outputs": [
    {
     "data": {
      "text/html": [
       "<dl class=dl-horizontal>\n",
       "\t<dt>(Intercept)</dt>\n",
       "\t\t<dd>-25.5660685235304</dd>\n",
       "\t<dt>balance</dt>\n",
       "\t\t<dd>1.63967888039714e-17</dd>\n",
       "\t<dt>income</dt>\n",
       "\t\t<dd>3.19802025509445e-19</dd>\n",
       "</dl>\n"
      ],
      "text/latex": [
       "\\begin{description*}\n",
       "\\item[(Intercept)] -25.5660685235304\n",
       "\\item[balance] 1.63967888039714e-17\n",
       "\\item[income] 3.19802025509445e-19\n",
       "\\end{description*}\n"
      ],
      "text/markdown": [
       "(Intercept)\n",
       ":   -25.5660685235304balance\n",
       ":   1.63967888039714e-17income\n",
       ":   3.19802025509445e-19\n",
       "\n"
      ],
      "text/plain": [
       "  (Intercept)       balance        income \n",
       "-2.556607e+01  1.639679e-17  3.198020e-19 "
      ]
     },
     "metadata": {},
     "output_type": "display_data"
    }
   ],
   "source": [
    "boot.fn <- function(default,index){\n",
    "    with(default[index,],glm(default~balance+income,family = \"binomial\")$coef)\n",
    "}\n",
    "\n",
    "boot.fn(Default,1:25)"
   ]
  },
  {
   "cell_type": "markdown",
   "metadata": {},
   "source": [
    "**C.** Use the boot() function together with your boot.fn() function to estimate the standard errors \n",
    "   of the logistic regression coefficients for income and balance."
   ]
  },
  {
   "cell_type": "code",
   "execution_count": 43,
   "metadata": {},
   "outputs": [
    {
     "data": {
      "text/plain": [
       "\n",
       "ORDINARY NONPARAMETRIC BOOTSTRAP\n",
       "\n",
       "\n",
       "Call:\n",
       "boot(data = Default, statistic = boot.fn, R = 100)\n",
       "\n",
       "\n",
       "Bootstrap Statistics :\n",
       "         original        bias     std. error\n",
       "t1* -1.154047e+01 -4.415747e-02 4.720873e-01\n",
       "t2*  5.647103e-03  3.152386e-05 2.344576e-04\n",
       "t3*  2.080898e-05 -2.958810e-07 5.476473e-06"
      ]
     },
     "metadata": {},
     "output_type": "display_data"
    },
    {
     "data": {
      "image/png": "[encoded data removed]",
      "text/plain": [
       "Plot with title \"Histogram of t\""
      ]
     },
     "metadata": {},
     "output_type": "display_data"
    }
   ],
   "source": [
    "# Bootstrap function\n",
    "\n",
    "boot.out <- boot(Default,boot.fn,R = 100)\n",
    "boot.out # statistic for the bootstrap method. statistic, bias and standard error\n",
    "plot(boot.out) # Histogram + QQplot"
   ]
  },
  {
   "cell_type": "markdown",
   "metadata": {},
   "source": [
    "**D.** Comment on the estimated standard errors obtained using the\n",
    "glm() function and using your bootstrap function."
   ]
  },
  {
   "cell_type": "markdown",
   "metadata": {},
   "source": [
    "The estimated standard errors using bootstrap were:\n",
    "<br> **Balance**: $2.34x10^{-4}$\n",
    "<br> **Income**: $5.47x10^{-6}$\n",
    "\n",
    "These values are similar to the ones calculated from the multiple logistic regression. It confirms the power of the bootstrap method to estimate the standard errors of the coefficients."
   ]
  }
 ],
 "metadata": {
  "kernelspec": {
   "display_name": "R",
   "language": "R",
   "name": "ir"
  },
  "language_info": {
   "codemirror_mode": "r",
   "file_extension": ".r",
   "mimetype": "text/x-r-source",
   "name": "R",
   "pygments_lexer": "r",
   "version": "3.5.1"
  }
 },
 "nbformat": 4,
 "nbformat_minor": 2
}
