{
 "cells": [
  {
   "cell_type": "markdown",
   "metadata": {},
   "source": [
    "## Chapter 7 - Problem 12\n",
    "***"
   ]
  },
  {
   "cell_type": "markdown",
   "metadata": {},
   "source": [
    "**12.** This problem is a continuation of the previous exercise. In a toy\n",
    "example with p = 100, show that one can approximate the multiple\n",
    "linear regression coefficient estimates by repeatedly performing simple\n",
    "linear regression in a backfitting procedure. How many backfitting\n",
    "iterations are required in order to obtain a “good” approximation to\n",
    "the multiple regression coefficient estimates? Create a plot to justify\n",
    "your answer."
   ]
  },
  {
   "cell_type": "code",
   "execution_count": 122,
   "metadata": {},
   "outputs": [],
   "source": [
    "n = 1000\n",
    "p = 100\n",
    "\n",
    "set.seed(150)\n",
    "x <- matrix(nrow = n, ncol = p)\n",
    "\n",
    "means <- sample(seq(50),n,replace = TRUE)\n",
    "standard.error <- sample(seq(10),n,replace = TRUE)\n",
    "\n",
    "for (i in 1:p){    \n",
    "    x[,i] <- rnorm(n,mean = means[i],sd = standard.error[i])\n",
    "}\n",
    "\n",
    "coefs <- as.matrix(sample(seq(from = -10,to = 10),p,replace = TRUE))\n",
    "eps <- rnorm(n)\n",
    "y <- x %*% coefs +eps"
   ]
  },
  {
   "cell_type": "code",
   "execution_count": 123,
   "metadata": {},
   "outputs": [],
   "source": [
    "maxiter = 100\n",
    "beta <- rep(0,p)\n",
    "errors <- rep(NA,maxiter)\n",
    "errors[1] <- mean((y-x %*% beta)^2)\n",
    "thresh <- 1e-7\n",
    "\n",
    "for (i in 1:maxiter){\n",
    "    \n",
    "    for (j in 1:p){\n",
    "        a = y - x %*% beta + beta[j]*x[, j]\n",
    "        beta[j] = lm(a ~ x[, j])$coef[2]\n",
    "    }\n",
    "    \n",
    "    errors[i+1] = mean((y - x %*% beta)^2)\n",
    "    if (abs(errors[i]-errors[i+1]) < thresh){\n",
    "        break\n",
    "    } \n",
    "}\n",
    "\n",
    "errors <- na.omit(errors)"
   ]
  },
  {
   "cell_type": "code",
   "execution_count": 124,
   "metadata": {},
   "outputs": [
    {
     "data": {
      "image/png": "[encoded data removed]",
      "text/plain": [
       "plot without title"
      ]
     },
     "metadata": {},
     "output_type": "display_data"
    }
   ],
   "source": [
    "plot(errors[1:length(errors)],type = 'b', col = \"red\",pch = 19, xlab = \"Iteration\",ylab = \"Error\")"
   ]
  },
  {
   "cell_type": "code",
   "execution_count": 143,
   "metadata": {},
   "outputs": [
    {
     "data": {
      "text/html": [
       "0.000144771265234327"
      ],
      "text/latex": [
       "0.000144771265234327"
      ],
      "text/markdown": [
       "0.000144771265234327"
      ],
      "text/plain": [
       "[1] 0.0001447713"
      ]
     },
     "metadata": {},
     "output_type": "display_data"
    }
   ],
   "source": [
    "model.full <- lm(y~x)\n",
    "\n",
    "for (i in 1:100){\n",
    "    beta.mlr[i] <- model.full$coef[i+1]\n",
    "} \n",
    "\n",
    "coef.error <- mean((beta.mlr - coefs)^2)\n",
    "coef.error"
   ]
  },
  {
   "cell_type": "code",
   "execution_count": null,
   "metadata": {},
   "outputs": [],
   "source": []
  },
  {
   "cell_type": "code",
   "execution_count": null,
   "metadata": {},
   "outputs": [],
   "source": []
  }
 ],
 "metadata": {
  "kernelspec": {
   "display_name": "R",
   "language": "R",
   "name": "ir"
  },
  "language_info": {
   "codemirror_mode": "r",
   "file_extension": ".r",
   "mimetype": "text/x-r-source",
   "name": "R",
   "pygments_lexer": "r",
   "version": "3.5.1"
  }
 },
 "nbformat": 4,
 "nbformat_minor": 2
}
