{
 "cells": [
  {
   "cell_type": "markdown",
   "metadata": {},
   "source": [
    "## Non Linear Methods Training in R\n",
    "***"
   ]
  },
  {
   "cell_type": "code",
   "execution_count": 1,
   "metadata": {},
   "outputs": [
    {
     "name": "stderr",
     "output_type": "stream",
     "text": [
      "Loading required package: ISLR\n"
     ]
    }
   ],
   "source": [
    "require(ISLR)"
   ]
  },
  {
   "cell_type": "markdown",
   "metadata": {},
   "source": [
    "# Polynomials"
   ]
  },
  {
   "cell_type": "code",
   "execution_count": 6,
   "metadata": {},
   "outputs": [
    {
     "data": {
      "text/plain": [
       "\n",
       "Call:\n",
       "lm(formula = wage ~ poly(age, 4), data = Wage)\n",
       "\n",
       "Residuals:\n",
       "    Min      1Q  Median      3Q     Max \n",
       "-98.707 -24.626  -4.993  15.217 203.693 \n",
       "\n",
       "Coefficients:\n",
       "               Estimate Std. Error t value Pr(>|t|)    \n",
       "(Intercept)    111.7036     0.7287 153.283  < 2e-16 ***\n",
       "poly(age, 4)1  447.0679    39.9148  11.201  < 2e-16 ***\n",
       "poly(age, 4)2 -478.3158    39.9148 -11.983  < 2e-16 ***\n",
       "poly(age, 4)3  125.5217    39.9148   3.145  0.00168 ** \n",
       "poly(age, 4)4  -77.9112    39.9148  -1.952  0.05104 .  \n",
       "---\n",
       "Signif. codes:  0 '***' 0.001 '**' 0.01 '*' 0.05 '.' 0.1 ' ' 1\n",
       "\n",
       "Residual standard error: 39.91 on 2995 degrees of freedom\n",
       "Multiple R-squared:  0.08626,\tAdjusted R-squared:  0.08504 \n",
       "F-statistic: 70.69 on 4 and 2995 DF,  p-value: < 2.2e-16\n"
      ]
     },
     "metadata": {},
     "output_type": "display_data"
    }
   ],
   "source": [
    "poly.fit <- lm(wage ~ poly(age,4),data = Wage)\n",
    "summary(poly.fit)"
   ]
  },
  {
   "cell_type": "markdown",
   "metadata": {},
   "source": [
    "**Note:** Poly function does regressions by creating a basis of orthogonal polynomials which implies no correlation among variables. Columns are linear combinations of the original variables. "
   ]
  },
  {
   "cell_type": "markdown",
   "metadata": {},
   "source": [
    "agelims <- range(Wage$age)\n",
    "age.grid <- seq(from = agelims[1], to = agelims[2])\n",
    "preds <- predict(poly.fit,newdata = list(age = age.grid) ,se = TRUE)\n",
    "se.bands <- cbind(preds$fit + 2*preds$se,preds$fit - 2*preds$se)\n",
    "plot(Wage$age,Wage$wage, col = \"darkgray\",pch = 1, cex = 0.5) #data\n",
    "lines(age.grid, preds$fit, lwd = 2, col = \"blue\") # Regression\n",
    "matlines(age.grid,se.bands,col = \"green\", lwd = 2, lty = 2)"
   ]
  },
  {
   "cell_type": "markdown",
   "metadata": {},
   "source": [
    "__Other methods to fit polynomial functions__"
   ]
  },
  {
   "cell_type": "code",
   "execution_count": 28,
   "metadata": {},
   "outputs": [
    {
     "data": {
      "text/plain": [
       "\n",
       "Call:\n",
       "lm(formula = wage ~ age + I(age^2) + I(age^3) + I(age^4), data = Wage)\n",
       "\n",
       "Residuals:\n",
       "    Min      1Q  Median      3Q     Max \n",
       "-98.707 -24.626  -4.993  15.217 203.693 \n",
       "\n",
       "Coefficients:\n",
       "              Estimate Std. Error t value Pr(>|t|)    \n",
       "(Intercept) -1.842e+02  6.004e+01  -3.067 0.002180 ** \n",
       "age          2.125e+01  5.887e+00   3.609 0.000312 ***\n",
       "I(age^2)    -5.639e-01  2.061e-01  -2.736 0.006261 ** \n",
       "I(age^3)     6.811e-03  3.066e-03   2.221 0.026398 *  \n",
       "I(age^4)    -3.204e-05  1.641e-05  -1.952 0.051039 .  \n",
       "---\n",
       "Signif. codes:  0 '***' 0.001 '**' 0.01 '*' 0.05 '.' 0.1 ' ' 1\n",
       "\n",
       "Residual standard error: 39.91 on 2995 degrees of freedom\n",
       "Multiple R-squared:  0.08626,\tAdjusted R-squared:  0.08504 \n",
       "F-statistic: 70.69 on 4 and 2995 DF,  p-value: < 2.2e-16\n"
      ]
     },
     "metadata": {},
     "output_type": "display_data"
    }
   ],
   "source": [
    "poly.fit2 <- lm(wage ~ age + I(age^2)+I(age^3)+I(age^4),data = Wage)\n",
    "summary(poly.fit2)"
   ]
  },
  {
   "cell_type": "markdown",
   "metadata": {},
   "source": [
    "Note: the basis to construct the model was different. hence the P-value are different however the fitted values are the same. "
   ]
  },
  {
   "cell_type": "code",
   "execution_count": 30,
   "metadata": {},
   "outputs": [
    {
     "data": {
      "image/png": "[encoded data removed]",
      "text/plain": [
       "plot without title"
      ]
     },
     "metadata": {},
     "output_type": "display_data"
    }
   ],
   "source": [
    "plot(fitted(poly.fit),fitted(poly.fit2))"
   ]
  },
  {
   "cell_type": "markdown",
   "metadata": {},
   "source": [
    "By using orthogonal polynomials, each coefficient can be tested separately. However this method has its limitation. In general is necessary to use the anova() function to test each model."
   ]
  },
  {
   "cell_type": "code",
   "execution_count": 34,
   "metadata": {},
   "outputs": [
    {
     "data": {
      "text/html": [
       "<table>\n",
       "<thead><tr><th scope=col>Res.Df</th><th scope=col>RSS</th><th scope=col>Df</th><th scope=col>Sum of Sq</th><th scope=col>F</th><th scope=col>Pr(&gt;F)</th></tr></thead>\n",
       "<tbody>\n",
       "\t<tr><td>2995        </td><td>3995721     </td><td>NA          </td><td>       NA   </td><td>        NA  </td><td>          NA</td></tr>\n",
       "\t<tr><td>2994        </td><td>3867992     </td><td> 1          </td><td>127728.88   </td><td>102.737760  </td><td>9.215004e-24</td></tr>\n",
       "\t<tr><td>2993        </td><td>3725395     </td><td> 1          </td><td>142597.10   </td><td>114.696898  </td><td>2.728971e-26</td></tr>\n",
       "\t<tr><td>2992        </td><td>3719809     </td><td> 1          </td><td>  5586.66   </td><td>  4.493588  </td><td>3.410431e-02</td></tr>\n",
       "</tbody>\n",
       "</table>\n"
      ],
      "text/latex": [
       "\\begin{tabular}{r|llllll}\n",
       " Res.Df & RSS & Df & Sum of Sq & F & Pr(>F)\\\\\n",
       "\\hline\n",
       "\t 2995         & 3995721      & NA           &        NA    &         NA   &           NA\\\\\n",
       "\t 2994         & 3867992      &  1           & 127728.88    & 102.737760   & 9.215004e-24\\\\\n",
       "\t 2993         & 3725395      &  1           & 142597.10    & 114.696898   & 2.728971e-26\\\\\n",
       "\t 2992         & 3719809      &  1           &   5586.66    &   4.493588   & 3.410431e-02\\\\\n",
       "\\end{tabular}\n"
      ],
      "text/markdown": [
       "\n",
       "Res.Df | RSS | Df | Sum of Sq | F | Pr(>F) | \n",
       "|---|---|---|---|\n",
       "| 2995         | 3995721      | NA           |        NA    |         NA   |           NA | \n",
       "| 2994         | 3867992      |  1           | 127728.88    | 102.737760   | 9.215004e-24 | \n",
       "| 2993         | 3725395      |  1           | 142597.10    | 114.696898   | 2.728971e-26 | \n",
       "| 2992         | 3719809      |  1           |   5586.66    |   4.493588   | 3.410431e-02 | \n",
       "\n",
       "\n"
      ],
      "text/plain": [
       "  Res.Df RSS     Df Sum of Sq F          Pr(>F)      \n",
       "1 2995   3995721 NA        NA         NA           NA\n",
       "2 2994   3867992  1 127728.88 102.737760 9.215004e-24\n",
       "3 2993   3725395  1 142597.10 114.696898 2.728971e-26\n",
       "4 2992   3719809  1   5586.66   4.493588 3.410431e-02"
      ]
     },
     "metadata": {},
     "output_type": "display_data"
    }
   ],
   "source": [
    "modelA.fit <- lm(wage~education,data = Wage)\n",
    "modelB.fit <- lm(wage~education+age,data = Wage)\n",
    "modelC.fit <- lm(wage~education+poly(age,2),data = Wage)\n",
    "modelD.fit <- lm(wage~education+poly(age,3),data = Wage)\n",
    "\n",
    "anova(modelA.fit,modelB.fit,modelC.fit,modelD.fit)"
   ]
  },
  {
   "cell_type": "markdown",
   "metadata": {},
   "source": [
    "__Polynomial logistic regression__"
   ]
  },
  {
   "cell_type": "code",
   "execution_count": 61,
   "metadata": {},
   "outputs": [
    {
     "data": {
      "text/html": [
       "<table>\n",
       "<thead><tr><th></th><th scope=col>fit</th><th scope=col>lower</th><th scope=col>upper</th></tr></thead>\n",
       "<tbody>\n",
       "\t<tr><th scope=row>1</th><td>-7.664756 </td><td>-10.759826</td><td>-4.569686 </td></tr>\n",
       "\t<tr><th scope=row>2</th><td>-7.324776 </td><td>-10.106699</td><td>-4.542852 </td></tr>\n",
       "\t<tr><th scope=row>3</th><td>-7.001732 </td><td> -9.492821</td><td>-4.510643 </td></tr>\n",
       "\t<tr><th scope=row>4</th><td>-6.695229 </td><td> -8.917158</td><td>-4.473300 </td></tr>\n",
       "\t<tr><th scope=row>5</th><td>-6.404868 </td><td> -8.378691</td><td>-4.431045 </td></tr>\n",
       "\t<tr><th scope=row>6</th><td>-6.130251 </td><td> -7.876426</td><td>-4.384076 </td></tr>\n",
       "</tbody>\n",
       "</table>\n"
      ],
      "text/latex": [
       "\\begin{tabular}{r|lll}\n",
       "  & fit & lower & upper\\\\\n",
       "\\hline\n",
       "\t1 & -7.664756  & -10.759826 & -4.569686 \\\\\n",
       "\t2 & -7.324776  & -10.106699 & -4.542852 \\\\\n",
       "\t3 & -7.001732  &  -9.492821 & -4.510643 \\\\\n",
       "\t4 & -6.695229  &  -8.917158 & -4.473300 \\\\\n",
       "\t5 & -6.404868  &  -8.378691 & -4.431045 \\\\\n",
       "\t6 & -6.130251  &  -7.876426 & -4.384076 \\\\\n",
       "\\end{tabular}\n"
      ],
      "text/markdown": [
       "\n",
       "| <!--/--> | fit | lower | upper | \n",
       "|---|---|---|---|---|---|\n",
       "| 1 | -7.664756  | -10.759826 | -4.569686  | \n",
       "| 2 | -7.324776  | -10.106699 | -4.542852  | \n",
       "| 3 | -7.001732  |  -9.492821 | -4.510643  | \n",
       "| 4 | -6.695229  |  -8.917158 | -4.473300  | \n",
       "| 5 | -6.404868  |  -8.378691 | -4.431045  | \n",
       "| 6 | -6.130251  |  -7.876426 | -4.384076  | \n",
       "\n",
       "\n"
      ],
      "text/plain": [
       "  fit       lower      upper    \n",
       "1 -7.664756 -10.759826 -4.569686\n",
       "2 -7.324776 -10.106699 -4.542852\n",
       "3 -7.001732  -9.492821 -4.510643\n",
       "4 -6.695229  -8.917158 -4.473300\n",
       "5 -6.404868  -8.378691 -4.431045\n",
       "6 -6.130251  -7.876426 -4.384076"
      ]
     },
     "metadata": {},
     "output_type": "display_data"
    }
   ],
   "source": [
    "logit.fit <- glm(I(wage > 250) ~ poly(age,3),family = \"binomial\", data = Wage)\n",
    "age.lims <- range(Wage$age)\n",
    "age.grid <- seq(from = age.lims[1],to = age.lims[2])\n",
    "logit.preds <- predict(logit.fit,newdata = list(age = age.grid),se = TRUE)\n",
    "logit.se.bands <- logit.preds$fit + cbind(fit = 0, lower = -2*logit.preds$se,upper = 2*logit.preds$se)\n",
    "head(logit.se.bands)"
   ]
  },
  {
   "cell_type": "markdown",
   "metadata": {},
   "source": [
    "Calculation have been done in the logit scale, to obtain the probabilities we have to transform it back to the original scale.\n",
    "\n",
    "$$ p = \\frac{e^\\eta}{1+e^\\eta} $$"
   ]
  },
  {
   "cell_type": "code",
   "execution_count": 67,
   "metadata": {},
   "outputs": [
    {
     "data": {
      "image/png": "[encoded data removed]",
      "text/plain": [
       "plot without title"
      ]
     },
     "metadata": {},
     "output_type": "display_data"
    }
   ],
   "source": [
    "prob.bands = exp(logit.se.bands)/(1+exp(logit.se.bands))\n",
    "matplot(age.grid,prob.bands,col = \"blue\", lwd = c(2,1,1),lty = c(1,2,2)\n",
    "       ,type = \"l\",ylim = c(0,0.1))\n",
    "points(jitter(Wage$age),I(Wage$wage>250)/10,pch = \"l\",cex = 0.5)"
   ]
  },
  {
   "cell_type": "code",
   "execution_count": null,
   "metadata": {},
   "outputs": [],
   "source": []
  }
 ],
 "metadata": {
  "kernelspec": {
   "display_name": "R",
   "language": "R",
   "name": "ir"
  },
  "language_info": {
   "codemirror_mode": "r",
   "file_extension": ".r",
   "mimetype": "text/x-r-source",
   "name": "R",
   "pygments_lexer": "r",
   "version": "3.5.1"
  }
 },
 "nbformat": 4,
 "nbformat_minor": 2
}
