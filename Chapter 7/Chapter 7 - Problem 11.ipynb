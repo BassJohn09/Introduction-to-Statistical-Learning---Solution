{
 "cells": [
  {
   "cell_type": "markdown",
   "metadata": {},
   "source": [
    "## Chapter 7 - Problem 11\n",
    "***"
   ]
  },
  {
   "cell_type": "markdown",
   "metadata": {},
   "source": [
    "**11.** In Section 7.7, it was mentioned that GAMs are generally fit using\n",
    "a backfitting approach. The idea behind backfitting is actually quite\n",
    "simple. We will now explore backfitting in the context of multiple\n",
    "linear regression."
   ]
  },
  {
   "cell_type": "markdown",
   "metadata": {},
   "source": [
    "**A.** Generate a response Y and two predictors $X_1$ and $X_2$, with\n",
    "n = 100."
   ]
  },
  {
   "cell_type": "code",
   "execution_count": 217,
   "metadata": {},
   "outputs": [],
   "source": [
    "set.seed(300)\n",
    "\n",
    "x1 <- rnorm(n = 100,mean = 70,sd = 30)\n",
    "x2 <- rnorm(n = 100,mean = 10,sd = 5)\n",
    "y <- 0.3+5.43*x1-9.75*x2+rnorm(n = 100)\n"
   ]
  },
  {
   "cell_type": "markdown",
   "metadata": {},
   "source": [
    "**B.** Initialize $\\hat{\\beta}_1$ to take on a value of your choice. It does not matter\n",
    "what value you choose."
   ]
  },
  {
   "cell_type": "code",
   "execution_count": 218,
   "metadata": {},
   "outputs": [],
   "source": [
    "b1 <- rep(NA,1000)\n",
    "b2 <- rep(NA,1000)\n",
    "b0 <- rep(NA,1000)\n",
    "b1[1] = 10"
   ]
  },
  {
   "cell_type": "markdown",
   "metadata": {},
   "source": [
    "**C.** Keeping $\\hat{\\beta}_1$  fixed, fit the model\n",
    "$$ Y − \\hat{\\beta}_1X_1 = \\beta_0 + \\beta_2X_2 + \\epsilon$$"
   ]
  },
  {
   "cell_type": "code",
   "execution_count": 219,
   "metadata": {},
   "outputs": [],
   "source": [
    "a <- y-b1[1]*x1\n",
    "model.b2 <- glm(a~x2)\n",
    "b2[1] <- model.b2$coef[2]"
   ]
  },
  {
   "cell_type": "markdown",
   "metadata": {},
   "source": [
    "**D.** Keeping $\\hat{\\beta}_2$  fixed, fit the model\n",
    "$$ Y − \\hat{\\beta}_2X_2 = \\beta_0 + \\beta_1X_1 + \\epsilon$$"
   ]
  },
  {
   "cell_type": "code",
   "execution_count": 220,
   "metadata": {},
   "outputs": [],
   "source": [
    "a <- y-b2[1]*x2\n",
    "model.b1 <- lm(a~x1)\n",
    "b0[1] <- model.b1$coef[1]\n",
    "b1[2] <- model.b1$coef[2]"
   ]
  },
  {
   "cell_type": "markdown",
   "metadata": {},
   "source": [
    "**E.** Write a for loop to repeat (c) and (d) 1,000 times. Report the\n",
    "estimates of $\\hat{\\beta}_0$, $\\hat{\\beta}_1$, and $\\hat{\\beta}_2$ at each iteration of the for loop.\n",
    "Create a plot in which each of these values is displayed, with $\\hat{\\beta}_0$,\n",
    "$\\hat{\\beta}_1$, and $\\hat{\\beta}_2$ each shown in a different color."
   ]
  },
  {
   "cell_type": "code",
   "execution_count": 221,
   "metadata": {},
   "outputs": [],
   "source": [
    "for (i in 1:1000){\n",
    "    a <- y-b1[i]*x1\n",
    "    model.b2 <- glm(a~x2)\n",
    "    b2[i] <- model.b2$coef[2]\n",
    "    c <- y-b2[i]*x2\n",
    "    model.b1 <- lm(c~x1)\n",
    "    b0[i] <- model.b1$coef[1]\n",
    "    b1[i+1] <- model.b1$coef[2]\n",
    "}\n",
    "\n",
    "b1 <- b1[-1001]"
   ]
  },
  {
   "cell_type": "code",
   "execution_count": 222,
   "metadata": {},
   "outputs": [
    {
     "data": {
      "image/png": "[encoded data removed]",
      "text/plain": [
       "Plot with title \"Convergence of the coefficients\""
      ]
     },
     "metadata": {},
     "output_type": "display_data"
    }
   ],
   "source": [
    "min.value <- min(apply(cbind(b0,b1,b2),1,min))\n",
    "max.value <- max(apply(cbind(b0,b1,b2),1,max))\n",
    "plot(b0[1:20],col = \"Blue\",main = \"Convergence of the coefficients\",\n",
    "     pch = 19,type = \"b\", lwd = 0.5, ylim = c(min.value,max.value),xlab = \"Iteration\",ylab = \"Coefficient\")\n",
    "lines(b1[1:20],col = \"Green\",pch = 19,type = \"b\", lwd = 0.5)\n",
    "lines(b2[1:20],col = \"Purple\",pch = 19,type = \"b\", lwd = 0.5)\n",
    "legend(\"bottomright\", legend=c(\"β0\", \"β1\",\"β2\"),\n",
    "       col=c(\"blue\", \"green\",\"purple\"), lty=1, cex=0.8)\n"
   ]
  },
  {
   "cell_type": "markdown",
   "metadata": {},
   "source": [
    "**F.** Compare your answer in (e) to the results of simply performing\n",
    "multiple linear regression to predict Y using $X_1$ and $X_2$. Use\n",
    "the abline() function to overlay those multiple linear regression\n",
    "coefficient estimates on the plot obtained in (e)."
   ]
  },
  {
   "cell_type": "code",
   "execution_count": 223,
   "metadata": {},
   "outputs": [],
   "source": [
    "model.full <- glm(y~x1+x2)\n",
    "beta0 <- model.full$coef[1]\n",
    "beta1 <- model.full$coef[2]\n",
    "beta2 <- model.full$coef[3]\n"
   ]
  },
  {
   "cell_type": "code",
   "execution_count": 224,
   "metadata": {},
   "outputs": [
    {
     "data": {
      "image/png": "[encoded data removed]",
      "text/plain": [
       "Plot with title \"Convergence of the coefficients\""
      ]
     },
     "metadata": {},
     "output_type": "display_data"
    }
   ],
   "source": [
    "plot(b0[1:10],col = \"Blue\",main = \"Convergence of the coefficients\",\n",
    "     pch = 19,type = \"b\", lwd = 0.5, ylim = c(min.value,max.value),xlab = \"Iteration\",ylab = \"Coefficient\")\n",
    "lines(b1[1:10],col = \"Green\",pch = 19,type = \"b\", lwd = 0.5)\n",
    "lines(b2[1:10],col = \"Purple\",pch = 19,type = \"b\", lwd = 0.5)\n",
    "legend(\"bottomright\", legend=c(\"β0\", \"β1\",\"β2\"),\n",
    "       col=c(\"blue\", \"green\",\"purple\"), lty=1, cex=0.8)\n",
    "abline(h = c(beta0,beta1,beta2))"
   ]
  },
  {
   "cell_type": "markdown",
   "metadata": {},
   "source": [
    "**G.** On this data set, how many backfitting iterations were required\n",
    "in order to obtain a “good” approximation to the multiple regression\n",
    "coefficient estimates?"
   ]
  },
  {
   "cell_type": "markdown",
   "metadata": {},
   "source": [
    "Only one iteration was enough to get a reasonable approximation to the multiple regression coefficient estimates."
   ]
  },
  {
   "cell_type": "code",
   "execution_count": null,
   "metadata": {},
   "outputs": [],
   "source": []
  }
 ],
 "metadata": {
  "kernelspec": {
   "display_name": "R",
   "language": "R",
   "name": "ir"
  },
  "language_info": {
   "codemirror_mode": "r",
   "file_extension": ".r",
   "mimetype": "text/x-r-source",
   "name": "R",
   "pygments_lexer": "r",
   "version": "3.5.1"
  }
 },
 "nbformat": 4,
 "nbformat_minor": 2
}
